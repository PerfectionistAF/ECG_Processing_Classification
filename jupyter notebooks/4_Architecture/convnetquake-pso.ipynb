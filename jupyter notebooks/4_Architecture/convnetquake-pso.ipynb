{
 "cells": [
  {
   "cell_type": "markdown",
   "id": "b2916cfb",
   "metadata": {},
   "source": [
    "# Optmiziation of Deep Learning for Cardiologist-level Myocardial Infarction Detection in Electrocardiograms"
   ]
  },
  {
   "cell_type": "code",
   "execution_count": 1,
   "id": "bbd4d469",
   "metadata": {},
   "outputs": [],
   "source": [
    "## Many neural networks we tested: AlexNet, ResNet50, Gradient Boosting CNN, ConvNetQuake\n",
    "## the best one so far is the ConvQuakeNet\n",
    "\n",
    "##start by processing the data\n",
    "##then create the nn.Model subclass\n",
    "##then call the Pso(forward function of model)\n",
    "##then return loss score; ie optimize hyperparameters for search convergence"
   ]
  },
  {
   "cell_type": "code",
   "execution_count": 26,
   "id": "90d6bcb5",
   "metadata": {},
   "outputs": [],
   "source": [
    "##extract data in dataframes, use 2 channels, v6: anterior lead, vz: left wrist lead\n",
    "##two most prominent in myocardial infarction diagnosis\n",
    "## no cleaning required, data is clean\n",
    "from __future__ import print_function\n",
    "import numpy as np\n",
    "import torch\n",
    "import torch.nn as nn\n",
    "import torch.nn.functional as F\n",
    "import os\n",
    "import matplotlib.pyplot as plt\n",
    "import seaborn as sns\n",
    "plt.switch_backend('agg')\n",
    "import wfdb\n",
    "import time\n",
    "import random\n",
    "from sklearn.preprocessing import minmax_scale\n",
    "import sys\n",
    "from torch.utils.tensorboard import SummaryWriter\n",
    "from sklearn.metrics import confusion_matrix,roc_curve, auc\n",
    "#pip install PyQt6\n",
    "##alternative to ensure matplotlib('agg') backend\n",
    "%matplotlib inline  "
   ]
  },
  {
   "cell_type": "code",
   "execution_count": 3,
   "id": "e06119cf-84fc-4bef-a100-daf149dd60fe",
   "metadata": {},
   "outputs": [],
   "source": [
    "#!pip install torch_pso"
   ]
  },
  {
   "cell_type": "code",
   "execution_count": 3,
   "id": "2b676ca9",
   "metadata": {},
   "outputs": [],
   "source": [
    "from torch.nn import Sequential, Linear, MSELoss\n",
    "from torch_pso import ParticleSwarmOptimizer"
   ]
  },
  {
   "cell_type": "code",
   "execution_count": 4,
   "id": "065c6c16",
   "metadata": {},
   "outputs": [
    {
     "data": {
      "text/plain": [
       "False"
      ]
     },
     "execution_count": 4,
     "metadata": {},
     "output_type": "execute_result"
    }
   ],
   "source": [
    "torch.cuda.is_available()"
   ]
  },
  {
   "cell_type": "code",
   "execution_count": 5,
   "id": "362d7089",
   "metadata": {},
   "outputs": [
    {
     "data": {
      "text/plain": [
       "'2.3.0+cpu'"
      ]
     },
     "execution_count": 5,
     "metadata": {},
     "output_type": "execute_result"
    }
   ],
   "source": [
    "torch.__version__"
   ]
  },
  {
   "cell_type": "code",
   "execution_count": null,
   "id": "922dd8d7",
   "metadata": {},
   "outputs": [],
   "source": [
    "#pip install numpy --pre torch torchvision torchaudio --force-reinstall --index-url https://download.pytorch.org/whl/nightly/cu117"
   ]
  },
  {
   "cell_type": "code",
   "execution_count": 6,
   "id": "289685fb",
   "metadata": {},
   "outputs": [
    {
     "data": {
      "text/plain": [
       "False"
      ]
     },
     "execution_count": 6,
     "metadata": {},
     "output_type": "execute_result"
    }
   ],
   "source": [
    "torch.cuda.is_available()"
   ]
  },
  {
   "cell_type": "code",
   "execution_count": 7,
   "id": "f21dd22e",
   "metadata": {},
   "outputs": [],
   "source": [
    "from keras.models import Sequential\n",
    "from keras.layers import Dense, Dropout, LSTM, BatchNormalization\n",
    "from keras.callbacks import TensorBoard\n",
    "from keras.callbacks import ModelCheckpoint\n",
    "from keras.optimizers import SGD  ##use the 2 apis PyTorch and KerasCV, KerasCV is easier"
   ]
  },
  {
   "cell_type": "markdown",
   "id": "3c55d179-53d4-4c2e-9623-e345afa3f6c7",
   "metadata": {},
   "source": [
    "# _______________END OF ptb_data_prepare.py_____________________"
   ]
  },
  {
   "cell_type": "code",
   "execution_count": 8,
   "id": "4acea417-4be2-421c-ba61-9d30827ba627",
   "metadata": {},
   "outputs": [],
   "source": [
    "%run ptb_data_prepare.ipynb"
   ]
  },
  {
   "cell_type": "code",
   "execution_count": 9,
   "id": "c2b6ff69",
   "metadata": {},
   "outputs": [],
   "source": [
    "##keras sequential model\n",
    "from keras.models import Sequential\n",
    "from keras.layers import Dense, Dropout, Flatten\n",
    "from keras.layers import Conv2D, MaxPooling2D\n",
    "import copy"
   ]
  },
  {
   "cell_type": "code",
   "execution_count": 96,
   "id": "0bea2c34",
   "metadata": {},
   "outputs": [],
   "source": [
    "class ConvNetQuake(nn.Module):##issues with keras attributes, use PyTorch\n",
    "    def __init__(self):\n",
    "        super(ConvNetQuake, self).__init__()\n",
    "        self.conv1 = nn.Conv1d(in_channels=3, out_channels=32, kernel_size=3, stride=2, padding=1)\n",
    "        self.conv2 = nn.Conv1d(in_channels=32, out_channels=32, kernel_size=3, stride=2, padding=1)\n",
    "        self.conv3 = nn.Conv1d(in_channels=32, out_channels=32, kernel_size=3, stride=2, padding=1)\n",
    "        self.conv4 = nn.Conv1d(in_channels=32, out_channels=32, kernel_size=3, stride=2, padding=1)\n",
    "        self.conv5 = nn.Conv1d(in_channels=32, out_channels=32, kernel_size=3, stride=2, padding=1)\n",
    "        self.conv6 = nn.Conv1d(in_channels=32, out_channels=32, kernel_size=3, stride=2, padding=1)\n",
    "        self.conv7 = nn.Conv1d(in_channels=32, out_channels=32, kernel_size=3, stride=2, padding=1)\n",
    "        self.conv8 = nn.Conv1d(in_channels=32, out_channels=32, kernel_size=3, stride=2, padding=1)\n",
    "        self.linear1 = nn.Linear(1280, 128)\n",
    "        #self.linear1 = nn.Linear(4096, 10)\n",
    "        self.linear2 = nn.Linear(128, 1)\n",
    "        #self.linear2 = nn.Linear(10, 1)\n",
    "        self.sigmoid = nn.Sigmoid()\n",
    "        self.bn1 = nn.BatchNorm1d(32)\n",
    "        self.bn2 = nn.BatchNorm1d(32)\n",
    "        self.bn3 = nn.BatchNorm1d(32)\n",
    "        self.bn4 = nn.BatchNorm1d(32)\n",
    "        self.bn5 = nn.BatchNorm1d(32)\n",
    "        self.bn6 = nn.BatchNorm1d(32)\n",
    "        self.bn7 = nn.BatchNorm1d(32)\n",
    "        self.bn8 = nn.BatchNorm1d(32)\n",
    "        '''self.conv1 = keras.layers.Conv1D(kernel_size=3, stride=2, padding=1, data_format=(batch, features, steps))(x)\n",
    "        self.dense2 = keras.layers.Dense(5, activation=\"softmax\")\n",
    "        self.dropout = keras.layers.Dropout(0.5)'''\n",
    "\n",
    "    def forward(self, x):  ##x is preliminary input\n",
    "        x = self.bn1(F.relu((self.conv1(x))))\n",
    "        x = self.bn2(F.relu((self.conv2(x))))\n",
    "        x = self.bn3(F.relu((self.conv3(x))))\n",
    "        x = self.bn4(F.relu((self.conv4(x))))\n",
    "        x = self.bn5(F.relu((self.conv5(x))))\n",
    "        x = self.bn6(F.relu((self.conv6(x))))\n",
    "        x = self.bn7(F.relu((self.conv7(x))))\n",
    "        x = self.bn8(F.relu((self.conv8(x))))\n",
    "        #x = torch.reshape(x, (10, -1))\n",
    "        x = torch.reshape(x, (16, -1))\n",
    "        x = self.linear1(x)\n",
    "        x = self.linear2(x)\n",
    "        x = self.sigmoid(x)\n",
    "        '''x = self.dense1(inputs)\n",
    "        x = self.dropout(x, training=training)\n",
    "        return self.dense2(x)'''\n",
    "        return x"
   ]
  },
  {
   "cell_type": "code",
   "execution_count": 97,
   "id": "1d47f4a8-0c00-4990-93ec-a31ca9bb5715",
   "metadata": {},
   "outputs": [],
   "source": [
    "model = ConvNetQuake()\n",
    "#model.cuda() ##compute engine device\n",
    "\n",
    "model = nn.DataParallel(model, device_ids=[0])"
   ]
  },
  {
   "cell_type": "code",
   "execution_count": 98,
   "id": "a6ce5301-f201-4449-9d97-e762772bf7b7",
   "metadata": {},
   "outputs": [],
   "source": [
    "batchnorm_layers = [model.module.bn1, model.module.bn2, model.module.bn3, model.module.bn4\n",
    "                   , model.module.bn5, model.module.bn6, model.module.bn7, model.module.bn8]"
   ]
  },
  {
   "cell_type": "code",
   "execution_count": 99,
   "id": "7c11fb9c-1144-415a-9d5e-94b4c2a9548b",
   "metadata": {},
   "outputs": [],
   "source": [
    "for batch_norm_layer in batchnorm_layers:\n",
    "    batch_norm_layer.running_mean = nn.Parameter(torch.full_like(batch_norm_layer.running_mean, 27.0))\n",
    "    batch_norm_layer.running_mean.requires_grad = False"
   ]
  },
  {
   "cell_type": "code",
   "execution_count": 100,
   "id": "47ff32b3-228f-4edc-a70c-ec6bf0fbe50b",
   "metadata": {},
   "outputs": [
    {
     "data": {
      "text/plain": [
       "BatchNorm1d(32, eps=1e-05, momentum=0.1, affine=True, track_running_stats=True)"
      ]
     },
     "execution_count": 100,
     "metadata": {},
     "output_type": "execute_result"
    }
   ],
   "source": [
    "batchnorm_layers[0]"
   ]
  },
  {
   "cell_type": "markdown",
   "id": "25a2166b-e072-404d-9d03-58590203c043",
   "metadata": {},
   "source": [
    "#### TRIAL ONE OF TRAINING, WITHOUT CONFUSION MATRIX AND ROC"
   ]
  },
  {
   "cell_type": "code",
   "execution_count": 31,
   "id": "6c1a97ea",
   "metadata": {
    "scrolled": true
   },
   "outputs": [
    {
     "name": "stdout",
     "output_type": "stream",
     "text": [
      "Loss/train tensor(0.7084, grad_fn=<BinaryCrossEntropyBackward0>) 100\n",
      "Accuracy/val 66.9 100\n",
      "Accuracy/train 72.0 100\n",
      "Loss/train tensor(0.7615, grad_fn=<BinaryCrossEntropyBackward0>) 200\n",
      "Accuracy/val 67.0 200\n",
      "Accuracy/train 73.2 200\n",
      "Loss/train tensor(0.7655, grad_fn=<BinaryCrossEntropyBackward0>) 300\n",
      "Accuracy/val 72.0 300\n",
      "Accuracy/train 70.9 300\n",
      "Loss/train tensor(0.6920, grad_fn=<BinaryCrossEntropyBackward0>) 400\n",
      "Accuracy/val 70.8 400\n",
      "Accuracy/train 72.3 400\n",
      "Loss/train tensor(0.6735, grad_fn=<BinaryCrossEntropyBackward0>) 500\n",
      "Accuracy/val 70.1 500\n",
      "Accuracy/train 73.5 500\n",
      "Loss/train tensor(0.6922, grad_fn=<BinaryCrossEntropyBackward0>) 600\n",
      "Accuracy/val 73.6 600\n",
      "Accuracy/train 71.3 600\n",
      "Loss/train tensor(0.6982, grad_fn=<BinaryCrossEntropyBackward0>) 700\n",
      "Accuracy/val 66.5 700\n",
      "Accuracy/train 71.9 700\n",
      "Loss/train tensor(0.7117, grad_fn=<BinaryCrossEntropyBackward0>) 800\n",
      "Accuracy/val 70.4 800\n",
      "Accuracy/train 72.0 800\n",
      "Loss/train tensor(0.6849, grad_fn=<BinaryCrossEntropyBackward0>) 900\n",
      "Accuracy/val 69.5 900\n",
      "Accuracy/train 68.5 900\n",
      "Loss/train tensor(0.7485, grad_fn=<BinaryCrossEntropyBackward0>) 1000\n",
      "Accuracy/val 73.1 1000\n",
      "Accuracy/train 70.2 1000\n",
      "Loss/train tensor(0.7130, grad_fn=<BinaryCrossEntropyBackward0>) 1100\n",
      "Accuracy/val 72.2 1100\n",
      "Accuracy/train 71.0 1100\n",
      "Loss/train tensor(0.7168, grad_fn=<BinaryCrossEntropyBackward0>) 1200\n",
      "Accuracy/val 70.1 1200\n",
      "Accuracy/train 69.4 1200\n",
      "Loss/train tensor(0.6940, grad_fn=<BinaryCrossEntropyBackward0>) 1300\n",
      "Accuracy/val 69.7 1300\n",
      "Accuracy/train 70.1 1300\n",
      "Loss/train tensor(0.7798, grad_fn=<BinaryCrossEntropyBackward0>) 1400\n",
      "Accuracy/val 72.3 1400\n",
      "Accuracy/train 68.5 1400\n",
      "Loss/train tensor(0.7249, grad_fn=<BinaryCrossEntropyBackward0>) 1500\n",
      "Accuracy/val 71.5 1500\n",
      "Accuracy/train 71.9 1500\n",
      "Loss/train tensor(0.7387, grad_fn=<BinaryCrossEntropyBackward0>) 1600\n",
      "Accuracy/val 70.6 1600\n",
      "Accuracy/train 68.2 1600\n",
      "Loss/train tensor(0.7371, grad_fn=<BinaryCrossEntropyBackward0>) 1700\n",
      "Accuracy/val 71.9 1700\n",
      "Accuracy/train 70.8 1700\n",
      "Loss/train tensor(0.7060, grad_fn=<BinaryCrossEntropyBackward0>) 1800\n",
      "Accuracy/val 73.4 1800\n",
      "Accuracy/train 71.2 1800\n",
      "Loss/train tensor(0.7685, grad_fn=<BinaryCrossEntropyBackward0>) 1900\n",
      "Accuracy/val 70.1 1900\n",
      "Accuracy/train 66.6 1900\n",
      "Loss/train tensor(0.7760, grad_fn=<BinaryCrossEntropyBackward0>) 2000\n",
      "Accuracy/val 71.6 2000\n",
      "Accuracy/train 70.6 2000\n",
      "Loss/train tensor(0.7036, grad_fn=<BinaryCrossEntropyBackward0>) 2100\n",
      "Accuracy/val 71.8 2100\n",
      "Accuracy/train 71.3 2100\n",
      "Loss/train tensor(0.6791, grad_fn=<BinaryCrossEntropyBackward0>) 2200\n",
      "Accuracy/val 72.3 2200\n",
      "Accuracy/train 74.5 2200\n",
      "Loss/train tensor(0.7477, grad_fn=<BinaryCrossEntropyBackward0>) 2300\n",
      "Accuracy/val 70.5 2300\n",
      "Accuracy/train 71.6 2300\n",
      "Loss/train tensor(0.7518, grad_fn=<BinaryCrossEntropyBackward0>) 2400\n",
      "Accuracy/val 74.5 2400\n",
      "Accuracy/train 70.0 2400\n",
      "Loss/train tensor(0.7475, grad_fn=<BinaryCrossEntropyBackward0>) 2500\n",
      "Accuracy/val 74.2 2500\n",
      "Accuracy/train 68.6 2500\n",
      "Loss/train tensor(0.7559, grad_fn=<BinaryCrossEntropyBackward0>) 2600\n",
      "Accuracy/val 74.3 2600\n",
      "Accuracy/train 70.0 2600\n",
      "Loss/train tensor(0.6723, grad_fn=<BinaryCrossEntropyBackward0>) 2700\n",
      "Accuracy/val 72.8 2700\n",
      "Accuracy/train 67.6 2700\n",
      "Loss/train tensor(0.7352, grad_fn=<BinaryCrossEntropyBackward0>) 2800\n",
      "Accuracy/val 69.0 2800\n",
      "Accuracy/train 71.5 2800\n",
      "Loss/train tensor(0.7200, grad_fn=<BinaryCrossEntropyBackward0>) 2900\n",
      "Accuracy/val 70.6 2900\n",
      "Accuracy/train 73.2 2900\n",
      "Loss/train tensor(0.6812, grad_fn=<BinaryCrossEntropyBackward0>) 3000\n",
      "Accuracy/val 70.7 3000\n",
      "Accuracy/train 69.2 3000\n",
      "Loss/train tensor(0.7694, grad_fn=<BinaryCrossEntropyBackward0>) 3100\n",
      "Accuracy/val 71.3 3100\n",
      "Accuracy/train 70.6 3100\n",
      "Loss/train tensor(0.7077, grad_fn=<BinaryCrossEntropyBackward0>) 3200\n",
      "Accuracy/val 66.5 3200\n",
      "Accuracy/train 68.4 3200\n",
      "Loss/train tensor(0.7269, grad_fn=<BinaryCrossEntropyBackward0>) 3300\n",
      "Accuracy/val 71.7 3300\n",
      "Accuracy/train 70.7 3300\n",
      "Loss/train tensor(0.7027, grad_fn=<BinaryCrossEntropyBackward0>) 3400\n",
      "Accuracy/val 70.8 3400\n",
      "Accuracy/train 70.3 3400\n",
      "Loss/train tensor(0.6982, grad_fn=<BinaryCrossEntropyBackward0>) 3500\n",
      "Accuracy/val 71.6 3500\n",
      "Accuracy/train 70.7 3500\n",
      "Loss/train tensor(0.7050, grad_fn=<BinaryCrossEntropyBackward0>) 3600\n",
      "Accuracy/val 72.7 3600\n",
      "Accuracy/train 70.7 3600\n",
      "Loss/train tensor(0.6904, grad_fn=<BinaryCrossEntropyBackward0>) 3700\n",
      "Accuracy/val 70.3 3700\n",
      "Accuracy/train 71.5 3700\n",
      "Loss/train tensor(0.6671, grad_fn=<BinaryCrossEntropyBackward0>) 3800\n",
      "Accuracy/val 74.3 3800\n",
      "Accuracy/train 68.7 3800\n",
      "Loss/train tensor(0.7257, grad_fn=<BinaryCrossEntropyBackward0>) 3900\n",
      "Accuracy/val 71.6 3900\n",
      "Accuracy/train 69.4 3900\n",
      "Loss/train tensor(0.7476, grad_fn=<BinaryCrossEntropyBackward0>) 4000\n",
      "Accuracy/val 72.1 4000\n",
      "Accuracy/train 71.7 4000\n",
      "Loss/train tensor(0.7144, grad_fn=<BinaryCrossEntropyBackward0>) 4100\n",
      "Accuracy/val 73.6 4100\n",
      "Accuracy/train 71.0 4100\n",
      "Loss/train tensor(0.8130, grad_fn=<BinaryCrossEntropyBackward0>) 4200\n",
      "Accuracy/val 69.9 4200\n",
      "Accuracy/train 69.4 4200\n",
      "Loss/train tensor(0.6674, grad_fn=<BinaryCrossEntropyBackward0>) 4300\n",
      "Accuracy/val 70.5 4300\n",
      "Accuracy/train 71.8 4300\n",
      "Loss/train tensor(0.6806, grad_fn=<BinaryCrossEntropyBackward0>) 4400\n",
      "Accuracy/val 71.3 4400\n",
      "Accuracy/train 67.7 4400\n",
      "Loss/train tensor(0.7697, grad_fn=<BinaryCrossEntropyBackward0>) 4500\n",
      "Accuracy/val 74.3 4500\n",
      "Accuracy/train 69.8 4500\n",
      "Loss/train tensor(0.7506, grad_fn=<BinaryCrossEntropyBackward0>) 4600\n",
      "Accuracy/val 70.2 4600\n",
      "Accuracy/train 69.7 4600\n",
      "Loss/train tensor(0.6569, grad_fn=<BinaryCrossEntropyBackward0>) 4700\n",
      "Accuracy/val 69.2 4700\n",
      "Accuracy/train 72.1 4700\n",
      "Loss/train tensor(0.6963, grad_fn=<BinaryCrossEntropyBackward0>) 4800\n",
      "Accuracy/val 73.2 4800\n",
      "Accuracy/train 70.3 4800\n",
      "Loss/train tensor(0.7447, grad_fn=<BinaryCrossEntropyBackward0>) 4900\n",
      "Accuracy/val 71.8 4900\n",
      "Accuracy/train 69.4 4900\n"
     ]
    }
   ],
   "source": [
    "#model = ConvNetQuake()\n",
    "#model.cuda() ##compute engine device\n",
    "\n",
    "#model = nn.DataParallel(model, device_ids=[0])\n",
    "optimizer = torch.optim.Adam(model.parameters(), lr=1.0e-4)\n",
    "pso_optimizer = ParticleSwarmOptimizer(model.parameters(),\n",
    "                               inertial_weight=0.5,\n",
    "                               num_particles=100,\n",
    "                               max_param_value=1,\n",
    "                               min_param_value=-1)\n",
    "criterion = nn.BCELoss()\n",
    "##run the model now\n",
    "num_iters = 5000\n",
    "batch_size = 16\n",
    "\n",
    "acc_values = []\n",
    "acc_values_train = []\n",
    "avg_loss = []\n",
    "#val_loss = []\n",
    "for iters in range(num_iters):\n",
    "    batch_x, batch_y = get_batch(batch_size, split='train')\n",
    "    y_pred = model(batch_x)\n",
    "    \n",
    "    def closure():\n",
    "        # Clear any grads from before the optimization step, since we will be changing the parameters\n",
    "        optimizer.zero_grad()  \n",
    "        return criterion(y_pred, batch_y)\n",
    "    \n",
    "    loss = criterion(y_pred, batch_y)\n",
    "    optimizer.zero_grad()\n",
    "    loss.backward()\n",
    "    optimizer.step(closure)\n",
    "    \n",
    "    # validation\n",
    "    if iters%100 == 0 and iters != 0:\n",
    "\n",
    "        print('Loss/train', loss, iters)\n",
    "        avg_loss.append(loss)\n",
    "        with torch.no_grad():\n",
    "\n",
    "            # test_set\n",
    "            iterations = 100\n",
    "            avg_acc = 0\n",
    "\n",
    "            for _ in range(iterations):\n",
    "                batch_x, batch_y = get_batch(batch_size, split='val')\n",
    "                cleaned = model(batch_x)\n",
    "\n",
    "                count = 0\n",
    "                acc = 0\n",
    "                for num in cleaned:\n",
    "                    if int(torch.round(num)) == int(torch.round(batch_y[count])):\n",
    "                        acc += 10\n",
    "                    count += 1\n",
    "                avg_acc += acc\n",
    "\n",
    "            acc_values.append((avg_acc / iterations))\n",
    "            print('Accuracy/val', (avg_acc / iterations), iters)\n",
    "\n",
    "            # train_set\n",
    "            iterations = 100\n",
    "            avg_acc = 0\n",
    "\n",
    "            for _ in range(iterations):\n",
    "                batch_x, batch_y = get_batch(batch_size, split='train')\n",
    "                cleaned = model(batch_x)\n",
    "\n",
    "                count = 0\n",
    "                acc = 0\n",
    "                for num in cleaned:\n",
    "                    if int(torch.round(num)) == int(torch.round(batch_y[count])):\n",
    "                        acc += 10\n",
    "                    count += 1\n",
    "                avg_acc += acc\n",
    "\n",
    "            \n",
    "            acc_values_train.append((avg_acc / iterations))\n",
    "            print('Accuracy/train', (avg_acc / iterations), iters)"
   ]
  },
  {
   "cell_type": "code",
   "execution_count": 93,
   "id": "73eac58f-0496-4027-9803-78a9bef6655d",
   "metadata": {
    "scrolled": true
   },
   "outputs": [
    {
     "data": {
      "text/plain": [
       "<bound method Module.parameters of DataParallel(\n",
       "  (module): ConvNetQuake(\n",
       "    (conv1): Conv1d(3, 27, kernel_size=(3,), stride=(2,), padding=(1,))\n",
       "    (conv2): Conv1d(27, 27, kernel_size=(3,), stride=(2,), padding=(1,))\n",
       "    (conv3): Conv1d(27, 27, kernel_size=(3,), stride=(2,), padding=(1,))\n",
       "    (conv4): Conv1d(27, 27, kernel_size=(3,), stride=(2,), padding=(1,))\n",
       "    (conv5): Conv1d(27, 27, kernel_size=(3,), stride=(2,), padding=(1,))\n",
       "    (conv6): Conv1d(27, 27, kernel_size=(3,), stride=(2,), padding=(1,))\n",
       "    (conv7): Conv1d(27, 27, kernel_size=(3,), stride=(2,), padding=(1,))\n",
       "    (conv8): Conv1d(27, 27, kernel_size=(3,), stride=(2,), padding=(1,))\n",
       "    (linear1): Linear(in_features=1280, out_features=128, bias=True)\n",
       "    (linear2): Linear(in_features=128, out_features=1, bias=True)\n",
       "    (sigmoid): Sigmoid()\n",
       "    (bn1): BatchNorm1d(27, eps=1e-05, momentum=0.1, affine=True, track_running_stats=True)\n",
       "    (bn2): BatchNorm1d(27, eps=1e-05, momentum=0.1, affine=True, track_running_stats=True)\n",
       "    (bn3): BatchNorm1d(27, eps=1e-05, momentum=0.1, affine=True, track_running_stats=True)\n",
       "    (bn4): BatchNorm1d(27, eps=1e-05, momentum=0.1, affine=True, track_running_stats=True)\n",
       "    (bn5): BatchNorm1d(27, eps=1e-05, momentum=0.1, affine=True, track_running_stats=True)\n",
       "    (bn6): BatchNorm1d(27, eps=1e-05, momentum=0.1, affine=True, track_running_stats=True)\n",
       "    (bn7): BatchNorm1d(27, eps=1e-05, momentum=0.1, affine=True, track_running_stats=True)\n",
       "    (bn8): BatchNorm1d(27, eps=1e-05, momentum=0.1, affine=True, track_running_stats=True)\n",
       "  )\n",
       ")>"
      ]
     },
     "execution_count": 93,
     "metadata": {},
     "output_type": "execute_result"
    }
   ],
   "source": [
    "model.parameters"
   ]
  },
  {
   "cell_type": "markdown",
   "id": "e67e27e7-e99d-4c44-8331-3ac1c9b42aed",
   "metadata": {},
   "source": [
    "#### TRIAL TWO OF TRAINING, WITH CONFUSION MATRIX AND ROC"
   ]
  },
  {
   "cell_type": "code",
   "execution_count": 101,
   "id": "a2168d36-6306-4b2f-bcb8-dd11a0fd23c4",
   "metadata": {
    "scrolled": true
   },
   "outputs": [
    {
     "name": "stdout",
     "output_type": "stream",
     "text": [
      "Loss/train tensor(0.7074, grad_fn=<BinaryCrossEntropyBackward0>) 100\n"
     ]
    },
    {
     "ename": "KeyboardInterrupt",
     "evalue": "",
     "output_type": "error",
     "traceback": [
      "\u001b[1;31m---------------------------------------------------------------------------\u001b[0m",
      "\u001b[1;31mKeyboardInterrupt\u001b[0m                         Traceback (most recent call last)",
      "Cell \u001b[1;32mIn[101], line 51\u001b[0m\n\u001b[0;32m     48\u001b[0m avg_acc \u001b[38;5;241m=\u001b[39m \u001b[38;5;241m0\u001b[39m\n\u001b[0;32m     50\u001b[0m \u001b[38;5;28;01mfor\u001b[39;00m _ \u001b[38;5;129;01min\u001b[39;00m \u001b[38;5;28mrange\u001b[39m(iterations):\n\u001b[1;32m---> 51\u001b[0m     batch_x, batch_y \u001b[38;5;241m=\u001b[39m get_batch(batch_size, split\u001b[38;5;241m=\u001b[39m\u001b[38;5;124m'\u001b[39m\u001b[38;5;124mval\u001b[39m\u001b[38;5;124m'\u001b[39m)\n\u001b[0;32m     52\u001b[0m     cleaned \u001b[38;5;241m=\u001b[39m model(batch_x)\n\u001b[0;32m     54\u001b[0m     count \u001b[38;5;241m=\u001b[39m \u001b[38;5;241m0\u001b[39m\n",
      "File \u001b[1;32m~\\AppData\\Local\\Temp\\ipykernel_13068\\3920968610.py:56\u001b[0m, in \u001b[0;36mget_batch\u001b[1;34m(batch_size, split)\u001b[0m\n\u001b[0;32m     53\u001b[0m indices \u001b[38;5;241m=\u001b[39m np\u001b[38;5;241m.\u001b[39marange(\u001b[38;5;28mlen\u001b[39m(batch_y))\n\u001b[0;32m     54\u001b[0m np\u001b[38;5;241m.\u001b[39mrandom\u001b[38;5;241m.\u001b[39mshuffle(indices)\n\u001b[1;32m---> 56\u001b[0m batch_x \u001b[38;5;241m=\u001b[39m np\u001b[38;5;241m.\u001b[39marray(batch_x)\n\u001b[0;32m     57\u001b[0m batch_y \u001b[38;5;241m=\u001b[39m np\u001b[38;5;241m.\u001b[39marray(batch_y)\n\u001b[0;32m     59\u001b[0m batch_x \u001b[38;5;241m=\u001b[39m batch_x[indices]\n",
      "\u001b[1;31mKeyboardInterrupt\u001b[0m: "
     ]
    }
   ],
   "source": [
    "##TO RUN \n",
    "#model = ConvNetQuake()\n",
    "#model = nn.DataParallel(model, device_ids=[0])\n",
    "\n",
    "optimizer = torch.optim.Adam(model.parameters(), lr=1.0e-4)\n",
    "pso_optimizer = ParticleSwarmOptimizer(model.parameters(),\n",
    "                               inertial_weight=0.5,\n",
    "                               num_particles=100,\n",
    "                               max_param_value=1,\n",
    "                               min_param_value=-1)\n",
    "criterion = nn.BCELoss()\n",
    "\n",
    "##run the model now\n",
    "num_iters = 5000\n",
    "batch_size = 16\n",
    "\n",
    "acc_values = []\n",
    "acc_values_train = []\n",
    "avg_loss = []\n",
    "\n",
    "true_labels = []\n",
    "predicted_scores = []\n",
    "for iters in range(num_iters):\n",
    "    batch_x, batch_y = get_batch(batch_size, split='train')\n",
    "    y_pred = model(batch_x)\n",
    "    \n",
    "    def closure():\n",
    "        # Clear any grads from before the optimization step, since we will be changing the parameters\n",
    "        optimizer.zero_grad()  \n",
    "        return criterion(y_pred, batch_y)\n",
    "    \n",
    "    loss = criterion(y_pred, batch_y)\n",
    "    optimizer.zero_grad()\n",
    "    loss.backward()\n",
    "    optimizer.step(closure)\n",
    "    \n",
    "    # Validation\n",
    "    if iters%100 == 0 and iters != 0:\n",
    "        print('Loss/train', loss, iters)\n",
    "        avg_loss.append(loss)\n",
    "        \n",
    "        with torch.no_grad():\n",
    "\n",
    "            # test_set\n",
    "            iterations = 100\n",
    "            val_true_labels = []\n",
    "            val_predicted_scores = []\n",
    "            avg_acc = 0\n",
    "\n",
    "            for _ in range(iterations):\n",
    "                batch_x, batch_y = get_batch(batch_size, split='val')\n",
    "                cleaned = model(batch_x)\n",
    "\n",
    "                count = 0\n",
    "                acc = 0\n",
    "                for  num, true_label in zip(cleaned, batch_y):\n",
    "                    if int(torch.round(num)) == int(torch.round(batch_y[count])):\n",
    "                        acc += 10\n",
    "                    count += 1\n",
    "                    val_true_labels.append(int(torch.round(true_label)))\n",
    "                    val_predicted_scores.append(float(num))\n",
    "                avg_acc += acc\n",
    "\n",
    "            acc_values.append((avg_acc / iterations))\n",
    "            print('Accuracy/val', (avg_acc / iterations), iters)\n",
    "            \n",
    "            ##accumulate true labels and predicted scores\n",
    "                #for num, true_label in zip(cleaned, batch_y):\n",
    "                #    val_true_labels.append(int(torch.round(true_label)))\n",
    "                #    val_predicted_scores.append(float(num))\n",
    "\n",
    "            true_labels.extend(val_true_labels)\n",
    "            predicted_scores.extend(val_predicted_scores)\n",
    "            \n",
    "            # train_set\n",
    "            iterations = 100\n",
    "            avg_acc = 0\n",
    "\n",
    "            for _ in range(iterations):\n",
    "                batch_x, batch_y = get_batch(batch_size, split='train')\n",
    "                cleaned = model(batch_x)\n",
    "\n",
    "                count = 0\n",
    "                acc = 0\n",
    "                for num in cleaned:\n",
    "                    if int(torch.round(num)) == int(torch.round(batch_y[count])):\n",
    "                        acc += 10\n",
    "                    count += 1\n",
    "                avg_acc += acc\n",
    "\n",
    "            \n",
    "            acc_values_train.append((avg_acc / iterations))\n",
    "            print('Accuracy/train', (avg_acc / iterations), iters)\n",
    "\n",
    "##convert lists to numpy arrays\n",
    "true_labels = np.array(true_labels)\n",
    "predicted_scores = np.array(predicted_scores)\n",
    "\n",
    "##confusion matrix\n",
    "cm = confusion_matrix(true_labels, np.round(predicted_scores))\n",
    "print(\"Confusion Matrix:\")\n",
    "print(cm)\n"
   ]
  },
  {
   "cell_type": "code",
   "execution_count": 24,
   "id": "4ee763d7-5c89-4535-990a-159918a0b98f",
   "metadata": {},
   "outputs": [
    {
     "name": "stdout",
     "output_type": "stream",
     "text": [
      "AUC: 0.49857877186588917\n"
     ]
    },
    {
     "data": {
      "image/png": "[encoded data removed]",
      "text/plain": [
       "<Figure size 800x600 with 1 Axes>"
      ]
     },
     "metadata": {},
     "output_type": "display_data"
    }
   ],
   "source": [
    "##ROC\n",
    "fpr, tpr, thresholds = roc_curve(true_labels, predicted_scores)\n",
    "roc_auc = auc(fpr, tpr)\n",
    "print(\"AUC:\", roc_auc)\n",
    "\n",
    "#plt.figure()\n",
    "plt.plot(fpr, tpr, color='darkorange', lw=2, label='ROC curve (AUC = %0.2f)' % roc_auc)\n",
    "plt.plot([0, 1], [0, 1], color='navy', lw=2, linestyle='--')\n",
    "plt.xlim([0.0, 1.0])\n",
    "plt.ylim([0.0, 1.05])\n",
    "plt.xlabel('False Positive Rate')\n",
    "plt.ylabel('True Positive Rate')\n",
    "plt.title('Receiver Operating Characteristic (ROC)')\n",
    "plt.legend(loc=\"lower right\")\n",
    "plt.show()"
   ]
  },
  {
   "cell_type": "code",
   "execution_count": 27,
   "id": "59dd8e4b-6d65-43e0-af35-82c22d857545",
   "metadata": {},
   "outputs": [
    {
     "data": {
      "image/png": "[encoded data removed]",
      "text/plain": [
       "<Figure size 2000x1000 with 2 Axes>"
      ]
     },
     "metadata": {},
     "output_type": "display_data"
    }
   ],
   "source": [
    "convnet_df_cm = pd.DataFrame(cm)\n",
    "plt.figure(figsize = (20,10))\n",
    "#sns.set(font_scale=1.4) #for label size\n",
    "sns.heatmap(convnet_df_cm, annot=True)#, annot_kws={\"size\": 12}) #font size\n",
    "plt.show()"
   ]
  },
  {
   "cell_type": "code",
   "execution_count": 28,
   "id": "99b41507-f9c3-4dbd-951f-2a000cf05394",
   "metadata": {},
   "outputs": [
    {
     "data": {
      "text/plain": [
       "<matplotlib.legend.Legend at 0x1f8f6eecd50>"
      ]
     },
     "execution_count": 28,
     "metadata": {},
     "output_type": "execute_result"
    },
    {
     "data": {
      "image/png": "[encoded data removed]",
      "text/plain": [
       "<Figure size 800x600 with 1 Axes>"
      ]
     },
     "metadata": {},
     "output_type": "display_data"
    }
   ],
   "source": [
    "plt.figure(0)\n",
    "plt.plot(acc_values_train,'r')\n",
    "plt.plot(acc_values,'g')\n",
    "#plt.xticks(np.arange(0, 11, 2.0))\n",
    "plt.rcParams['figure.figsize'] = (8, 6)\n",
    "plt.xlabel(\"Num of Epochs\")\n",
    "plt.ylabel(\"Accuracy\")\n",
    "plt.title(\"Training Accuracy vs Validation Accuracy\")\n",
    "plt.legend(['train','validation'])\n",
    "\n",
    "#plt.show()"
   ]
  },
  {
   "cell_type": "code",
   "execution_count": 29,
   "id": "327c2bf3-4872-4584-b807-8fed0679d579",
   "metadata": {},
   "outputs": [],
   "source": [
    "model_loss = []\n",
    "for i in range(len(avg_loss)):\n",
    "    model_loss.append(avg_loss[i].detach().tolist())"
   ]
  },
  {
   "cell_type": "code",
   "execution_count": 30,
   "id": "419e1c3f-1ac3-4b83-9d07-4caca865c5e2",
   "metadata": {},
   "outputs": [
    {
     "data": {
      "text/plain": [
       "Text(0.5, 1.0, 'Gradient Optimizer Loss')"
      ]
     },
     "execution_count": 30,
     "metadata": {},
     "output_type": "execute_result"
    },
    {
     "data": {
      "image/png": "[encoded data removed]",
      "text/plain": [
       "<Figure size 800x600 with 1 Axes>"
      ]
     },
     "metadata": {},
     "output_type": "display_data"
    }
   ],
   "source": [
    "plt.plot(model_loss,'b')\n",
    "plt.rcParams['figure.figsize'] = (8, 6)\n",
    "plt.xlabel(\"Num of Epochs\")\n",
    "plt.ylabel(\"Loss\")\n",
    "plt.title(\"Gradient Optimizer Loss\")"
   ]
  },
  {
   "cell_type": "code",
   "execution_count": 31,
   "id": "4af99239-c8f8-426d-a0eb-ab51831ced86",
   "metadata": {},
   "outputs": [],
   "source": [
    "#model.save('./models/convnet-pso_multiple_channel.keras')\n",
    "torch.save(model.state_dict(), './models/convnet-pso_multi_state.pth')\n",
    "torch.save(model, './models/convnet-pso_multi_arch.pth')"
   ]
  },
  {
   "cell_type": "markdown",
   "id": "e4848a31",
   "metadata": {},
   "source": [
    "## ___________________REFERENCES____________________________________________________"
   ]
  },
  {
   "cell_type": "code",
   "execution_count": null,
   "id": "497f948e",
   "metadata": {},
   "outputs": [],
   "source": [
    "'''net = Sequential(Linear(10,100), Linear(100,100), Linear(100,10))\n",
    "optim = ParticleSwarmOptimizer(net.parameters(),\n",
    "                               inertial_weight=0.5,\n",
    "                               num_particles=100,\n",
    "                               max_param_value=1,\n",
    "                               min_param_value=-1)\n",
    "criterion = MSELoss()\n",
    "target = torch.rand((10,)).round()\n",
    "\n",
    "x = torch.rand((10,))\n",
    "for _ in range(100):\n",
    "    \n",
    "    def closure():\n",
    "        # Clear any grads from before the optimization step, since we will be changing the parameters\n",
    "        optim.zero_grad()  \n",
    "        return criterion(net(x), target)\n",
    "    \n",
    "    optim.step(closure)\n",
    "    print('Prediciton', net(x))\n",
    "    print('Target    ', target)'''"
   ]
  },
  {
   "cell_type": "code",
   "execution_count": 145,
   "id": "c19951c9",
   "metadata": {},
   "outputs": [],
   "source": [
    "##PSO Classes\n",
    "##Particle object class\n",
    "class Particle(object):\n",
    "    '''Particle class for PSO: each search member is a particle'''\n",
    "\n",
    "    '''Arguments:\n",
    "        lower_bound (np.array): Vector of lower boundaries for particle dimensions.\n",
    "        upper_bound (np.array): Vector of upper boundaries for particle dimensions.\n",
    "        dimensions (int): Number of dimensions of the search space.\n",
    "        objective function (function): Black-box function to evaluate.\n",
    "'''\n",
    "    def __init__(self, lower_bound, upper_bound, dimensions, objective_function):\n",
    "        self.reset(dimensions, lower_bound, upper_bound, objective_function)\n",
    "\n",
    "    def reset(self, dimensions, lower_bound, upper_bound, objective_function):\n",
    "        '''Particle reset: allows for reset of a particle without reallocation'''\n",
    "        position = []\n",
    "        for i in range(dimensions):\n",
    "            if lower_bound[i] < upper_bound[i]:\n",
    "                position.extend(np.random.randint(lower_bound[i], upper_bound[i] + 1, 1, dtype=int))\n",
    "            elif lower_bound[i] == upper_bound[i]:\n",
    "                position.extend(np.array([lower_bound[i]], dtype=int))\n",
    "            else:\n",
    "                assert False\n",
    "\n",
    "        self.position = [position]\n",
    "\n",
    "        self.velocity = [np.multiply(np.random.rand(dimensions),\n",
    "                                     (upper_bound - lower_bound)).astype(int)]\n",
    "\n",
    "        self.best_position = self.position[:]\n",
    "\n",
    "        self.function_value = [objective_function(self.best_position[-1])]\n",
    "        self.best_function_value = self.function_value[:]\n",
    "    \n",
    "    def update_velocity(self, omega, phip, phig, best_swarm_position):\n",
    "        '''Particle velocity update'''\n",
    "\n",
    "        '''Args:\n",
    "            omega (float): Velocity equation constant.\n",
    "            phip (float): Velocity equation constant.\n",
    "            phig (float): Velocity equation constant.\n",
    "            best_swarm_position (np.array): Best global particle position.'''\n",
    "\n",
    "        random_coefficient_p = np.random.uniform(size=np.asarray(self.position[-1]).shape)\n",
    "        random_coefficient_g = np.random.uniform(size=np.asarray(self.position[-1]).shape)\n",
    "\n",
    "        self.velocity.append(omega*np.asarray(self.velocity[-1])\n",
    "                             + (phip*random_coefficient_p\n",
    "                                * (np.asarray(self.best_position[-1])- np.asarray(self.position[-1])))\n",
    "                             + (phig* random_coefficient_g\n",
    "                             * (np.asarray(best_swarm_position)- np.asarray(self.position[-1]))))\n",
    "\n",
    "        self.velocity[-1] = self.velocity[-1].astype(int)\n",
    "\n",
    "    def update_position(self, lower_bound, upper_bound, objective_function):\n",
    "        '''Particle position update, current position + Vd+1'''\n",
    "                             \n",
    "        new_position = self.position[-1] + self.velocity[-1]\n",
    "\n",
    "        if np.array_equal(self.position[-1], new_position):\n",
    "            self.function_value.append(self.function_value[-1])\n",
    "        else:\n",
    "            mark1 = new_position < lower_bound\n",
    "            mark2 = new_position > upper_bound\n",
    "\n",
    "            new_position[mark1] = lower_bound[mark1]\n",
    "            new_position[mark2] = upper_bound[mark2]\n",
    "\n",
    "            self.function_value.append(objective_function(self.position[-1]))\n",
    "\n",
    "        self.position.append(new_position.tolist())\n",
    "\n",
    "        if self.function_value[-1] < self.best_function_value[-1]:\n",
    "            self.best_position.append(self.position[-1][:])\n",
    "            self.best_function_value.append(self.function_value[-1])"
   ]
  },
  {
   "cell_type": "code",
   "execution_count": 146,
   "id": "bc2069b8",
   "metadata": {},
   "outputs": [],
   "source": [
    "class Pso(object):\n",
    "    '''PSO wrapper\n",
    "\n",
    "    This class contains the particles and provides an abstraction to hold all the context\n",
    "    of the PSO algorithm\n",
    "\n",
    "    Args:\n",
    "        swarmsize (int): Number of particles in the swarm\n",
    "        maxiter (int): Maximum number of generations the swarm will run'''\n",
    "\n",
    "    \n",
    "    def __init__(self, swarmsize=100, maxiter=100):\n",
    "        self.max_generations = maxiter\n",
    "        self.swarmsize = swarmsize\n",
    "\n",
    "        self.omega = 0.5  ##start c1 and c2 at 0.5, balance exploration and exploitation\n",
    "        self.phip = 0.5\n",
    "        self.phig = 0.5\n",
    "\n",
    "        self.minstep = 1e-4\n",
    "        self.minfunc = 1e-4\n",
    "\n",
    "        self.best_position = [None]\n",
    "        self.best_function_value = [1]\n",
    "\n",
    "        self.particles = []\n",
    "\n",
    "        self.retired_particles = []\n",
    "\n",
    "    def run(self, function, lower_bound, upper_bound, kwargs=None):\n",
    "        '''Perform a particle swarm optimization (PSO)'''\n",
    "\n",
    "        '''Args:\n",
    "            objective_function (function): The function to be minimized.\n",
    "            lower_bound (np.array): Vector of lower boundaries for particle dimensions.\n",
    "            upper_bound (np.array): Vector of upper boundaries for particle dimensions.\n",
    "\n",
    "        Returns:\n",
    "            best_position (np.array): Best known position\n",
    "            accuracy (float): Objective value at best_position\n",
    "            :param kwargs:'''\n",
    "\n",
    "        \n",
    "        if kwargs is None:\n",
    "            kwargs = {}\n",
    "\n",
    "        objective_function = lambda x: function(x, **kwargs)\n",
    "        assert hasattr(function, '__call__'), 'Invalid function handle'\n",
    "\n",
    "        assert len(lower_bound) == len(upper_bound), 'Invalid bounds length'\n",
    "\n",
    "        lower_bound = np.array(lower_bound)\n",
    "        upper_bound = np.array(upper_bound)\n",
    "\n",
    "        assert np.all(upper_bound > lower_bound), 'Invalid boundary values'\n",
    "\n",
    "\n",
    "        dimensions = len(lower_bound)\n",
    "\n",
    "        self.particles = self.initialize_particles(lower_bound,\n",
    "                                                   upper_bound,\n",
    "                                                   dimensions,\n",
    "                                                   objective_function)\n",
    "\n",
    "        #Start evolution\n",
    "        generation = 1\n",
    "        while generation <= self.max_generations:\n",
    "            for particle in self.particles:\n",
    "                particle.update_velocity(self.omega, self.phip, self.phig, self.best_position[-1])\n",
    "                particle.update_position(lower_bound, upper_bound, objective_function)\n",
    "\n",
    "                if particle.best_function_value[-1] == 0:\n",
    "                    self.retired_particles.append(copy.deepcopy(particle))\n",
    "                    particle.reset(dimensions, lower_bound, upper_bound, objective_function)\n",
    "                elif particle.best_function_value[-1] < self.best_function_value[-1]:\n",
    "                    stepsize = np.sqrt(np.sum((np.asarray(self.best_position[-1])\n",
    "                                               - np.asarray(particle.position[-1])) ** 2))\n",
    "\n",
    "                    if np.abs(np.asarray(self.best_function_value[-1])\n",
    "                              - np.asarray(particle.best_function_value[-1])) \\\n",
    "                            <= self.minfunc:\n",
    "                        return particle.best_position[-1], particle.best_function_value[-1]\n",
    "                    elif stepsize <= self.minstep:\n",
    "                        return particle.best_position[-1], particle.best_function_value[-1]\n",
    "                    else:\n",
    "                        self.best_function_value.append(particle.best_function_value[-1])\n",
    "                        self.best_position.append(particle.best_position[-1][:])\n",
    "\n",
    "\n",
    "\n",
    "            generation += 1\n",
    "\n",
    "        return self.best_position[-1], self.best_function_value[-1]\n",
    "\n",
    "    def initialize_particles(self, lower_bound, upper_bound, dimensions, objective_function):\n",
    "        '''Initializes the particles for the swarm'''\n",
    "\n",
    "        '''Args:\n",
    "            objective_function (function): The function to be minimized.\n",
    "            lower_bound (np.array): Vector of lower boundaries for particle dimensions.\n",
    "            upper_bound (np.array): Vector of upper boundaries for particle dimensions.\n",
    "            dimensions (int): Number of dimensions of the search space.\n",
    "\n",
    "        Returns:\n",
    "            particles (list): Collection or particles in the swarm'''\n",
    "        \n",
    "        particles = []\n",
    "        for _ in range(self.swarmsize):\n",
    "            particles.append(Particle(lower_bound,\n",
    "                                      upper_bound,\n",
    "                                      dimensions,\n",
    "                                      objective_function))\n",
    "            if particles[-1].best_function_value[-1] < self.best_function_value[-1]:\n",
    "                self.best_function_value.append(particles[-1].best_function_value[-1])\n",
    "                self.best_position.append(particles[-1].best_position[-1])\n",
    "\n",
    "\n",
    "        self.best_position = [self.best_position[-1]]\n",
    "        self.best_function_value = [self.best_function_value[-1]]\n",
    "\n",
    "        return particles"
   ]
  },
  {
   "cell_type": "code",
   "execution_count": 147,
   "id": "1afb8f40",
   "metadata": {},
   "outputs": [],
   "source": [
    "##running model with optimization function\n",
    "##1) define forward function\n",
    "##2) call Pso with swarmsize = input shape of input attribute of forward function in model\n",
    "\n",
    "'''model = ConvNetQuake()\n",
    "#model.cuda() ##compute engine device\n",
    "\n",
    "model = nn.DataParallel(model, device_ids=[0])\n",
    "\n",
    "optimizer = torch.optim.Adam(model.parameters(), lr=1.0e-4)\n",
    "criterion = nn.BCELoss()'''"
   ]
  },
  {
   "cell_type": "code",
   "execution_count": 1,
   "id": "9ac8b410",
   "metadata": {},
   "outputs": [],
   "source": [
    "#pip install torch-pso  ##check with built in torch pso"
   ]
  },
  {
   "cell_type": "code",
   "execution_count": null,
   "id": "f477874e",
   "metadata": {},
   "outputs": [],
   "source": [
    "'''num_iters = 50000\n",
    "batch_size = 10\n",
    "\n",
    "acc_values = []\n",
    "acc_values_train = []\n",
    "\n",
    "for iters in range(num_iters):\n",
    "\n",
    "    batch_x, batch_y = get_batch(batch_size, split='train')  ##get train and test batches\n",
    "    ###initialize PSO with forward input\n",
    "    pso = Pso(swarmsize=batch_size,maxiter=num_iters)\n",
    "    y_pred = model(batch_x)\n",
    "    bp,value = pso.run(model(batch_x),[1,2,2,2],[16,8,4,4]) ##run model and get optimized outputs\n",
    "    loss = criterion(y_pred, batch_y)\n",
    "    ##bp === is loss\n",
    "    ##value , v === is accuracy\n",
    "    v = model(bp)\n",
    "    optimizer.zero_grad()\n",
    "    loss.backward()\n",
    "    optimizer.step()\n",
    "    ###\n",
    "    #y_pred = model(batch_x) ##run model on input of healthy and unhealthy patients\n",
    "    #loss = criterion(y_pred, batch_y)\n",
    "    #optimizer.zero_grad()\n",
    "    #loss.backward()\n",
    "    #optimizer.step()\n",
    "    # validation\n",
    "    if iters%100 == 0 and iters != 0:\n",
    "\n",
    "        print('Loss/train', loss, iters)\n",
    "        print('PSO Loss/train', bp, iters)\n",
    "        #writer.add_scalar('Loss/train', loss, iters)\n",
    "\n",
    "        with torch.no_grad():\n",
    "\n",
    "            # test_set\n",
    "            iterations = 100\n",
    "            avg_acc = 0\n",
    "\n",
    "            for _ in range(iterations):\n",
    "                batch_x, batch_y = get_batch(batch_size, split='val')\n",
    "                cleaned = model(batch_x)\n",
    "\n",
    "                count = 0\n",
    "                acc = 0\n",
    "                for num in cleaned:\n",
    "                    if int(round(num)) == int(round(batch_y[count])):\n",
    "                        acc += 10\n",
    "                    count += 1\n",
    "                avg_acc += acc\n",
    "\n",
    "            acc_values.append((avg_acc / iterations))\n",
    "            print('Accuracy/val', (avg_acc / iterations), iters)\n",
    "            #writer.add_scalar('Accuracy/val', (avg_acc / iterations), iters)\n",
    "\n",
    "            # train_set\n",
    "            iterations = 100\n",
    "            avg_acc = 0\n",
    "\n",
    "            for _ in range(iterations):\n",
    "                batch_x, batch_y = get_batch(batch_size, split='train')\n",
    "                cleaned = model(batch_x)\n",
    "\n",
    "                count = 0\n",
    "                acc = 0\n",
    "                for num in cleaned:\n",
    "                    if int(round(num)) == int(round(batch_y[count])):\n",
    "                        acc += 10\n",
    "                    count += 1\n",
    "                avg_acc += acc\n",
    "\n",
    "            acc_values_train.append((avg_acc / iterations))\n",
    "            #writer.add_scalar('Accuracy/train', (avg_acc / iterations), iters)\n",
    "            print('Accuracy/train', (avg_acc / iterations), iters)'''"
   ]
  },
  {
   "cell_type": "code",
   "execution_count": null,
   "id": "abb73c08",
   "metadata": {},
   "outputs": [],
   "source": [
    "'''def func(x):\n",
    "  n,sf,sp,l = x[0],x[1],x[2],x[3]\n",
    " \n",
    "  model = Sequential()\n",
    "  model.add(Conv2D(32,kernel_size=(3, 3),\n",
    "                 activation='relu',\n",
    "                 input_shape=input_shape))\n",
    "  model.add(Conv2D(64, (3, 3), activation='relu'))\n",
    "  model.add(Conv2D(n, (sf, sf), activation='relu'))\n",
    "  model.add(MaxPooling2D(pool_size=(sp, sp),strides=(l,l)))\n",
    "  model.add(Flatten())\n",
    "  model.add(Dense(num_classes, activation='softmax'))\n",
    "  model.compile(loss=keras.losses.categorical_crossentropy,\n",
    "              optimizer=keras.optimizers.Adam(),\n",
    "              metrics=['accuracy'])\n",
    "  \n",
    "  cp = [keras.callbacks.EarlyStopping(monitor='val_loss', patience=5, verbose=0, mode='auto')];\n",
    "\n",
    "  model.fit(x_train, y_train,\n",
    "            batch_size=batch_size,\n",
    "            epochs=epochs,\n",
    "            verbose=0,\n",
    "            validation_data=(x_test, y_test),callbacks=cp)\n",
    "  \n",
    "  score = model.evaluate(x_test, y_test, verbose=0)\n",
    "\n",
    "  # loss, val\n",
    "  print('current config:',x,'val:',score[1])\n",
    "  return score[1]\n",
    "\n",
    "##################################################################\n",
    "pso = Pso(swarmsize=4,maxiter=14)\n",
    "# n,sf,sp,l\n",
    "bp,value = pso.run(func,[1,2,2,2],[16,8,4,4])\n",
    "\n",
    "v = func(bp);\n",
    "\n",
    "##################################################################\n",
    "\n",
    "print('Test loss:', bp)\n",
    "print('Test accuracy:', value,v)'''"
   ]
  },
  {
   "cell_type": "code",
   "execution_count": null,
   "id": "5b29b465",
   "metadata": {},
   "outputs": [],
   "source": [
    "#model = MyModel()"
   ]
  }
 ],
 "metadata": {
  "kernelspec": {
   "display_name": "Python 3 (ipykernel)",
   "language": "python",
   "name": "python3"
  },
  "language_info": {
   "codemirror_mode": {
    "name": "ipython",
    "version": 3
   },
   "file_extension": ".py",
   "mimetype": "text/x-python",
   "name": "python",
   "nbconvert_exporter": "python",
   "pygments_lexer": "ipython3",
   "version": "3.11.7"
  }
 },
 "nbformat": 4,
 "nbformat_minor": 5
}
