{
 "cells": [
  {
   "cell_type": "code",
   "execution_count": 42,
   "id": "bebdce17",
   "metadata": {},
   "outputs": [],
   "source": [
    "#necessary libraries\n",
    "#import tensorflow as tf\n",
    "#from tensorflow import keras\n",
    "#from tensorflow.keras import layers\n",
    "#from keras.applications import ResNet50\n",
    "#from tensorflow.python.keras.models import Sequential\n",
    "#from tensorflow.python.keras.layers import Dense\n",
    "import datetime\n",
    "import numpy as np\n",
    "import os\n",
    "import tensorflow as tf\n",
    "import matplotlib.pyplot as plt\n",
    "from tqdm import tqdm\n",
    "import cv2\n",
    "import PIL.Image\n",
    "import matplotlib \n",
    "import seaborn as sns\n",
    "from IPython.display import display\n",
    "import matplotlib.pyplot as plt\n",
    "%matplotlib inline\n",
    "import shutil\n",
    "import posixpath\n",
    "import sys \n",
    "import glob\n",
    "import wfdb\n",
    "import pandas as pd\n",
    "import math\n",
    "from PIL import Image"
   ]
  },
  {
   "cell_type": "code",
   "execution_count": 2,
   "id": "6f880009",
   "metadata": {},
   "outputs": [],
   "source": [
    "#pip install tensorflow"
   ]
  },
  {
   "cell_type": "code",
   "execution_count": null,
   "id": "23cc02b8",
   "metadata": {},
   "outputs": [],
   "source": [
    "#pip install protobuf==3.20.*   ##check python protocol buffers"
   ]
  },
  {
   "cell_type": "code",
   "execution_count": 6,
   "id": "5f28c903",
   "metadata": {},
   "outputs": [],
   "source": [
    "##Global variables\n",
    "num_classes = 15\n",
    "RESNET50_POOLING_AVERAGE = 'avg'\n",
    "DENSE_LAYER_ACTIVATION = 'softmax'\n",
    "OBJECTIVE_FUNCTION = 'categorical_crossentropy'\n",
    "LOSS_METRICS = ['accuracy']\n",
    "# EARLY_STOP_PATIENCE must be < NUM_EPOCHS\n",
    "NUM_EPOCHS = 10   ##standard for Res50Net instead of VGGNet due to need for smaller tensors\n",
    "EARLY_STOP_PATIENCE = 3  ##stop training when metric, accuracy has stopped improving\n",
    "# These steps value should be proper FACTOR of no.-of-images in train & valid folders respectively\n",
    "# Training images processed in each step would be no.-of-train-images / STEPS_PER_EPOCH_TRAINING\n",
    "STEPS_PER_EPOCH_TRAINING = 10\n",
    "STEPS_PER_EPOCH_VALIDATION = 10"
   ]
  },
  {
   "cell_type": "code",
   "execution_count": 90,
   "id": "16c00256",
   "metadata": {},
   "outputs": [
    {
     "name": "stdout",
     "output_type": "stream",
     "text": [
      "(320, 240, 3)\n"
     ]
    }
   ],
   "source": [
    "#width, height, channels\n",
    "input_shape = (320, 240, 3)#(int(input_shape[0] * 2), int(input_shape[1] * 2), 3)\n",
    "print(input_shape)"
   ]
  },
  {
   "cell_type": "code",
   "execution_count": 8,
   "id": "595d82e0",
   "metadata": {},
   "outputs": [
    {
     "data": {
      "text/plain": [
       "device_count {\n",
       "  key: \"GPU\"\n",
       "  value: 1\n",
       "}\n",
       "device_count {\n",
       "  key: \"CPU\"\n",
       "  value: 10\n",
       "}"
      ]
     },
     "execution_count": 8,
     "metadata": {},
     "output_type": "execute_result"
    }
   ],
   "source": [
    "##set cpu cores to 10 and GPU cores to 1\n",
    "tf.compat.v1.ConfigProto( device_count = {'GPU': 1 , 'CPU': 10})"
   ]
  },
  {
   "cell_type": "markdown",
   "id": "c173dc3d",
   "metadata": {},
   "source": [
    "### RESNET50 TEST: PRETRAINED KERAS TEST"
   ]
  },
  {
   "cell_type": "code",
   "execution_count": 60,
   "id": "6d2cfab0",
   "metadata": {},
   "outputs": [],
   "source": [
    "#import keras\n",
    "import tensorflow as tf\n",
    "from tensorflow import keras\n",
    "#from keras.applications.resnet50 import ResNet50\n",
    "#from keras.applications.resnet50 import preprocess_input, decode_predictions\n",
    "from tensorflow.keras import layers\n",
    "from tensorflow.keras.layers import Dense, Flatten\n",
    "from tensorflow.keras.optimizers import Adam, SGD\n",
    "import numpy as np"
   ]
  },
  {
   "cell_type": "code",
   "execution_count": 11,
   "id": "ce840d15",
   "metadata": {
    "collapsed": true
   },
   "outputs": [
    {
     "name": "stdout",
     "output_type": "stream",
     "text": [
      "1242_ Valvular heart disease.png\n",
      "1243_ Valvular heart disease.png\n",
      "1244_ Valvular heart disease.png\n",
      "1371_ Valvular heart disease.png\n",
      "1372_ Valvular heart disease.png\n",
      "1373_ Valvular heart disease.png\n",
      "954_ Valvular heart disease.png\n",
      "955_ Valvular heart disease.png\n",
      "956_ Valvular heart disease.png\n",
      "957_ Valvular heart disease.png\n",
      "958_ Valvular heart disease.png\n",
      "959_ Valvular heart disease.png\n",
      "966_ Valvular heart disease.png\n",
      "967_ Valvular heart disease.png\n",
      "968_ Valvular heart disease.png\n",
      "981_ Valvular heart disease.png\n",
      "982_ Valvular heart disease.png\n",
      "983_ Valvular heart disease.png\n"
     ]
    }
   ],
   "source": [
    "##Resize images to default pretrained tensor size: 224, 224, 3\n",
    "for image in os.listdir('./ptb_ecg_filtered_resnet50/Bundle branch block'):\n",
    "    #print(image)\n",
    "    name = os.path.basename(image)\n",
    "    image = Image.open('./ptb_ecg_filtered_resnet50/Bundle branch block/' + image)\n",
    "    resized_image = image.resize((224, 224))\n",
    "    # Save the resized image\n",
    "    resized_image.save('./ptb_ecg_filtered_resnet50/Bundle branch block/' + name)\n",
    "    \n",
    "for image in os.listdir('./ptb_ecg_filtered_resnet50/Cardiomyopathy'):\n",
    "    #print(image)\n",
    "    name = os.path.basename(image)\n",
    "    image = Image.open('./ptb_ecg_filtered_resnet50/Cardiomyopathy/' + image)\n",
    "    resized_image = image.resize((224, 224))\n",
    "    # Save the resized image\n",
    "    resized_image.save('./ptb_ecg_filtered_resnet50/Cardiomyopathy/' + name)\n",
    "    \n",
    "for image in os.listdir('./ptb_ecg_filtered_resnet50/Dysrhythmia'):\n",
    "    #print(image)\n",
    "    name = os.path.basename(image)\n",
    "    image = Image.open('./ptb_ecg_filtered_resnet50/Dysrhythmia/' + image)\n",
    "    resized_image = image.resize((224, 224))\n",
    "    # Save the resized image\n",
    "    resized_image.save('./ptb_ecg_filtered_resnet50/Dysrhythmia/' + name)\n",
    "    \n",
    "for image in os.listdir('./ptb_ecg_filtered_resnet50/Healthy control'):\n",
    "    #print(image)\n",
    "    name = os.path.basename(image)\n",
    "    image = Image.open('./ptb_ecg_filtered_resnet50/Healthy control/' + image)\n",
    "    resized_image = image.resize((224, 224))\n",
    "    # Save the resized image\n",
    "    resized_image.save('./ptb_ecg_filtered_resnet50/Healthy control/' + name)\n",
    "    \n",
    "for image in os.listdir('./ptb_ecg_filtered_resnet50/Heart failure (NYHA 2)'):\n",
    "    #print(image)\n",
    "    name = os.path.basename(image)\n",
    "    image = Image.open('./ptb_ecg_filtered_resnet50/Heart failure (NYHA 2)/' + image)\n",
    "    resized_image = image.resize((224, 224))\n",
    "    # Save the resized image\n",
    "    resized_image.save('./ptb_ecg_filtered_resnet50/Heart failure (NYHA 2)/' + name)\n",
    "    \n",
    "for image in os.listdir('./ptb_ecg_filtered_resnet50/Heart failure (NYHA 3)'):\n",
    "    #print(image)\n",
    "    name = os.path.basename(image)\n",
    "    image = Image.open('./ptb_ecg_filtered_resnet50/Heart failure (NYHA 3)/' + image)\n",
    "    resized_image = image.resize((224, 224))\n",
    "    # Save the resized image\n",
    "    resized_image.save('./ptb_ecg_filtered_resnet50/Heart failure (NYHA 3)/' + name)\n",
    "    \n",
    "for image in os.listdir('./ptb_ecg_filtered_resnet50/Heart failure (NYHA 4)'):\n",
    "    #print(image)\n",
    "    name = os.path.basename(image)\n",
    "    image = Image.open('./ptb_ecg_filtered_resnet50/Heart failure (NYHA 4)/' + image)\n",
    "    resized_image = image.resize((224, 224))\n",
    "    # Save the resized image\n",
    "    resized_image.save('./ptb_ecg_filtered_resnet50/Heart failure (NYHA 4)/' + name)\n",
    "    \n",
    "for image in os.listdir('./ptb_ecg_filtered_resnet50/Hypertrophy'):\n",
    "    #print(image)\n",
    "    name = os.path.basename(image)\n",
    "    image = Image.open('./ptb_ecg_filtered_resnet50/Hypertrophy/' + image)\n",
    "    resized_image = image.resize((224, 224))\n",
    "    # Save the resized image\n",
    "    resized_image.save('./ptb_ecg_filtered_resnet50/Hypertrophy/' + name)\n",
    "    \n",
    "for image in os.listdir('./ptb_ecg_filtered_resnet50/Myocardial Infarction'):\n",
    "    #print(image)\n",
    "    name = os.path.basename(image)\n",
    "    image = Image.open('./ptb_ecg_filtered_resnet50/Myocardial Infarction/' + image)\n",
    "    resized_image = image.resize((224, 224))\n",
    "    # Save the resized image\n",
    "    resized_image.save('./ptb_ecg_filtered_resnet50/Myocardial Infarction/' + name)\n",
    "    \n",
    "for image in os.listdir('./ptb_ecg_filtered_resnet50/Myocarditis'):\n",
    "    #print(image)\n",
    "    name = os.path.basename(image)\n",
    "    image = Image.open('./ptb_ecg_filtered_resnet50/Myocarditis/' + image)\n",
    "    resized_image = image.resize((224, 224))\n",
    "    # Save the resized image\n",
    "    resized_image.save('./ptb_ecg_filtered_resnet50/Myocarditis/' + name)\n",
    "    \n",
    "for image in os.listdir('./ptb_ecg_filtered_resnet50/Palpitation'):\n",
    "    #print(image)\n",
    "    name = os.path.basename(image)\n",
    "    image = Image.open('./ptb_ecg_filtered_resnet50/Palpitation/' + image)\n",
    "    resized_image = image.resize((224, 224))\n",
    "    # Save the resized image\n",
    "    resized_image.save('./ptb_ecg_filtered_resnet50/Palpitation/' + name)\n",
    "    \n",
    "for image in os.listdir('./ptb_ecg_filtered_resnet50/Stable angina'):\n",
    "    #print(image)\n",
    "    name = os.path.basename(image)\n",
    "    image = Image.open('./ptb_ecg_filtered_resnet50/Stable angina/' + image)\n",
    "    resized_image = image.resize((224, 224))\n",
    "    # Save the resized image\n",
    "    resized_image.save('./ptb_ecg_filtered_resnet50/Stable angina/' + name)\n",
    "    \n",
    "for image in os.listdir('./ptb_ecg_filtered_resnet50/Unqualified'):\n",
    "    #print(image)\n",
    "    name = os.path.basename(image)\n",
    "    image = Image.open('./ptb_ecg_filtered_resnet50/Unqualified/' + image)\n",
    "    resized_image = image.resize((224, 224))\n",
    "    # Save the resized image\n",
    "    resized_image.save('./ptb_ecg_filtered_resnet50/Unqualified/' + name)\n",
    "    \n",
    "for image in os.listdir('./ptb_ecg_filtered_resnet50/Unstable angina'):\n",
    "    #print(image)\n",
    "    name = os.path.basename(image)\n",
    "    image = Image.open('./ptb_ecg_filtered_resnet50/Unstable angina/' + image)\n",
    "    resized_image = image.resize((224, 224))\n",
    "    # Save the resized image\n",
    "    resized_image.save('./ptb_ecg_filtered_resnet50/Unstable angina/' + name)\n",
    "    \n",
    "for image in os.listdir('./ptb_ecg_filtered_resnet50/Valvular heart disease'):\n",
    "    print(image)\n",
    "    name = os.path.basename(image)\n",
    "    image = Image.open('./ptb_ecg_filtered_resnet50/Valvular heart disease/' + image)\n",
    "    resized_image = image.resize((224, 224))\n",
    "    # Save the resized image\n",
    "    resized_image.save('./ptb_ecg_filtered_resnet50/Valvular heart disease/' + name)"
   ]
  },
  {
   "cell_type": "code",
   "execution_count": 27,
   "id": "193e3b5b",
   "metadata": {},
   "outputs": [
    {
     "name": "stdout",
     "output_type": "stream",
     "text": [
      "Found 1647 files belonging to 15 classes.\n"
     ]
    }
   ],
   "source": [
    "train_dataset = tf.keras.preprocessing.image_dataset_from_directory(\n",
    "    './ptb_ecg_filtered_resnet50/',\n",
    "    #'/path/to/train_dataset',E:\\Jupyter\\A_DNN\\ptb_ecg_filtered\\train\n",
    "    image_size=(224, 224),\n",
    "    batch_size=32\n",
    "    #validation_split=0.2,\n",
    "    #subset='training',\n",
    "    #seed=123  ##no weights initialized here by deafult so not used\n",
    ")"
   ]
  },
  {
   "cell_type": "code",
   "execution_count": 28,
   "id": "c32ee4ae",
   "metadata": {},
   "outputs": [
    {
     "name": "stdout",
     "output_type": "stream",
     "text": [
      "['Bundle branch block', 'Cardiomyopathy', 'Dysrhythmia', 'Healthy control', 'Heart failure (NYHA 2)', 'Heart failure (NYHA 3)', 'Heart failure (NYHA 4)', 'Hypertrophy', 'Myocardial Infarction', 'Myocarditis', 'Palpitation', 'Stable angina', 'Unqualified', 'Unstable angina', 'Valvular heart disease']\n"
     ]
    }
   ],
   "source": [
    "image_categories = train_dataset.class_names\n",
    "print(image_categories)"
   ]
  },
  {
   "cell_type": "code",
   "execution_count": 121,
   "id": "bb6a51bd",
   "metadata": {},
   "outputs": [],
   "source": [
    "model = Sequential()"
   ]
  },
  {
   "cell_type": "code",
   "execution_count": 122,
   "id": "7fad6ad8",
   "metadata": {},
   "outputs": [],
   "source": [
    "##default model weights\n",
    "custom_model = ResNet50(include_top=False, weights='imagenet', input_tensor=None, \n",
    "                 input_shape=(224, 224, 3), pooling='avg', classes=15, classifier_activation=\"softmax\")\n",
    "\n",
    "for layer in custom_model.layers:\n",
    "    layer.trainable=False"
   ]
  },
  {
   "cell_type": "code",
   "execution_count": 123,
   "id": "2b13a50b",
   "metadata": {},
   "outputs": [],
   "source": [
    "#model.add(keras.Input(shape=(224,224,3)))\n",
    "model.add(custom_model)\n",
    "model.add(Flatten())\n",
    "#model.add(Dense(512, activation='relu'))\n",
    "model.add(Dense(4096, activation= 'relu'))\n",
    "#model.add(Dense(4096, activation= 'relu'))\n",
    "model.add(Dense(1000, activation= 'relu'))\n",
    "model.add(Dense(15, activation='softmax'))  ##no of classes"
   ]
  },
  {
   "cell_type": "code",
   "execution_count": 124,
   "id": "8a97efa3",
   "metadata": {},
   "outputs": [
    {
     "data": {
      "text/html": [
       "<pre style=\"white-space:pre;overflow-x:auto;line-height:normal;font-family:Menlo,'DejaVu Sans Mono',consolas,'Courier New',monospace\"><span style=\"font-weight: bold\">Model: \"sequential_9\"</span>\n",
       "</pre>\n"
      ],
      "text/plain": [
       "\u001b[1mModel: \"sequential_9\"\u001b[0m\n"
      ]
     },
     "metadata": {},
     "output_type": "display_data"
    },
    {
     "data": {
      "text/html": [
       "<pre style=\"white-space:pre;overflow-x:auto;line-height:normal;font-family:Menlo,'DejaVu Sans Mono',consolas,'Courier New',monospace\">┏━━━━━━━━━━━━━━━━━━━━━━━━━━━━━━━━━┳━━━━━━━━━━━━━━━━━━━━━━━━┳━━━━━━━━━━━━━━━┓\n",
       "┃<span style=\"font-weight: bold\"> Layer (type)                    </span>┃<span style=\"font-weight: bold\"> Output Shape           </span>┃<span style=\"font-weight: bold\">       Param # </span>┃\n",
       "┡━━━━━━━━━━━━━━━━━━━━━━━━━━━━━━━━━╇━━━━━━━━━━━━━━━━━━━━━━━━╇━━━━━━━━━━━━━━━┩\n",
       "│ resnet50 (<span style=\"color: #0087ff; text-decoration-color: #0087ff\">Functional</span>)           │ ?                      │    <span style=\"color: #00af00; text-decoration-color: #00af00\">23,587,712</span> │\n",
       "├─────────────────────────────────┼────────────────────────┼───────────────┤\n",
       "│ flatten_9 (<span style=\"color: #0087ff; text-decoration-color: #0087ff\">Flatten</span>)             │ ?                      │   <span style=\"color: #00af00; text-decoration-color: #00af00\">0</span> (unbuilt) │\n",
       "├─────────────────────────────────┼────────────────────────┼───────────────┤\n",
       "│ dense_21 (<span style=\"color: #0087ff; text-decoration-color: #0087ff\">Dense</span>)                │ ?                      │   <span style=\"color: #00af00; text-decoration-color: #00af00\">0</span> (unbuilt) │\n",
       "├─────────────────────────────────┼────────────────────────┼───────────────┤\n",
       "│ dense_22 (<span style=\"color: #0087ff; text-decoration-color: #0087ff\">Dense</span>)                │ ?                      │   <span style=\"color: #00af00; text-decoration-color: #00af00\">0</span> (unbuilt) │\n",
       "├─────────────────────────────────┼────────────────────────┼───────────────┤\n",
       "│ dense_23 (<span style=\"color: #0087ff; text-decoration-color: #0087ff\">Dense</span>)                │ ?                      │   <span style=\"color: #00af00; text-decoration-color: #00af00\">0</span> (unbuilt) │\n",
       "└─────────────────────────────────┴────────────────────────┴───────────────┘\n",
       "</pre>\n"
      ],
      "text/plain": [
       "┏━━━━━━━━━━━━━━━━━━━━━━━━━━━━━━━━━┳━━━━━━━━━━━━━━━━━━━━━━━━┳━━━━━━━━━━━━━━━┓\n",
       "┃\u001b[1m \u001b[0m\u001b[1mLayer (type)                   \u001b[0m\u001b[1m \u001b[0m┃\u001b[1m \u001b[0m\u001b[1mOutput Shape          \u001b[0m\u001b[1m \u001b[0m┃\u001b[1m \u001b[0m\u001b[1m      Param #\u001b[0m\u001b[1m \u001b[0m┃\n",
       "┡━━━━━━━━━━━━━━━━━━━━━━━━━━━━━━━━━╇━━━━━━━━━━━━━━━━━━━━━━━━╇━━━━━━━━━━━━━━━┩\n",
       "│ resnet50 (\u001b[38;5;33mFunctional\u001b[0m)           │ ?                      │    \u001b[38;5;34m23,587,712\u001b[0m │\n",
       "├─────────────────────────────────┼────────────────────────┼───────────────┤\n",
       "│ flatten_9 (\u001b[38;5;33mFlatten\u001b[0m)             │ ?                      │   \u001b[38;5;34m0\u001b[0m (unbuilt) │\n",
       "├─────────────────────────────────┼────────────────────────┼───────────────┤\n",
       "│ dense_21 (\u001b[38;5;33mDense\u001b[0m)                │ ?                      │   \u001b[38;5;34m0\u001b[0m (unbuilt) │\n",
       "├─────────────────────────────────┼────────────────────────┼───────────────┤\n",
       "│ dense_22 (\u001b[38;5;33mDense\u001b[0m)                │ ?                      │   \u001b[38;5;34m0\u001b[0m (unbuilt) │\n",
       "├─────────────────────────────────┼────────────────────────┼───────────────┤\n",
       "│ dense_23 (\u001b[38;5;33mDense\u001b[0m)                │ ?                      │   \u001b[38;5;34m0\u001b[0m (unbuilt) │\n",
       "└─────────────────────────────────┴────────────────────────┴───────────────┘\n"
      ]
     },
     "metadata": {},
     "output_type": "display_data"
    },
    {
     "data": {
      "text/html": [
       "<pre style=\"white-space:pre;overflow-x:auto;line-height:normal;font-family:Menlo,'DejaVu Sans Mono',consolas,'Courier New',monospace\"><span style=\"font-weight: bold\"> Total params: </span><span style=\"color: #00af00; text-decoration-color: #00af00\">23,587,712</span> (89.98 MB)\n",
       "</pre>\n"
      ],
      "text/plain": [
       "\u001b[1m Total params: \u001b[0m\u001b[38;5;34m23,587,712\u001b[0m (89.98 MB)\n"
      ]
     },
     "metadata": {},
     "output_type": "display_data"
    },
    {
     "data": {
      "text/html": [
       "<pre style=\"white-space:pre;overflow-x:auto;line-height:normal;font-family:Menlo,'DejaVu Sans Mono',consolas,'Courier New',monospace\"><span style=\"font-weight: bold\"> Trainable params: </span><span style=\"color: #00af00; text-decoration-color: #00af00\">0</span> (0.00 B)\n",
       "</pre>\n"
      ],
      "text/plain": [
       "\u001b[1m Trainable params: \u001b[0m\u001b[38;5;34m0\u001b[0m (0.00 B)\n"
      ]
     },
     "metadata": {},
     "output_type": "display_data"
    },
    {
     "data": {
      "text/html": [
       "<pre style=\"white-space:pre;overflow-x:auto;line-height:normal;font-family:Menlo,'DejaVu Sans Mono',consolas,'Courier New',monospace\"><span style=\"font-weight: bold\"> Non-trainable params: </span><span style=\"color: #00af00; text-decoration-color: #00af00\">23,587,712</span> (89.98 MB)\n",
       "</pre>\n"
      ],
      "text/plain": [
       "\u001b[1m Non-trainable params: \u001b[0m\u001b[38;5;34m23,587,712\u001b[0m (89.98 MB)\n"
      ]
     },
     "metadata": {},
     "output_type": "display_data"
    }
   ],
   "source": [
    "model.summary()"
   ]
  },
  {
   "cell_type": "code",
   "execution_count": 125,
   "id": "857baded",
   "metadata": {},
   "outputs": [],
   "source": [
    "model.compile(optimizer=Adam(learning_rate=0.001), loss='sparse_categorical_crossentropy', metrics=['accuracy'])"
   ]
  },
  {
   "cell_type": "code",
   "execution_count": 25,
   "id": "dfa90ed1",
   "metadata": {},
   "outputs": [],
   "source": [
    "#sgd = SGD(learning_rate = 0.01, weight_decay = 1e-6, momentum = 0.9, nesterov = True)\n",
    "#model.compile(optimizer = 'adam', loss = 'sparse_categorical_crossentropy', metrics = ['accuracy'])"
   ]
  },
  {
   "cell_type": "code",
   "execution_count": 126,
   "id": "43f129ab",
   "metadata": {},
   "outputs": [
    {
     "name": "stdout",
     "output_type": "stream",
     "text": [
      "Epoch 1/20\n",
      "\u001b[1m52/52\u001b[0m \u001b[32m━━━━━━━━━━━━━━━━━━━━\u001b[0m\u001b[37m\u001b[0m \u001b[1m258s\u001b[0m 4s/step - accuracy: 0.5365 - loss: 3.0508\n",
      "Epoch 2/20\n",
      "\u001b[1m52/52\u001b[0m \u001b[32m━━━━━━━━━━━━━━━━━━━━\u001b[0m\u001b[37m\u001b[0m \u001b[1m185s\u001b[0m 3s/step - accuracy: 0.6594 - loss: 1.2107\n",
      "Epoch 3/20\n",
      "\u001b[1m52/52\u001b[0m \u001b[32m━━━━━━━━━━━━━━━━━━━━\u001b[0m\u001b[37m\u001b[0m \u001b[1m182s\u001b[0m 3s/step - accuracy: 0.6811 - loss: 1.0585\n",
      "Epoch 4/20\n",
      "\u001b[1m52/52\u001b[0m \u001b[32m━━━━━━━━━━━━━━━━━━━━\u001b[0m\u001b[37m\u001b[0m \u001b[1m189s\u001b[0m 3s/step - accuracy: 0.7115 - loss: 0.9463\n",
      "Epoch 5/20\n",
      "\u001b[1m52/52\u001b[0m \u001b[32m━━━━━━━━━━━━━━━━━━━━\u001b[0m\u001b[37m\u001b[0m \u001b[1m218s\u001b[0m 4s/step - accuracy: 0.7514 - loss: 0.7282\n",
      "Epoch 6/20\n",
      "\u001b[1m52/52\u001b[0m \u001b[32m━━━━━━━━━━━━━━━━━━━━\u001b[0m\u001b[37m\u001b[0m \u001b[1m204s\u001b[0m 4s/step - accuracy: 0.7381 - loss: 0.7320\n",
      "Epoch 7/20\n",
      "\u001b[1m52/52\u001b[0m \u001b[32m━━━━━━━━━━━━━━━━━━━━\u001b[0m\u001b[37m\u001b[0m \u001b[1m227s\u001b[0m 4s/step - accuracy: 0.8613 - loss: 0.4533\n",
      "Epoch 8/20\n",
      "\u001b[1m52/52\u001b[0m \u001b[32m━━━━━━━━━━━━━━━━━━━━\u001b[0m\u001b[37m\u001b[0m \u001b[1m278s\u001b[0m 5s/step - accuracy: 0.8476 - loss: 0.4484\n",
      "Epoch 9/20\n",
      "\u001b[1m52/52\u001b[0m \u001b[32m━━━━━━━━━━━━━━━━━━━━\u001b[0m\u001b[37m\u001b[0m \u001b[1m232s\u001b[0m 4s/step - accuracy: 0.9240 - loss: 0.2426\n",
      "Epoch 10/20\n",
      "\u001b[1m52/52\u001b[0m \u001b[32m━━━━━━━━━━━━━━━━━━━━\u001b[0m\u001b[37m\u001b[0m \u001b[1m192s\u001b[0m 3s/step - accuracy: 0.9360 - loss: 0.1953\n",
      "Epoch 11/20\n",
      "\u001b[1m52/52\u001b[0m \u001b[32m━━━━━━━━━━━━━━━━━━━━\u001b[0m\u001b[37m\u001b[0m \u001b[1m187s\u001b[0m 3s/step - accuracy: 0.9355 - loss: 0.1786\n",
      "Epoch 12/20\n",
      "\u001b[1m52/52\u001b[0m \u001b[32m━━━━━━━━━━━━━━━━━━━━\u001b[0m\u001b[37m\u001b[0m \u001b[1m176s\u001b[0m 3s/step - accuracy: 0.9692 - loss: 0.1107\n",
      "Epoch 13/20\n",
      "\u001b[1m52/52\u001b[0m \u001b[32m━━━━━━━━━━━━━━━━━━━━\u001b[0m\u001b[37m\u001b[0m \u001b[1m174s\u001b[0m 3s/step - accuracy: 0.9658 - loss: 0.1119\n",
      "Epoch 14/20\n",
      "\u001b[1m52/52\u001b[0m \u001b[32m━━━━━━━━━━━━━━━━━━━━\u001b[0m\u001b[37m\u001b[0m \u001b[1m176s\u001b[0m 3s/step - accuracy: 0.9742 - loss: 0.0941\n",
      "Epoch 15/20\n",
      "\u001b[1m52/52\u001b[0m \u001b[32m━━━━━━━━━━━━━━━━━━━━\u001b[0m\u001b[37m\u001b[0m \u001b[1m173s\u001b[0m 3s/step - accuracy: 0.9724 - loss: 0.0780\n",
      "Epoch 16/20\n",
      "\u001b[1m52/52\u001b[0m \u001b[32m━━━━━━━━━━━━━━━━━━━━\u001b[0m\u001b[37m\u001b[0m \u001b[1m175s\u001b[0m 3s/step - accuracy: 0.9943 - loss: 0.0279\n",
      "Epoch 17/20\n",
      "\u001b[1m52/52\u001b[0m \u001b[32m━━━━━━━━━━━━━━━━━━━━\u001b[0m\u001b[37m\u001b[0m \u001b[1m181s\u001b[0m 3s/step - accuracy: 0.9974 - loss: 0.0202\n",
      "Epoch 18/20\n",
      "\u001b[1m52/52\u001b[0m \u001b[32m━━━━━━━━━━━━━━━━━━━━\u001b[0m\u001b[37m\u001b[0m \u001b[1m202s\u001b[0m 4s/step - accuracy: 0.9965 - loss: 0.0146\n",
      "Epoch 19/20\n",
      "\u001b[1m52/52\u001b[0m \u001b[32m━━━━━━━━━━━━━━━━━━━━\u001b[0m\u001b[37m\u001b[0m \u001b[1m233s\u001b[0m 4s/step - accuracy: 0.9970 - loss: 0.0149\n",
      "Epoch 20/20\n",
      "\u001b[1m52/52\u001b[0m \u001b[32m━━━━━━━━━━━━━━━━━━━━\u001b[0m\u001b[37m\u001b[0m \u001b[1m200s\u001b[0m 4s/step - accuracy: 0.9938 - loss: 0.0251\n"
     ]
    },
    {
     "data": {
      "text/plain": [
       "<keras.src.callbacks.history.History at 0x20416652bb0>"
      ]
     },
     "execution_count": 126,
     "metadata": {},
     "output_type": "execute_result"
    }
   ],
   "source": [
    "model.fit(\n",
    "    train_dataset,\n",
    "    #validation_data=validation_dataset,\n",
    "    epochs=20  #20 #instead of 100, since takes too long over same accuracy, no oscillations\n",
    ")"
   ]
  },
  {
   "cell_type": "code",
   "execution_count": 22,
   "id": "c1957327",
   "metadata": {},
   "outputs": [],
   "source": [
    "#preds = model.predict(x)\n",
    "#print('Predicted:', decode_predictions(preds, top=3)[0])"
   ]
  },
  {
   "cell_type": "code",
   "execution_count": 127,
   "id": "3c3f2a5d",
   "metadata": {},
   "outputs": [],
   "source": [
    "model.save('./models/resnet50_single_channel_model.keras')"
   ]
  },
  {
   "cell_type": "markdown",
   "id": "ffb02ff9",
   "metadata": {},
   "source": [
    "## TESTING: EMPIRICAL ON IMAGES: TRAINED ON SINGLE CHANNEL, TESTED ON MULTICHANNEL"
   ]
  },
  {
   "cell_type": "code",
   "execution_count": null,
   "id": "a8bbbf1e",
   "metadata": {},
   "outputs": [],
   "source": []
  }
 ],
 "metadata": {
  "kernelspec": {
   "display_name": "Python 3 (ipykernel)",
   "language": "python",
   "name": "python3"
  },
  "language_info": {
   "codemirror_mode": {
    "name": "ipython",
    "version": 3
   },
   "file_extension": ".py",
   "mimetype": "text/x-python",
   "name": "python",
   "nbconvert_exporter": "python",
   "pygments_lexer": "ipython3",
   "version": "3.9.16"
  }
 },
 "nbformat": 4,
 "nbformat_minor": 5
}
