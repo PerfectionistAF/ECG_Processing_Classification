{
 "cells": [
  {
   "cell_type": "code",
   "execution_count": 1,
   "id": "f9cebf5f",
   "metadata": {},
   "outputs": [],
   "source": [
    "#necessary libraries\n",
    "import tensorflow as tf\n",
    "from tensorflow import keras\n",
    "from tensorflow.keras import layers\n",
    "from keras.applications.vgg16 import VGG16\n",
    "from keras.applications.vgg16 import decode_predictions\n",
    "from keras.applications.vgg16 import preprocess_input\n",
    "from keras.preprocessing import image\n",
    "from tensorflow.keras.layers import Input, Conv2D, MaxPooling2D\n",
    "from tensorflow.keras.layers import Dense, Flatten\n",
    "from tensorflow.keras.models import Model\n",
    "import datetime\n",
    "import numpy as np\n",
    "import os\n",
    "import tensorflow as tf\n",
    "import matplotlib.pyplot as plt\n",
    "from tqdm import tqdm\n",
    "#import cv2\n",
    "#import PIL.Image\n",
    "import matplotlib \n",
    "import seaborn as sns\n",
    "from IPython.display import display\n",
    "import matplotlib.pyplot as plt\n",
    "%matplotlib inline\n",
    "import shutil\n",
    "import posixpath\n",
    "import sys \n",
    "import glob\n",
    "#import wfdb\n",
    "import pandas as pd\n",
    "import math\n",
    "#from PIL import Image"
   ]
  },
  {
   "cell_type": "code",
   "execution_count": 2,
   "id": "d4dedde1",
   "metadata": {},
   "outputs": [],
   "source": [
    "import tensorflow as tf\n",
    "from tensorflow import keras\n",
    "from keras.applications.resnet50 import ResNet50\n",
    "from keras.applications.resnet50 import preprocess_input, decode_predictions\n",
    "from tensorflow.keras import layers, saving\n",
    "from tensorflow.keras.layers import Dense, Flatten\n",
    "from tensorflow.keras.optimizers import Adam, SGD\n",
    "import numpy as np\n",
    "from keras.models import Sequential"
   ]
  },
  {
   "cell_type": "code",
   "execution_count": 3,
   "id": "1131bc07-ad54-4050-95dd-41e1d1d1b892",
   "metadata": {},
   "outputs": [
    {
     "name": "stdout",
     "output_type": "stream",
     "text": [
      "WARNING:tensorflow:From C:\\Users\\Sohayla\\AppData\\Local\\Temp\\ipykernel_17588\\2573193790.py:1: The name tf.ConfigProto is deprecated. Please use tf.compat.v1.ConfigProto instead.\n",
      "\n"
     ]
    },
    {
     "data": {
      "text/plain": [
       "device_count {\n",
       "  key: \"CPU\"\n",
       "  value: 10\n",
       "}\n",
       "device_count {\n",
       "  key: \"GPU\"\n",
       "  value: 1\n",
       "}"
      ]
     },
     "execution_count": 3,
     "metadata": {},
     "output_type": "execute_result"
    }
   ],
   "source": [
    "tf.compat.v1.ConfigProto( device_count = {'GPU': 1 , 'CPU': 10})"
   ]
  },
  {
   "cell_type": "code",
   "execution_count": 4,
   "id": "0f375f84-e907-47a9-a37e-2b17a77000d1",
   "metadata": {},
   "outputs": [],
   "source": [
    "##load model\n",
    "model = keras.saving.load_model('./models/resnet50_multi_images.keras')"
   ]
  },
  {
   "cell_type": "code",
   "execution_count": 6,
   "id": "3b0bac94-558d-4cf2-8484-ddbb356873e2",
   "metadata": {},
   "outputs": [],
   "source": [
    "def predict_image(image_path):\n",
    "    img = image.load_img(image_path, target_size=(224, 224, 3))\n",
    "    x = image.img_to_array(img)\n",
    "    x = np.expand_dims(x, axis=0)\n",
    "    x = preprocess_input(x)\n",
    "    preds = model.predict(x)\n",
    "    return preds"
   ]
  },
  {
   "cell_type": "code",
   "execution_count": 7,
   "id": "5b9774c3-b4ee-44a5-9042-4347faa1dac5",
   "metadata": {},
   "outputs": [
    {
     "name": "stdout",
     "output_type": "stream",
     "text": [
      "\u001b[1m1/1\u001b[0m \u001b[32m━━━━━━━━━━━━━━━━━━━━\u001b[0m\u001b[37m\u001b[0m \u001b[1m19s\u001b[0m 19s/step\n"
     ]
    },
    {
     "data": {
      "text/plain": [
       "array([[6.997472e-23, 1.000000e+00]], dtype=float32)"
      ]
     },
     "execution_count": 7,
     "metadata": {},
     "output_type": "execute_result"
    }
   ],
   "source": [
    "predict_image('sample_ecg_1089.png')  ##new model"
   ]
  },
  {
   "cell_type": "code",
   "execution_count": 8,
   "id": "134c89a7-b0b5-426a-a5a7-2a55e31635ac",
   "metadata": {},
   "outputs": [
    {
     "name": "stdout",
     "output_type": "stream",
     "text": [
      "\u001b[1m1/1\u001b[0m \u001b[32m━━━━━━━━━━━━━━━━━━━━\u001b[0m\u001b[37m\u001b[0m \u001b[1m0s\u001b[0m 255ms/step\n"
     ]
    },
    {
     "data": {
      "text/plain": [
       "array([[1.4106507e-12, 1.0000000e+00]], dtype=float32)"
      ]
     },
     "execution_count": 8,
     "metadata": {},
     "output_type": "execute_result"
    }
   ],
   "source": [
    "predict_image('sample_ecg_0.png')   ##new model"
   ]
  },
  {
   "cell_type": "code",
   "execution_count": 9,
   "id": "8860a55b-fee5-4c9d-9617-8aa8b15db6ce",
   "metadata": {},
   "outputs": [
    {
     "name": "stdout",
     "output_type": "stream",
     "text": [
      "\u001b[1m1/1\u001b[0m \u001b[32m━━━━━━━━━━━━━━━━━━━━\u001b[0m\u001b[37m\u001b[0m \u001b[1m0s\u001b[0m 203ms/step\n"
     ]
    },
    {
     "data": {
      "text/plain": [
       "array([[0.97279197, 0.02720801]], dtype=float32)"
      ]
     },
     "execution_count": 9,
     "metadata": {},
     "output_type": "execute_result"
    }
   ],
   "source": [
    "predict_image('./ptb_ecg_filtered/train_multi/Healthy control/948_multiple_ Healthy control.png')##new model"
   ]
  },
  {
   "cell_type": "code",
   "execution_count": 10,
   "id": "b16ffa0b-0950-4a7c-bc53-d0ad831324bc",
   "metadata": {},
   "outputs": [
    {
     "name": "stdout",
     "output_type": "stream",
     "text": [
      "\u001b[1m1/1\u001b[0m \u001b[32m━━━━━━━━━━━━━━━━━━━━\u001b[0m\u001b[37m\u001b[0m \u001b[1m0s\u001b[0m 278ms/step\n"
     ]
    },
    {
     "data": {
      "text/plain": [
       "array([[2.6409014e-20, 1.0000000e+00]], dtype=float32)"
      ]
     },
     "execution_count": 10,
     "metadata": {},
     "output_type": "execute_result"
    }
   ],
   "source": [
    "predict_image('12_sick_single.png')##new model---image based"
   ]
  },
  {
   "cell_type": "code",
   "execution_count": null,
   "id": "bf08b590-1516-463c-9ac6-18a40ddcc4c0",
   "metadata": {},
   "outputs": [],
   "source": []
  },
  {
   "cell_type": "code",
   "execution_count": null,
   "id": "4772a203-3461-4c39-93e6-baab1a39faf1",
   "metadata": {},
   "outputs": [],
   "source": []
  },
  {
   "cell_type": "code",
   "execution_count": null,
   "id": "d677d158-0430-4ef1-a6f8-3f28e2f7ca98",
   "metadata": {},
   "outputs": [],
   "source": []
  },
  {
   "cell_type": "code",
   "execution_count": null,
   "id": "c4e0969e-2440-4118-a8b3-902cb0223c5b",
   "metadata": {},
   "outputs": [],
   "source": []
  },
  {
   "cell_type": "code",
   "execution_count": 5,
   "id": "dfc708fb-fa3f-4c06-901b-be3c89c9e3a8",
   "metadata": {},
   "outputs": [],
   "source": [
    "def max_class_prob(predictions):\n",
    "    _max = max(predictions[0])\n",
    "    solution = 0\n",
    "    for i in range(1, len(predictions[0])):\n",
    "        if predictions[0][i] == _max:\n",
    "            solution = i\n",
    "        continue\n",
    "            \n",
    "    return _max, solution"
   ]
  },
  {
   "cell_type": "code",
   "execution_count": 47,
   "id": "324bc8fb-5b5b-4849-8d9c-f9c5f4c66c4a",
   "metadata": {},
   "outputs": [
    {
     "name": "stdout",
     "output_type": "stream",
     "text": [
      "\u001b[1m1/1\u001b[0m \u001b[32m━━━━━━━━━━━━━━━━━━━━\u001b[0m\u001b[37m\u001b[0m \u001b[1m0s\u001b[0m 171ms/step\n",
      "Predicted: [[0.0000000e+00 0.0000000e+00 1.9870746e-25 0.0000000e+00 0.0000000e+00\n",
      "  0.0000000e+00 0.0000000e+00 0.0000000e+00 1.0000000e+00 0.0000000e+00\n",
      "  0.0000000e+00 0.0000000e+00 0.0000000e+00 0.0000000e+00 0.0000000e+00]]\n",
      "Max probability is at class number: 8\n"
     ]
    }
   ],
   "source": [
    "##old model\n",
    "img_path = './ptb_ecg_filtered/train_multi/Myocardial Infarction/16_multiple_ Myocardial infarction.png'\n",
    "img = keras.utils.load_img(img_path, target_size=(224, 224))\n",
    "x = keras.utils.img_to_array(img)\n",
    "x = np.expand_dims(x, axis=0)\n",
    "x = preprocess_input(x)\n",
    "\n",
    "preds = loaded_model.predict(x, batch_size=32)\n",
    "print('Predicted:', preds)\n",
    "_max, soln = max_class_prob(preds)\n",
    "print('Max probability is at class number:', soln)"
   ]
  },
  {
   "cell_type": "code",
   "execution_count": 48,
   "id": "ee2a39f2-9418-40ac-a969-8cf9347b9a69",
   "metadata": {},
   "outputs": [
    {
     "name": "stdout",
     "output_type": "stream",
     "text": [
      "\u001b[1m1/1\u001b[0m \u001b[32m━━━━━━━━━━━━━━━━━━━━\u001b[0m\u001b[37m\u001b[0m \u001b[1m0s\u001b[0m 166ms/step\n",
      "Predicted: [[0.0000000e+00 1.7003404e-34 9.2071768e-28 1.1895526e-21 0.0000000e+00\n",
      "  0.0000000e+00 0.0000000e+00 4.7863273e-27 1.0000000e+00 4.1757647e-32\n",
      "  0.0000000e+00 5.7787904e-34 2.3793084e-38 0.0000000e+00 7.7073503e-32]]\n",
      "Max probability is at class number: 8\n"
     ]
    }
   ],
   "source": [
    "##old model\n",
    "img_path = './ptb_ecg_filtered/train_multi/Healthy control/949_multiple_ Healthy control.png'\n",
    "img = keras.utils.load_img(img_path, target_size=(224, 224))\n",
    "x = keras.utils.img_to_array(img)\n",
    "x = np.expand_dims(x, axis=0)\n",
    "x = preprocess_input(x)\n",
    "\n",
    "preds = loaded_model.predict(x, batch_size=32)\n",
    "print('Predicted:', preds)\n",
    "_max, soln = max_class_prob(preds)\n",
    "print('Max probability is at class number:', soln)"
   ]
  },
  {
   "cell_type": "code",
   "execution_count": 50,
   "id": "70d1faa3-85b7-4f0f-8d20-f8d19b848cbe",
   "metadata": {},
   "outputs": [
    {
     "name": "stdout",
     "output_type": "stream",
     "text": [
      "\u001b[1m1/1\u001b[0m \u001b[32m━━━━━━━━━━━━━━━━━━━━\u001b[0m\u001b[37m\u001b[0m \u001b[1m0s\u001b[0m 222ms/step\n",
      "Predicted: [[0.0000000e+00 0.0000000e+00 2.6503566e-21 3.1790779e-27 4.9160409e-36\n",
      "  0.0000000e+00 3.4473655e-37 6.3377441e-31 1.0000000e+00 7.2800549e-37\n",
      "  0.0000000e+00 9.3668962e-32 0.0000000e+00 0.0000000e+00 3.1520013e-29]]\n",
      "Max probability is at class number: 8\n"
     ]
    }
   ],
   "source": [
    "##old model\n",
    "img_path = './ptb_ecg_filtered/train_multi/Bundle branch block/1164_multiple_ Bundle branch block.png'\n",
    "img = keras.utils.load_img(img_path, target_size=(224, 224))\n",
    "x = keras.utils.img_to_array(img)\n",
    "x = np.expand_dims(x, axis=0)\n",
    "x = preprocess_input(x)\n",
    "\n",
    "preds = loaded_model.predict(x, batch_size=32)\n",
    "print('Predicted:', preds)\n",
    "_max, soln = max_class_prob(preds)\n",
    "print('Max probability is at class number:', soln)"
   ]
  },
  {
   "cell_type": "code",
   "execution_count": null,
   "id": "cd4b8b22-b642-4604-8159-b5f4018bfe27",
   "metadata": {},
   "outputs": [],
   "source": []
  }
 ],
 "metadata": {
  "kernelspec": {
   "display_name": "Python 3 (ipykernel)",
   "language": "python",
   "name": "python3"
  },
  "language_info": {
   "codemirror_mode": {
    "name": "ipython",
    "version": 3
   },
   "file_extension": ".py",
   "mimetype": "text/x-python",
   "name": "python",
   "nbconvert_exporter": "python",
   "pygments_lexer": "ipython3",
   "version": "3.11.7"
  }
 },
 "nbformat": 4,
 "nbformat_minor": 5
}
