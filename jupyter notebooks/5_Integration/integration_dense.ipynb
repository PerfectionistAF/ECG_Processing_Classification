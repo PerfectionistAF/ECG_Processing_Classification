{
 "cells": [
  {
   "cell_type": "code",
   "execution_count": 10,
   "id": "41c59523-0e4f-4666-9363-e13373524b89",
   "metadata": {},
   "outputs": [],
   "source": [
    "from keras.models import Model\n",
    "from keras.layers import Input, Dense, Concatenate\n",
    "import torch\n",
    "from torch import nn, tensor"
   ]
  },
  {
   "cell_type": "code",
   "execution_count": 2,
   "id": "1700403f-84e5-4607-9ee5-bdb56e3c71eb",
   "metadata": {},
   "outputs": [],
   "source": [
    "import pandas as pd\n",
    "import numpy as np\n",
    "import sys\n",
    "pd.options.display.max_colwidth\n",
    "pd.set_option(\"display.expand_frame_repr\", True)\n",
    "pd.set_option('display.width', 1000)\n",
    "np.set_printoptions(threshold=1000)"
   ]
  },
  {
   "cell_type": "code",
   "execution_count": 6,
   "id": "04975828-fdc8-44f6-aee7-ad39e4d5e672",
   "metadata": {},
   "outputs": [
    {
     "name": "stdout",
     "output_type": "stream",
     "text": [
      "    age  sex   cp  trestbps   chol  fbs  restecg  thalach  exang  oldpeak  \\\n",
      "0  51.0  1.0  4.0     140.0  299.0  0.0      0.0    173.0    1.0      1.6   \n",
      "1  59.0  1.0  4.0     110.0  239.0  0.0      2.0    142.0    1.0      1.2   \n",
      "2  70.0  1.0  4.0     130.0  322.0  0.0      2.0    109.0    0.0      2.4   \n",
      "3  52.0  1.0  2.0     128.0  205.0  1.0      0.0    184.0    0.0      0.0   \n",
      "4  60.0  1.0  4.0     145.0  282.0  0.0      2.0    142.0    1.0      2.8   \n",
      "\n",
      "   slope   ca  thal  num age_category  total_risk  exercise_angina  \\\n",
      "0    1.0  0.0   7.0    1  Middle-aged       439.0             True   \n",
      "1    2.0  1.0   7.0    1  Middle-aged       349.0            False   \n",
      "2    2.0  3.0   3.0    1       Senior       452.0            False   \n",
      "3    1.0  0.0   3.0    0  Middle-aged       333.0            False   \n",
      "4    2.0  2.0   7.0    1       Senior       427.0            False   \n",
      "\n",
      "   cholesterol_hdl_ratio  \n",
      "0               1.728324  \n",
      "1               1.683099  \n",
      "2               2.954128  \n",
      "3               1.114130  \n",
      "4               1.985915  \n",
      "Training Accuracy: 0.98\n",
      "Testing Accuracy: 0.96\n",
      "\n",
      "Confusion Matrix training:\n",
      "[[249   2]\n",
      " [  9 198]]\n",
      "\n",
      "Confusion Matrix testing:\n",
      "[[61  2]\n",
      " [ 3 49]]\n",
      "\n",
      "Classification Report:\n",
      "              precision    recall  f1-score   support\n",
      "\n",
      "           0       0.95      0.97      0.96        63\n",
      "           1       0.96      0.94      0.95        52\n",
      "\n",
      "    accuracy                           0.96       115\n",
      "   macro avg       0.96      0.96      0.96       115\n",
      "weighted avg       0.96      0.96      0.96       115\n",
      "\n"
     ]
    }
   ],
   "source": [
    "##generate labels from risk factor on example dataset\n",
    "%run E:/Jupyter/A_DNN/risk_factors/risk_factors.py"
   ]
  },
  {
   "cell_type": "code",
   "execution_count": 7,
   "id": "81b2f686-a32c-4d32-99e9-7429c81f39ee",
   "metadata": {},
   "outputs": [
    {
     "data": {
      "text/html": [
       "<div>\n",
       "<style scoped>\n",
       "    .dataframe tbody tr th:only-of-type {\n",
       "        vertical-align: middle;\n",
       "    }\n",
       "\n",
       "    .dataframe tbody tr th {\n",
       "        vertical-align: top;\n",
       "    }\n",
       "\n",
       "    .dataframe thead th {\n",
       "        text-align: right;\n",
       "    }\n",
       "</style>\n",
       "<table border=\"1\" class=\"dataframe\">\n",
       "  <thead>\n",
       "    <tr style=\"text-align: right;\">\n",
       "      <th></th>\n",
       "      <th>age</th>\n",
       "      <th>sex</th>\n",
       "      <th>cp</th>\n",
       "      <th>trestbps</th>\n",
       "      <th>chol</th>\n",
       "      <th>fbs</th>\n",
       "      <th>restecg</th>\n",
       "      <th>thalach</th>\n",
       "      <th>exang</th>\n",
       "      <th>oldpeak</th>\n",
       "      <th>slope</th>\n",
       "      <th>ca</th>\n",
       "      <th>thal</th>\n",
       "      <th>num</th>\n",
       "      <th>age_category</th>\n",
       "      <th>total_risk</th>\n",
       "      <th>exercise_angina</th>\n",
       "      <th>cholesterol_hdl_ratio</th>\n",
       "    </tr>\n",
       "  </thead>\n",
       "  <tbody>\n",
       "    <tr>\n",
       "      <th>421</th>\n",
       "      <td>49.0</td>\n",
       "      <td>1.0</td>\n",
       "      <td>3.0</td>\n",
       "      <td>118.0</td>\n",
       "      <td>149.0</td>\n",
       "      <td>0.0</td>\n",
       "      <td>2.0</td>\n",
       "      <td>126.0</td>\n",
       "      <td>0.0</td>\n",
       "      <td>0.8</td>\n",
       "      <td>1.0</td>\n",
       "      <td>3.0</td>\n",
       "      <td>3.0</td>\n",
       "      <td>1</td>\n",
       "      <td>Middle-aged</td>\n",
       "      <td>267.0</td>\n",
       "      <td>False</td>\n",
       "      <td>1.18254</td>\n",
       "    </tr>\n",
       "  </tbody>\n",
       "</table>\n",
       "</div>"
      ],
      "text/plain": [
       "      age  sex   cp  trestbps   chol  fbs  restecg  thalach  exang  oldpeak  \\\n",
       "421  49.0  1.0  3.0     118.0  149.0  0.0      2.0    126.0    0.0      0.8   \n",
       "\n",
       "     slope   ca  thal  num age_category  total_risk  exercise_angina  \\\n",
       "421    1.0  3.0   3.0    1  Middle-aged       267.0            False   \n",
       "\n",
       "     cholesterol_hdl_ratio  \n",
       "421                1.18254  "
      ]
     },
     "execution_count": 7,
     "metadata": {},
     "output_type": "execute_result"
    }
   ],
   "source": [
    "table_data = df\n",
    "table_data.sample()"
   ]
  },
  {
   "cell_type": "code",
   "execution_count": 10,
   "id": "6a9ad938-97dc-4686-a0e0-6fe285715599",
   "metadata": {},
   "outputs": [
    {
     "data": {
      "text/plain": [
       "(573, 18)"
      ]
     },
     "execution_count": 10,
     "metadata": {},
     "output_type": "execute_result"
    }
   ],
   "source": [
    "table_data.shape"
   ]
  },
  {
   "cell_type": "code",
   "execution_count": 3,
   "id": "8b58f567-b89c-4dff-aa2f-484daf0b19fc",
   "metadata": {},
   "outputs": [],
   "source": [
    "##generate labels from ecg on example dataset\n",
    "#%run E:/Jupyter/A_DNN/convnetquake-pso.ipynb  ##uncomment to retrain and visualise\n",
    "%run E:/VSprojects/ECG_Processing_Classification/ECG_Processing_Classification/mi_diagnosis/ecg/convnetquake-pso.py"
   ]
  },
  {
   "cell_type": "code",
   "execution_count": 4,
   "id": "b881b737-8979-4063-925f-aba0b70bd4c7",
   "metadata": {
    "scrolled": true
   },
   "outputs": [
    {
     "data": {
      "text/plain": [
       "<bound method Module.parameters of DataParallel(\n",
       "  (module): ConvNetQuake(\n",
       "    (conv1): Conv1d(3, 32, kernel_size=(3,), stride=(2,), padding=(1,))\n",
       "    (conv2): Conv1d(32, 32, kernel_size=(3,), stride=(2,), padding=(1,))\n",
       "    (conv3): Conv1d(32, 32, kernel_size=(3,), stride=(2,), padding=(1,))\n",
       "    (conv4): Conv1d(32, 32, kernel_size=(3,), stride=(2,), padding=(1,))\n",
       "    (conv5): Conv1d(32, 32, kernel_size=(3,), stride=(2,), padding=(1,))\n",
       "    (conv6): Conv1d(32, 32, kernel_size=(3,), stride=(2,), padding=(1,))\n",
       "    (conv7): Conv1d(32, 32, kernel_size=(3,), stride=(2,), padding=(1,))\n",
       "    (conv8): Conv1d(32, 32, kernel_size=(3,), stride=(2,), padding=(1,))\n",
       "    (linear1): Linear(in_features=1280, out_features=128, bias=True)\n",
       "    (linear2): Linear(in_features=128, out_features=1, bias=True)\n",
       "    (sigmoid): Sigmoid()\n",
       "    (bn1): BatchNorm1d(32, eps=1e-05, momentum=0.1, affine=True, track_running_stats=True)\n",
       "    (bn2): BatchNorm1d(32, eps=1e-05, momentum=0.1, affine=True, track_running_stats=True)\n",
       "    (bn3): BatchNorm1d(32, eps=1e-05, momentum=0.1, affine=True, track_running_stats=True)\n",
       "    (bn4): BatchNorm1d(32, eps=1e-05, momentum=0.1, affine=True, track_running_stats=True)\n",
       "    (bn5): BatchNorm1d(32, eps=1e-05, momentum=0.1, affine=True, track_running_stats=True)\n",
       "    (bn6): BatchNorm1d(32, eps=1e-05, momentum=0.1, affine=True, track_running_stats=True)\n",
       "    (bn7): BatchNorm1d(32, eps=1e-05, momentum=0.1, affine=True, track_running_stats=True)\n",
       "    (bn8): BatchNorm1d(32, eps=1e-05, momentum=0.1, affine=True, track_running_stats=True)\n",
       "  )\n",
       ")>"
      ]
     },
     "execution_count": 4,
     "metadata": {},
     "output_type": "execute_result"
    }
   ],
   "source": [
    "##Load DataParallel object model.pth\n",
    "model.parameters ##test model from imported .py"
   ]
  },
  {
   "cell_type": "code",
   "execution_count": 25,
   "id": "66d695eb-7d21-4a8c-99cb-da353bfd6e01",
   "metadata": {},
   "outputs": [],
   "source": [
    "#torch.save(model.state_dict(), \"models\")"
   ]
  },
  {
   "cell_type": "code",
   "execution_count": 5,
   "id": "cb476551-122d-4aef-bbad-5c45b34081a7",
   "metadata": {},
   "outputs": [],
   "source": [
    "##load pytorch file containing pretrained model\n",
    "#model.load_state_dict(\n",
    "loaded_model_2 = torch.load(\"./models/convnet-pso_multiple_channel.pth\")\n",
    "#)\n",
    "#loaded_model_2"
   ]
  },
  {
   "cell_type": "code",
   "execution_count": 17,
   "id": "3010f9e6-3d0d-4ba2-8de0-0d61d09eb8f1",
   "metadata": {},
   "outputs": [
    {
     "data": {
      "text/plain": [
       "collections.OrderedDict"
      ]
     },
     "execution_count": 17,
     "metadata": {},
     "output_type": "execute_result"
    }
   ],
   "source": [
    "type(loaded_model_2)"
   ]
  },
  {
   "cell_type": "code",
   "execution_count": 6,
   "id": "c32116a2-cc0c-4c9e-ba5b-3e8ccc61fbca",
   "metadata": {},
   "outputs": [
    {
     "data": {
      "text/html": [
       "<div>\n",
       "<style scoped>\n",
       "    .dataframe tbody tr th:only-of-type {\n",
       "        vertical-align: middle;\n",
       "    }\n",
       "\n",
       "    .dataframe tbody tr th {\n",
       "        vertical-align: top;\n",
       "    }\n",
       "\n",
       "    .dataframe thead th {\n",
       "        text-align: right;\n",
       "    }\n",
       "</style>\n",
       "<table border=\"1\" class=\"dataframe\">\n",
       "  <thead>\n",
       "    <tr style=\"text-align: right;\">\n",
       "      <th></th>\n",
       "      <th>Unnamed: 0</th>\n",
       "      <th>ii</th>\n",
       "      <th>v6</th>\n",
       "      <th>vz</th>\n",
       "    </tr>\n",
       "  </thead>\n",
       "  <tbody>\n",
       "    <tr>\n",
       "      <th>36</th>\n",
       "      <td>36</td>\n",
       "      <td>[-0.2105 -0.2145 -0.212  ...  0.164   0.163   ...</td>\n",
       "      <td>[ 0.543   0.547   0.5465 ... -0.475  -0.4745 -...</td>\n",
       "      <td>[-1.0895 -1.0925 -1.0905 ...  1.0945  1.097   ...</td>\n",
       "    </tr>\n",
       "  </tbody>\n",
       "</table>\n",
       "</div>"
      ],
      "text/plain": [
       "    Unnamed: 0                                                 ii                                                 v6                                                 vz\n",
       "36          36  [-0.2105 -0.2145 -0.212  ...  0.164   0.163   ...  [ 0.543   0.547   0.5465 ... -0.475  -0.4745 -...  [-1.0895 -1.0925 -1.0905 ...  1.0945  1.097   ..."
      ]
     },
     "execution_count": 6,
     "metadata": {},
     "output_type": "execute_result"
    }
   ],
   "source": [
    "##test diagnosis on loaded model\n",
    "##from ptb_data_prepare.ipynb, healthy_train_signals.csv\n",
    "#%run E:/Jupyter/A_DNN/ptb_data_prepare.ipynb\n",
    "file_path = \"E:/Jupyter/A_DNN/healthy_train_signals.csv\"\n",
    "ecg_data = pd.read_csv(file_path)\n",
    "ecg_data.sample()"
   ]
  },
  {
   "cell_type": "raw",
   "id": "5161d0c1-c431-4eb2-bab2-7221c5140234",
   "metadata": {},
   "source": [
    "#V6 EXAMPLE\n",
    "'''array([0.458 , 0.458 , 0.457 , 0.4555, 0.453 , 0.45  , 0.449 , 0.45  ,\n",
    "       0.448 , 0.4455, 0.4465, 0.4505, 0.4515, 0.4535, 0.4585, 0.4605,\n",
    "       0.4655, 0.4715, 0.4715, 0.4715, 0.4765, 0.4795, 0.4795, 0.482 ,\n",
    "       0.487 , 0.4875, 0.485 , 0.483 , 0.4805, 0.479 , 0.4795, 0.482 ,\n",
    "       0.483 , 0.4795, 0.4785, 0.476 , 0.472 , 0.473 , 0.4785, 0.484 ,\n",
    "       0.4825, 0.4785, 0.4725, 0.4625, 0.459 , 0.457 , 0.4535, 0.4565,\n",
    "       0.4605, 0.465 , 0.4725, 0.477 , 0.481 ])'''"
   ]
  },
  {
   "cell_type": "raw",
   "id": "af0263eb-c83f-4a54-961e-20580d31550b",
   "metadata": {},
   "source": [
    "#VZ EXAMPLE\n",
    "'''array([-0.1025, -0.1   , -0.0925, -0.0885, -0.0905, -0.0905, -0.0895,\n",
    "       -0.085 , -0.08  , -0.0825, -0.0835, -0.067 , -0.064 , -0.0665,\n",
    "       -0.064 , -0.0685, -0.0695, -0.082 , -0.0865, -0.085 , -0.089 ,\n",
    "       -0.0855, -0.087 , -0.091 , -0.091 , -0.092 , -0.09  , -0.0805,\n",
    "       -0.0745, -0.075 , -0.0705, -0.07  , -0.081 , -0.086 , -0.0935,\n",
    "       -0.105 , -0.0935, -0.08  , -0.0865, -0.0795, -0.073 , -0.0835,\n",
    "       -0.0895, -0.0915, -0.0885, -0.0925, -0.1015, -0.105 , -0.105 ,\n",
    "       -0.1005, -0.1035, -0.109 , -0.113 ])'''"
   ]
  },
  {
   "cell_type": "code",
   "execution_count": 14,
   "id": "32ca475d-303a-4017-92a1-c3861aaaf687",
   "metadata": {},
   "outputs": [],
   "source": [
    "#pd.set_option('display.max_colwidth', None)\n",
    "#pd.set_option('display.max_colwidth', None)\n",
    "#print(ecg_data['ii'][18])\n",
    "#pd.options.display.max_colwidth\n",
    "ecg_test =[[-0.1245, -0.1275, -0.1305, -0.134 , -0.134 , -0.1345, -0.1345,\n",
    "       -0.1345, -0.132 , -0.1295, -0.128 , -0.1225, -0.121 , -0.123 ,\n",
    "       -0.128 , -0.132 , -0.13  , -0.127 , -0.13  , -0.133 , -0.1305,\n",
    "       -0.1235, -0.1205, -0.121 , -0.121 , -0.1205, -0.1205, -0.122 ,\n",
    "       -0.123 , -0.1215, -0.1165, -0.1125, -0.1145, -0.117 , -0.1175,\n",
    "       -0.115 , -0.105 , -0.1   , -0.1095, -0.114 , -0.114 , -0.1145,\n",
    "       -0.1115, -0.104 , -0.103 , -0.1075, -0.1105, -0.114 , -0.1135,\n",
    "       -0.1115, -0.108 , -0.107 , -0.114 ],\n",
    "           [0.458 , 0.458 , 0.457 , 0.4555, 0.453 , 0.45  , 0.449 , 0.45  ,\n",
    "       0.448 , 0.4455, 0.4465, 0.4505, 0.4515, 0.4535, 0.4585, 0.4605,\n",
    "       0.4655, 0.4715, 0.4715, 0.4715, 0.4765, 0.4795, 0.4795, 0.482 ,\n",
    "       0.487 , 0.4875, 0.485 , 0.483 , 0.4805, 0.479 , 0.4795, 0.482 ,\n",
    "       0.483 , 0.4795, 0.4785, 0.476 , 0.472 , 0.473 , 0.4785, 0.484 ,\n",
    "       0.4825, 0.4785, 0.4725, 0.4625, 0.459 , 0.457 , 0.4535, 0.4565,\n",
    "       0.4605, 0.465 , 0.4725, 0.477 , 0.481 ],\n",
    "           [-0.1025, -0.1   , -0.0925, -0.0885, -0.0905, -0.0905, -0.0895,\n",
    "       -0.085 , -0.08  , -0.0825, -0.0835, -0.067 , -0.064 , -0.0665,\n",
    "       -0.064 , -0.0685, -0.0695, -0.082 , -0.0865, -0.085 , -0.089 ,\n",
    "       -0.0855, -0.087 , -0.091 , -0.091 , -0.092 , -0.09  , -0.0805,\n",
    "       -0.0745, -0.075 , -0.0705, -0.07  , -0.081 , -0.086 , -0.0935,\n",
    "       -0.105 , -0.0935, -0.08  , -0.0865, -0.0795, -0.073 , -0.0835,\n",
    "       -0.0895, -0.0915, -0.0885, -0.0925, -0.1015, -0.105 , -0.105 ,\n",
    "       -0.1005, -0.1035, -0.109 , -0.113 ]]\n",
    "ecg_tensor = torch.tensor(ecg_test)"
   ]
  },
  {
   "cell_type": "code",
   "execution_count": 15,
   "id": "17df6fff-084d-4290-a736-3ccc2bd15ab9",
   "metadata": {},
   "outputs": [
    {
     "data": {
      "text/plain": [
       "torch.Tensor"
      ]
     },
     "execution_count": 15,
     "metadata": {},
     "output_type": "execute_result"
    }
   ],
   "source": [
    "type(ecg_tensor)"
   ]
  },
  {
   "cell_type": "code",
   "execution_count": 32,
   "id": "a756d6c9-bcfa-4384-9a70-b79d4ee8c8c4",
   "metadata": {},
   "outputs": [
    {
     "ename": "RuntimeError",
     "evalue": "Error(s) in loading state_dict for DataParallel:\n\tMissing key(s) in state_dict: \"module.conv1.weight\", \"module.conv1.bias\", \"module.conv2.weight\", \"module.conv2.bias\", \"module.conv3.weight\", \"module.conv3.bias\", \"module.conv4.weight\", \"module.conv4.bias\", \"module.conv5.weight\", \"module.conv5.bias\", \"module.conv6.weight\", \"module.conv6.bias\", \"module.conv7.weight\", \"module.conv7.bias\", \"module.conv8.weight\", \"module.conv8.bias\", \"module.linear1.weight\", \"module.linear1.bias\", \"module.linear2.weight\", \"module.linear2.bias\", \"module.bn1.weight\", \"module.bn1.bias\", \"module.bn1.running_mean\", \"module.bn1.running_var\", \"module.bn2.weight\", \"module.bn2.bias\", \"module.bn2.running_mean\", \"module.bn2.running_var\", \"module.bn3.weight\", \"module.bn3.bias\", \"module.bn3.running_mean\", \"module.bn3.running_var\", \"module.bn4.weight\", \"module.bn4.bias\", \"module.bn4.running_mean\", \"module.bn4.running_var\", \"module.bn5.weight\", \"module.bn5.bias\", \"module.bn5.running_mean\", \"module.bn5.running_var\", \"module.bn6.weight\", \"module.bn6.bias\", \"module.bn6.running_mean\", \"module.bn6.running_var\", \"module.bn7.weight\", \"module.bn7.bias\", \"module.bn7.running_mean\", \"module.bn7.running_var\", \"module.bn8.weight\", \"module.bn8.bias\", \"module.bn8.running_mean\", \"module.bn8.running_var\". \n\tUnexpected key(s) in state_dict: \"conv1.weight\", \"conv1.bias\", \"conv2.weight\", \"conv2.bias\", \"conv3.weight\", \"conv3.bias\", \"conv4.weight\", \"conv4.bias\", \"conv5.weight\", \"conv5.bias\", \"conv6.weight\", \"conv6.bias\", \"conv7.weight\", \"conv7.bias\", \"conv8.weight\", \"conv8.bias\", \"linear1.weight\", \"linear1.bias\", \"linear2.weight\", \"linear2.bias\", \"bn1.weight\", \"bn1.bias\", \"bn1.running_mean\", \"bn1.running_var\", \"bn1.num_batches_tracked\", \"bn2.weight\", \"bn2.bias\", \"bn2.running_mean\", \"bn2.running_var\", \"bn2.num_batches_tracked\", \"bn3.weight\", \"bn3.bias\", \"bn3.running_mean\", \"bn3.running_var\", \"bn3.num_batches_tracked\", \"bn4.weight\", \"bn4.bias\", \"bn4.running_mean\", \"bn4.running_var\", \"bn4.num_batches_tracked\", \"bn5.weight\", \"bn5.bias\", \"bn5.running_mean\", \"bn5.running_var\", \"bn5.num_batches_tracked\", \"bn6.weight\", \"bn6.bias\", \"bn6.running_mean\", \"bn6.running_var\", \"bn6.num_batches_tracked\", \"bn7.weight\", \"bn7.bias\", \"bn7.running_mean\", \"bn7.running_var\", \"bn7.num_batches_tracked\", \"bn8.weight\", \"bn8.bias\", \"bn8.running_mean\", \"bn8.running_var\", \"bn8.num_batches_tracked\". ",
     "output_type": "error",
     "traceback": [
      "\u001b[1;31m---------------------------------------------------------------------------\u001b[0m",
      "\u001b[1;31mRuntimeError\u001b[0m                              Traceback (most recent call last)",
      "Cell \u001b[1;32mIn[32], line 1\u001b[0m\n\u001b[1;32m----> 1\u001b[0m model\u001b[38;5;241m.\u001b[39mload_state_dict(torch\u001b[38;5;241m.\u001b[39mload(\u001b[38;5;124m\"\u001b[39m\u001b[38;5;124m./models/convnet-pso_multiple_channel.pth\u001b[39m\u001b[38;5;124m\"\u001b[39m))\n",
      "File \u001b[1;32mE:\\Downloads\\ANACONDA3\\ANACONDA3\\Lib\\site-packages\\torch\\nn\\modules\\module.py:2189\u001b[0m, in \u001b[0;36mModule.load_state_dict\u001b[1;34m(self, state_dict, strict, assign)\u001b[0m\n\u001b[0;32m   2184\u001b[0m         error_msgs\u001b[38;5;241m.\u001b[39minsert(\n\u001b[0;32m   2185\u001b[0m             \u001b[38;5;241m0\u001b[39m, \u001b[38;5;124m'\u001b[39m\u001b[38;5;124mMissing key(s) in state_dict: \u001b[39m\u001b[38;5;132;01m{}\u001b[39;00m\u001b[38;5;124m. \u001b[39m\u001b[38;5;124m'\u001b[39m\u001b[38;5;241m.\u001b[39mformat(\n\u001b[0;32m   2186\u001b[0m                 \u001b[38;5;124m'\u001b[39m\u001b[38;5;124m, \u001b[39m\u001b[38;5;124m'\u001b[39m\u001b[38;5;241m.\u001b[39mjoin(\u001b[38;5;124mf\u001b[39m\u001b[38;5;124m'\u001b[39m\u001b[38;5;124m\"\u001b[39m\u001b[38;5;132;01m{\u001b[39;00mk\u001b[38;5;132;01m}\u001b[39;00m\u001b[38;5;124m\"\u001b[39m\u001b[38;5;124m'\u001b[39m \u001b[38;5;28;01mfor\u001b[39;00m k \u001b[38;5;129;01min\u001b[39;00m missing_keys)))\n\u001b[0;32m   2188\u001b[0m \u001b[38;5;28;01mif\u001b[39;00m \u001b[38;5;28mlen\u001b[39m(error_msgs) \u001b[38;5;241m>\u001b[39m \u001b[38;5;241m0\u001b[39m:\n\u001b[1;32m-> 2189\u001b[0m     \u001b[38;5;28;01mraise\u001b[39;00m \u001b[38;5;167;01mRuntimeError\u001b[39;00m(\u001b[38;5;124m'\u001b[39m\u001b[38;5;124mError(s) in loading state_dict for \u001b[39m\u001b[38;5;132;01m{}\u001b[39;00m\u001b[38;5;124m:\u001b[39m\u001b[38;5;130;01m\\n\u001b[39;00m\u001b[38;5;130;01m\\t\u001b[39;00m\u001b[38;5;132;01m{}\u001b[39;00m\u001b[38;5;124m'\u001b[39m\u001b[38;5;241m.\u001b[39mformat(\n\u001b[0;32m   2190\u001b[0m                        \u001b[38;5;28mself\u001b[39m\u001b[38;5;241m.\u001b[39m\u001b[38;5;18m__class__\u001b[39m\u001b[38;5;241m.\u001b[39m\u001b[38;5;18m__name__\u001b[39m, \u001b[38;5;124m\"\u001b[39m\u001b[38;5;130;01m\\n\u001b[39;00m\u001b[38;5;130;01m\\t\u001b[39;00m\u001b[38;5;124m\"\u001b[39m\u001b[38;5;241m.\u001b[39mjoin(error_msgs)))\n\u001b[0;32m   2191\u001b[0m \u001b[38;5;28;01mreturn\u001b[39;00m _IncompatibleKeys(missing_keys, unexpected_keys)\n",
      "\u001b[1;31mRuntimeError\u001b[0m: Error(s) in loading state_dict for DataParallel:\n\tMissing key(s) in state_dict: \"module.conv1.weight\", \"module.conv1.bias\", \"module.conv2.weight\", \"module.conv2.bias\", \"module.conv3.weight\", \"module.conv3.bias\", \"module.conv4.weight\", \"module.conv4.bias\", \"module.conv5.weight\", \"module.conv5.bias\", \"module.conv6.weight\", \"module.conv6.bias\", \"module.conv7.weight\", \"module.conv7.bias\", \"module.conv8.weight\", \"module.conv8.bias\", \"module.linear1.weight\", \"module.linear1.bias\", \"module.linear2.weight\", \"module.linear2.bias\", \"module.bn1.weight\", \"module.bn1.bias\", \"module.bn1.running_mean\", \"module.bn1.running_var\", \"module.bn2.weight\", \"module.bn2.bias\", \"module.bn2.running_mean\", \"module.bn2.running_var\", \"module.bn3.weight\", \"module.bn3.bias\", \"module.bn3.running_mean\", \"module.bn3.running_var\", \"module.bn4.weight\", \"module.bn4.bias\", \"module.bn4.running_mean\", \"module.bn4.running_var\", \"module.bn5.weight\", \"module.bn5.bias\", \"module.bn5.running_mean\", \"module.bn5.running_var\", \"module.bn6.weight\", \"module.bn6.bias\", \"module.bn6.running_mean\", \"module.bn6.running_var\", \"module.bn7.weight\", \"module.bn7.bias\", \"module.bn7.running_mean\", \"module.bn7.running_var\", \"module.bn8.weight\", \"module.bn8.bias\", \"module.bn8.running_mean\", \"module.bn8.running_var\". \n\tUnexpected key(s) in state_dict: \"conv1.weight\", \"conv1.bias\", \"conv2.weight\", \"conv2.bias\", \"conv3.weight\", \"conv3.bias\", \"conv4.weight\", \"conv4.bias\", \"conv5.weight\", \"conv5.bias\", \"conv6.weight\", \"conv6.bias\", \"conv7.weight\", \"conv7.bias\", \"conv8.weight\", \"conv8.bias\", \"linear1.weight\", \"linear1.bias\", \"linear2.weight\", \"linear2.bias\", \"bn1.weight\", \"bn1.bias\", \"bn1.running_mean\", \"bn1.running_var\", \"bn1.num_batches_tracked\", \"bn2.weight\", \"bn2.bias\", \"bn2.running_mean\", \"bn2.running_var\", \"bn2.num_batches_tracked\", \"bn3.weight\", \"bn3.bias\", \"bn3.running_mean\", \"bn3.running_var\", \"bn3.num_batches_tracked\", \"bn4.weight\", \"bn4.bias\", \"bn4.running_mean\", \"bn4.running_var\", \"bn4.num_batches_tracked\", \"bn5.weight\", \"bn5.bias\", \"bn5.running_mean\", \"bn5.running_var\", \"bn5.num_batches_tracked\", \"bn6.weight\", \"bn6.bias\", \"bn6.running_mean\", \"bn6.running_var\", \"bn6.num_batches_tracked\", \"bn7.weight\", \"bn7.bias\", \"bn7.running_mean\", \"bn7.running_var\", \"bn7.num_batches_tracked\", \"bn8.weight\", \"bn8.bias\", \"bn8.running_mean\", \"bn8.running_var\", \"bn8.num_batches_tracked\". "
     ]
    }
   ],
   "source": [
    "model.load_state_dict(torch.load(\"./models/convnet-pso_multiple_channel.pth\"))"
   ]
  },
  {
   "cell_type": "code",
   "execution_count": 31,
   "id": "13ebc227-633c-47f1-8fac-8ccf4fcc32b2",
   "metadata": {},
   "outputs": [
    {
     "ename": "TypeError",
     "evalue": "'collections.OrderedDict' object is not callable",
     "output_type": "error",
     "traceback": [
      "\u001b[1;31m---------------------------------------------------------------------------\u001b[0m",
      "\u001b[1;31mTypeError\u001b[0m                                 Traceback (most recent call last)",
      "Cell \u001b[1;32mIn[31], line 1\u001b[0m\n\u001b[1;32m----> 1\u001b[0m ecg_pred \u001b[38;5;241m=\u001b[39m loaded_model_2(ecg_tensor)\n",
      "\u001b[1;31mTypeError\u001b[0m: 'collections.OrderedDict' object is not callable"
     ]
    }
   ],
   "source": [
    "ecg_pred = loaded_model_2(ecg_tensor)"
   ]
  },
  {
   "cell_type": "code",
   "execution_count": 25,
   "id": "877d1e19-a3bd-4e64-a471-5820fd56586a",
   "metadata": {},
   "outputs": [],
   "source": [
    "image_input = Input(shape=(224,16))#Input(shape=(224, 224))\n",
    "table_input = Input(shape=(224,16))#Input(shape=(576,18))   ##Image segement 1/14 + all features  ##loop over segments"
   ]
  },
  {
   "cell_type": "code",
   "execution_count": 26,
   "id": "1eb9634f-cad3-46a8-9ec7-49e75a95a8b7",
   "metadata": {},
   "outputs": [],
   "source": [
    "# Define the network architecture for each modality\n",
    "###TEST DIMENSIONS\n",
    "image_branch = Dense(256, activation='relu')(image_input)\n",
    "table_branch = Dense(256, activation='relu')(table_input)"
   ]
  },
  {
   "cell_type": "code",
   "execution_count": 27,
   "id": "4abd1eb3-450a-419b-9fb9-fe98b0097e7c",
   "metadata": {},
   "outputs": [],
   "source": [
    "#Concat dense layers after both are tarined on their respective cnns\n",
    "fusion_layer = Concatenate()([image_branch, table_branch])"
   ]
  },
  {
   "cell_type": "code",
   "execution_count": 28,
   "id": "7ffb0996-c16a-4041-a285-c936cbed54a8",
   "metadata": {},
   "outputs": [],
   "source": [
    "fusion_layer = Dense(128, activation='relu')(fusion_layer)\n",
    "output_layer = Dense(2, activation='softmax')(fusion_layer)  ##2 output classes, healthy or unhealthy"
   ]
  },
  {
   "cell_type": "code",
   "execution_count": 29,
   "id": "3ba7687d-009a-4079-81ce-53393abe931b",
   "metadata": {},
   "outputs": [],
   "source": [
    "model = Model(inputs=[image_input, table_input], outputs=output_layer)"
   ]
  },
  {
   "cell_type": "code",
   "execution_count": 30,
   "id": "55cc019c-42a9-4cc6-bdf2-cc9d456476fb",
   "metadata": {},
   "outputs": [],
   "source": [
    "model.compile(optimizer='adam', loss='categorical_crossentropy', metrics=['accuracy'])"
   ]
  },
  {
   "cell_type": "code",
   "execution_count": null,
   "id": "3cf7e797-1d91-477e-a1d8-be8f95f1e6a9",
   "metadata": {},
   "outputs": [],
   "source": [
    "#model.fit([images, texts], labels, epochs=10, batch_size=32)"
   ]
  },
  {
   "cell_type": "code",
   "execution_count": null,
   "id": "83e5adea-f514-4906-b939-11a88585bc52",
   "metadata": {},
   "outputs": [],
   "source": [
    "# Define the input layers for each modality\n",
    "#image_input = Input(shape=(224, 224, 3))  # Example input shape for images\n",
    "#text_input = Input(shape=(100,))  # Example input shape for text\n",
    "\n",
    "# Define the network architecture for each modality\n",
    "#image_branch = Dense(256, activation='relu')(image_input)\n",
    "#text_branch = Dense(256, activation='relu')(text_input)\n",
    "\n",
    "# Concatenate the outputs of the modalities\n",
    "#fusion_layer = Concatenate()([image_branch, text_branch])\n",
    "\n",
    "# Add additional layers for fusion and prediction\n",
    "#fusion_layer = Dense(128, activation='relu')(fusion_layer)\n",
    "#output_layer = Dense(num_classes, activation='softmax')(fusion_layer)  # Replace 'num_classes' with the number of output classes\n",
    "\n",
    "# Create the multi-modal deep fusion model\n",
    "#model = Model(inputs=[image_input, text_input], outputs=output_layer)\n",
    "\n",
    "# Compile the model\n",
    "#model.compile(optimizer='adam', loss='categorical_crossentropy', metrics=['accuracy'])\n",
    "\n",
    "# Train the model\n",
    "#model.fit([images, texts], labels, epochs=10, batch_size=32)  # Replace 'images', 'texts', and 'labels' with your training data"
   ]
  },
  {
   "cell_type": "code",
   "execution_count": 4,
   "id": "a87cee35-445a-4a3a-993d-e2607697470c",
   "metadata": {},
   "outputs": [
    {
     "name": "stdout",
     "output_type": "stream",
     "text": [
      "0.0 0.0 34.285714285714285 640.0\n",
      "0.0 34.285714285714285 34.285714285714285 640.0\n",
      "0.0 68.57142857142857 34.285714285714285 640.0\n",
      "0.0 102.85714285714286 34.285714285714285 640.0\n",
      "0.0 137.14285714285714 34.285714285714285 640.0\n",
      "0.0 171.42857142857142 34.285714285714285 640.0\n",
      "0.0 205.71428571428572 34.285714285714285 640.0\n",
      "0.0 240.0 34.285714285714285 640.0\n",
      "0.0 274.2857142857143 34.285714285714285 640.0\n",
      "0.0 308.57142857142856 34.285714285714285 640.0\n",
      "0.0 342.85714285714283 34.285714285714285 640.0\n",
      "0.0 377.1428571428571 34.285714285714285 640.0\n",
      "0.0 411.42857142857144 34.285714285714285 640.0\n",
      "0.0 445.7142857142857 34.285714285714285 640.0\n"
     ]
    }
   ],
   "source": [
    "##remove index column on copy of dataframe and take all columns except age column to get 224x16\n",
    "##divide the 224 image height into 14 images 224x16\n",
    "import cv2,time\n",
    "\n",
    "img = cv2.imread('E:/Jupyter/A_DNN/ptb_ecg_filtered/0_multiple_ Myocardial infarction.png')\n",
    "img2 = img\n",
    "\n",
    "height, width, channels = img.shape\n",
    "# Number of pieces Horizontally \n",
    "W_SIZE  = 1 \n",
    "# Number of pieces Vertically to each Horizontal  \n",
    "H_SIZE = 14\n",
    "\n",
    "for ih in range(H_SIZE ):\n",
    "   for iw in range(W_SIZE ):\n",
    "   \n",
    "      x = width/W_SIZE * iw \n",
    "      y = height/H_SIZE * ih\n",
    "      h = (height / H_SIZE)\n",
    "      w = (width / W_SIZE )\n",
    "      print(x,y,h,w)\n",
    "      img = img[int(y):int(y+h), int(x):int(x+w)]\n",
    "      NAME = str(time.time()) \n",
    "      cv2.imwrite(\"output_images/\" + str(ih)+str(iw) +  \".png\",img)\n",
    "      img = img2"
   ]
  }
 ],
 "metadata": {
  "kernelspec": {
   "display_name": "Python 3 (ipykernel)",
   "language": "python",
   "name": "python3"
  },
  "language_info": {
   "codemirror_mode": {
    "name": "ipython",
    "version": 3
   },
   "file_extension": ".py",
   "mimetype": "text/x-python",
   "name": "python",
   "nbconvert_exporter": "python",
   "pygments_lexer": "ipython3",
   "version": "3.11.7"
  }
 },
 "nbformat": 4,
 "nbformat_minor": 5
}
