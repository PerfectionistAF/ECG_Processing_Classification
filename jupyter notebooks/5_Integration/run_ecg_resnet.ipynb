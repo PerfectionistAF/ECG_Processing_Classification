{
 "cells": [
  {
   "cell_type": "code",
   "execution_count": 1,
   "id": "f9cebf5f",
   "metadata": {},
   "outputs": [],
   "source": [
    "#necessary libraries\n",
    "import tensorflow as tf\n",
    "from tensorflow import keras\n",
    "from tensorflow.keras import layers\n",
    "from keras.applications.vgg16 import VGG16\n",
    "from keras.applications.vgg16 import decode_predictions\n",
    "from keras.applications.vgg16 import preprocess_input\n",
    "from keras.preprocessing import image\n",
    "from tensorflow.keras.layers import Input, Conv2D, MaxPooling2D\n",
    "from tensorflow.keras.layers import Dense, Flatten\n",
    "from tensorflow.keras.models import Model\n",
    "import datetime\n",
    "import numpy as np\n",
    "import os\n",
    "import tensorflow as tf\n",
    "import matplotlib.pyplot as plt\n",
    "from tqdm import tqdm\n",
    "#import cv2\n",
    "#import PIL.Image\n",
    "import matplotlib \n",
    "import seaborn as sns\n",
    "from IPython.display import display\n",
    "import matplotlib.pyplot as plt\n",
    "%matplotlib inline\n",
    "import shutil\n",
    "import posixpath\n",
    "import sys \n",
    "import glob\n",
    "#import wfdb\n",
    "import pandas as pd\n",
    "import math\n",
    "#from PIL import Image"
   ]
  },
  {
   "cell_type": "code",
   "execution_count": 6,
   "id": "d4dedde1",
   "metadata": {},
   "outputs": [],
   "source": [
    "import tensorflow as tf\n",
    "from tensorflow import keras\n",
    "from keras.applications.resnet50 import ResNet50\n",
    "from keras.applications.resnet50 import preprocess_input, decode_predictions\n",
    "from tensorflow.keras import layers, saving\n",
    "from tensorflow.keras.layers import Dense, Flatten\n",
    "from tensorflow.keras.optimizers import Adam, SGD\n",
    "import numpy as np\n",
    "from keras.models import Sequential"
   ]
  },
  {
   "cell_type": "code",
   "execution_count": 7,
   "id": "1131bc07-ad54-4050-95dd-41e1d1d1b892",
   "metadata": {},
   "outputs": [
    {
     "data": {
      "text/plain": [
       "device_count {\n",
       "  key: \"CPU\"\n",
       "  value: 10\n",
       "}\n",
       "device_count {\n",
       "  key: \"GPU\"\n",
       "  value: 1\n",
       "}"
      ]
     },
     "execution_count": 7,
     "metadata": {},
     "output_type": "execute_result"
    }
   ],
   "source": [
    "tf.compat.v1.ConfigProto( device_count = {'GPU': 1 , 'CPU': 10})"
   ]
  },
  {
   "cell_type": "code",
   "execution_count": 44,
   "id": "0f375f84-e907-47a9-a37e-2b17a77000d1",
   "metadata": {},
   "outputs": [],
   "source": [
    "##load model\n",
    "loaded_model = keras.saving.load_model('./models/resnet50_multiple_channel_model.keras')"
   ]
  },
  {
   "cell_type": "code",
   "execution_count": 116,
   "id": "c413af56-f04c-4df3-b9f5-16751c6b8630",
   "metadata": {},
   "outputs": [
    {
     "name": "stdout",
     "output_type": "stream",
     "text": [
      "\u001b[1m1/1\u001b[0m \u001b[32m━━━━━━━━━━━━━━━━━━━━\u001b[0m\u001b[37m\u001b[0m \u001b[1m12s\u001b[0m 12s/step\n",
      "Predicted: [[1.0091747e-37 8.7429252e-35 1.7267054e-15 1.4166500e-27 0.0000000e+00\n",
      "  0.0000000e+00 0.0000000e+00 2.5575683e-37 1.0000000e+00 2.0013872e-37\n",
      "  0.0000000e+00 3.4696354e-37 0.0000000e+00 0.0000000e+00 7.4498863e-36]]\n"
     ]
    }
   ],
   "source": [
    "img_path = 'sample_ecg_1089.png'\n",
    "img = keras.utils.load_img(img_path, target_size=(224, 224))\n",
    "x = keras.utils.img_to_array(img)\n",
    "x = np.expand_dims(x, axis=0)\n",
    "x = preprocess_input(x)\n",
    "\n",
    "preds = loaded_model.predict(x, batch_size=32)\n",
    "# decode the results into a list of tuples (class, description, probability)\n",
    "# (one such list for each sample in the batch)\n",
    "print('Predicted:', preds)"
   ]
  },
  {
   "cell_type": "code",
   "execution_count": 118,
   "id": "17e8a86c-72e7-4653-8022-aac47fea5e2b",
   "metadata": {},
   "outputs": [
    {
     "name": "stdout",
     "output_type": "stream",
     "text": [
      "\u001b[1m1/1\u001b[0m \u001b[32m━━━━━━━━━━━━━━━━━━━━\u001b[0m\u001b[37m\u001b[0m \u001b[1m0s\u001b[0m 343ms/step\n",
      "Predicted: [[9.7047877e-34 1.2910215e-27 1.6091647e-16 3.9707758e-19 0.0000000e+00\n",
      "  0.0000000e+00 0.0000000e+00 3.8653653e-27 1.0000000e+00 3.9208145e-29\n",
      "  0.0000000e+00 8.6078842e-32 0.0000000e+00 4.3769040e-37 1.7045988e-29]]\n"
     ]
    }
   ],
   "source": [
    "img_path = 'sample_ecg_0.png'\n",
    "img = keras.utils.load_img(img_path, target_size=(224, 224, 3))\n",
    "x = keras.utils.img_to_array(img)\n",
    "x = np.expand_dims(x, axis=0)\n",
    "x = preprocess_input(x)\n",
    "\n",
    "preds = loaded_model.predict(x, batch_size=32)\n",
    "# decode the results into a list of tuples (class, description, probability)\n",
    "# (one such list for each sample in the batch)\n",
    "print('Predicted:', preds)"
   ]
  },
  {
   "cell_type": "code",
   "execution_count": 119,
   "id": "1d0ce547-b98f-4429-9abc-22583d86698e",
   "metadata": {},
   "outputs": [
    {
     "name": "stdout",
     "output_type": "stream",
     "text": [
      "\u001b[1m1/1\u001b[0m \u001b[32m━━━━━━━━━━━━━━━━━━━━\u001b[0m\u001b[37m\u001b[0m \u001b[1m0s\u001b[0m 190ms/step\n",
      "Predicted: [[0.0000000e+00 1.7003404e-34 9.2071768e-28 1.1895526e-21 0.0000000e+00\n",
      "  0.0000000e+00 0.0000000e+00 4.7863273e-27 1.0000000e+00 4.1757647e-32\n",
      "  0.0000000e+00 5.7787904e-34 2.3793084e-38 0.0000000e+00 7.7073503e-32]]\n"
     ]
    }
   ],
   "source": [
    "img_path = './ptb_ecg_filtered/train_multi/Healthy control/948_multiple_ Healthy control.png'\n",
    "img = keras.utils.load_img(img_path, target_size=(224, 224))\n",
    "x = keras.utils.img_to_array(img)\n",
    "x = np.expand_dims(x, axis=0)\n",
    "x = preprocess_input(x)\n",
    "\n",
    "preds = loaded_model.predict(x, batch_size=32)\n",
    "# decode the results into a list of tuples (class, description, probability)\n",
    "# (one such list for each sample in the batch)\n",
    "print('Predicted:', preds)"
   ]
  },
  {
   "cell_type": "code",
   "execution_count": 123,
   "id": "324bc8fb-5b5b-4849-8d9c-f9c5f4c66c4a",
   "metadata": {},
   "outputs": [
    {
     "name": "stdout",
     "output_type": "stream",
     "text": [
      "\u001b[1m1/1\u001b[0m \u001b[32m━━━━━━━━━━━━━━━━━━━━\u001b[0m\u001b[37m\u001b[0m \u001b[1m0s\u001b[0m 269ms/step\n",
      "Predicted: [[0.0000000e+00 0.0000000e+00 1.9870746e-25 0.0000000e+00 0.0000000e+00\n",
      "  0.0000000e+00 0.0000000e+00 0.0000000e+00 1.0000000e+00 0.0000000e+00\n",
      "  0.0000000e+00 0.0000000e+00 0.0000000e+00 0.0000000e+00 0.0000000e+00]]\n"
     ]
    }
   ],
   "source": [
    "img_path = './ptb_ecg_filtered/train_multi/Myocardial Infarction/16_multiple_ Myocardial infarction.png'\n",
    "img = keras.utils.load_img(img_path, target_size=(224, 224))\n",
    "x = keras.utils.img_to_array(img)\n",
    "x = np.expand_dims(x, axis=0)\n",
    "x = preprocess_input(x)\n",
    "\n",
    "preds = loaded_model.predict(x, batch_size=32)\n",
    "# decode the results into a list of tuples (class, description, probability)\n",
    "# (one such list for each sample in the batch)\n",
    "print('Predicted:', preds)"
   ]
  },
  {
   "cell_type": "code",
   "execution_count": 136,
   "id": "ee2a39f2-9418-40ac-a969-8cf9347b9a69",
   "metadata": {},
   "outputs": [
    {
     "name": "stdout",
     "output_type": "stream",
     "text": [
      "\u001b[1m1/1\u001b[0m \u001b[32m━━━━━━━━━━━━━━━━━━━━\u001b[0m\u001b[37m\u001b[0m \u001b[1m0s\u001b[0m 244ms/step\n",
      "Predicted: [[0.0000000e+00 1.7003404e-34 9.2071768e-28 1.1895526e-21 0.0000000e+00\n",
      "  0.0000000e+00 0.0000000e+00 4.7863273e-27 1.0000000e+00 4.1757647e-32\n",
      "  0.0000000e+00 5.7787904e-34 2.3793084e-38 0.0000000e+00 7.7073503e-32]]\n"
     ]
    }
   ],
   "source": [
    "img_path = './ptb_ecg_filtered/train_multi/Healthy control/949_multiple_ Healthy control.png'\n",
    "img = keras.utils.load_img(img_path, target_size=(224, 224))\n",
    "x = keras.utils.img_to_array(img)\n",
    "x = np.expand_dims(x, axis=0)\n",
    "x = preprocess_input(x)\n",
    "\n",
    "preds = loaded_model.predict(x, batch_size=32)\n",
    "# decode the results into a list of tuples (class, description, probability)\n",
    "# (one such list for each sample in the batch)\n",
    "print('Predicted:', preds)"
   ]
  },
  {
   "cell_type": "code",
   "execution_count": 137,
   "id": "51128572-85b0-47c5-b28d-f5fe2b449176",
   "metadata": {},
   "outputs": [
    {
     "data": {
      "text/plain": [
       "[<matplotlib.lines.Line2D at 0x24742692010>]"
      ]
     },
     "execution_count": 137,
     "metadata": {},
     "output_type": "execute_result"
    },
    {
     "data": {
      "image/png": "[encoded data removed]",
      "text/plain": [
       "<Figure size 640x480 with 1 Axes>"
      ]
     },
     "metadata": {},
     "output_type": "display_data"
    }
   ],
   "source": [
    "from matplotlib import pyplot as plt\n",
    "plt.plot(preds[0])"
   ]
  },
  {
   "cell_type": "code",
   "execution_count": 134,
   "id": "1aecca97-9a9b-495b-9cce-62e9fb49fa8b",
   "metadata": {},
   "outputs": [
    {
     "name": "stdout",
     "output_type": "stream",
     "text": [
      "\u001b[1m1/1\u001b[0m \u001b[32m━━━━━━━━━━━━━━━━━━━━\u001b[0m\u001b[37m\u001b[0m \u001b[1m10s\u001b[0m 10s/step\n",
      "Predicted: [[6.2679515e-37 6.9783599e-38 4.1920748e-14 1.2539454e-24 5.6159529e-33\n",
      "  0.0000000e+00 2.1581786e-37 1.2888353e-37 1.0000000e+00 0.0000000e+00\n",
      "  0.0000000e+00 1.1950344e-34 0.0000000e+00 0.0000000e+00 2.3847110e-26]]\n"
     ]
    }
   ],
   "source": [
    "img_path = './ptb_ecg_filtered/train_multi/Myocardial Infarction/9_multiple_ Myocardial infarction.png'\n",
    "img = keras.utils.load_img(img_path, target_size=(224, 224))\n",
    "x = keras.utils.img_to_array(img)\n",
    "x = np.expand_dims(x, axis=0)\n",
    "x = preprocess_input(x)\n",
    "\n",
    "preds = loaded_model.predict(x, batch_size=32)\n",
    "# decode the results into a list of tuples (class, description, probability)\n",
    "# (one such list for each sample in the batch)\n",
    "print('Predicted:', preds)"
   ]
  },
  {
   "cell_type": "code",
   "execution_count": 135,
   "id": "a1ba541f-26ae-4dad-a659-9b29e31f53ce",
   "metadata": {},
   "outputs": [
    {
     "data": {
      "text/plain": [
       "[<matplotlib.lines.Line2D at 0x2474296e810>]"
      ]
     },
     "execution_count": 135,
     "metadata": {},
     "output_type": "execute_result"
    },
    {
     "data": {
      "image/png": "[encoded data removed]",
      "text/plain": [
       "<Figure size 640x480 with 1 Axes>"
      ]
     },
     "metadata": {},
     "output_type": "display_data"
    }
   ],
   "source": [
    "from matplotlib import pyplot as plt\n",
    "plt.plot(preds[0])"
   ]
  },
  {
   "cell_type": "code",
   "execution_count": 127,
   "id": "70d1faa3-85b7-4f0f-8d20-f8d19b848cbe",
   "metadata": {},
   "outputs": [
    {
     "name": "stdout",
     "output_type": "stream",
     "text": [
      "\u001b[1m1/1\u001b[0m \u001b[32m━━━━━━━━━━━━━━━━━━━━\u001b[0m\u001b[37m\u001b[0m \u001b[1m0s\u001b[0m 241ms/step\n",
      "Predicted: [[0.0000000e+00 0.0000000e+00 2.6503566e-21 3.1790779e-27 4.9160409e-36\n",
      "  0.0000000e+00 3.4473655e-37 6.3377441e-31 1.0000000e+00 7.2800549e-37\n",
      "  0.0000000e+00 9.3668962e-32 0.0000000e+00 0.0000000e+00 3.1520013e-29]]\n"
     ]
    }
   ],
   "source": [
    "img_path = './ptb_ecg_filtered/train_multi/Bundle branch block/1164_multiple_ Bundle branch block.png'\n",
    "img = keras.utils.load_img(img_path, target_size=(224, 224))\n",
    "x = keras.utils.img_to_array(img)\n",
    "x = np.expand_dims(x, axis=0)\n",
    "x = preprocess_input(x)\n",
    "\n",
    "preds = loaded_model.predict(x, batch_size=32)\n",
    "# decode the results into a list of tuples (class, description, probability)\n",
    "# (one such list for each sample in the batch)\n",
    "print('Predicted:', preds)"
   ]
  },
  {
   "cell_type": "code",
   "execution_count": 131,
   "id": "07da2ce6-edfa-49ce-ac5e-dd58d739706b",
   "metadata": {},
   "outputs": [
    {
     "name": "stdout",
     "output_type": "stream",
     "text": [
      "0.0\n",
      "0.0\n",
      "2.6503566e-21\n",
      "3.1790779e-27\n",
      "4.916041e-36\n",
      "0.0\n",
      "3.4473655e-37\n",
      "6.337744e-31\n",
      "1.0\n",
      "7.280055e-37\n",
      "0.0\n",
      "9.366896e-32\n",
      "0.0\n",
      "0.0\n",
      "3.1520013e-29\n"
     ]
    }
   ],
   "source": [
    "for i in range(preds.shape[1]):\n",
    "    print(preds[0][i])"
   ]
  },
  {
   "cell_type": "code",
   "execution_count": 133,
   "id": "d9603060-245d-4d75-95ae-143eced3c5ad",
   "metadata": {},
   "outputs": [
    {
     "data": {
      "text/plain": [
       "[<matplotlib.lines.Line2D at 0x24742801850>]"
      ]
     },
     "execution_count": 133,
     "metadata": {},
     "output_type": "execute_result"
    },
    {
     "data": {
      "image/png": "[encoded data removed]",
      "text/plain": [
       "<Figure size 640x480 with 1 Axes>"
      ]
     },
     "metadata": {},
     "output_type": "display_data"
    }
   ],
   "source": [
    "##plot most recent preds for bundle branch block\n",
    "from matplotlib import pyplot as plt\n",
    "plt.plot(preds[0])"
   ]
  },
  {
   "cell_type": "code",
   "execution_count": null,
   "id": "cd4b8b22-b642-4604-8159-b5f4018bfe27",
   "metadata": {},
   "outputs": [],
   "source": []
  }
 ],
 "metadata": {
  "kernelspec": {
   "display_name": "Python 3 (ipykernel)",
   "language": "python",
   "name": "python3"
  },
  "language_info": {
   "codemirror_mode": {
    "name": "ipython",
    "version": 3
   },
   "file_extension": ".py",
   "mimetype": "text/x-python",
   "name": "python",
   "nbconvert_exporter": "python",
   "pygments_lexer": "ipython3",
   "version": "3.11.7"
  }
 },
 "nbformat": 4,
 "nbformat_minor": 5
}
