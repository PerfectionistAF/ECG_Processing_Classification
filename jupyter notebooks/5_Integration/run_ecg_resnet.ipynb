{
 "cells": [
  {
   "cell_type": "code",
   "execution_count": 1,
   "id": "f9cebf5f",
   "metadata": {},
   "outputs": [],
   "source": [
    "#necessary libraries\n",
    "import tensorflow as tf\n",
    "from tensorflow import keras\n",
    "from tensorflow.keras import layers\n",
    "from keras.applications.vgg16 import VGG16\n",
    "from keras.applications.vgg16 import decode_predictions\n",
    "from keras.applications.vgg16 import preprocess_input\n",
    "from keras.preprocessing import image\n",
    "from tensorflow.keras.layers import Input, Conv2D, MaxPooling2D\n",
    "from tensorflow.keras.layers import Dense, Flatten\n",
    "from tensorflow.keras.models import Model\n",
    "import datetime\n",
    "import numpy as np\n",
    "import os\n",
    "import tensorflow as tf\n",
    "import matplotlib.pyplot as plt\n",
    "from tqdm import tqdm\n",
    "#import cv2\n",
    "#import PIL.Image\n",
    "import matplotlib \n",
    "import seaborn as sns\n",
    "from IPython.display import display\n",
    "import matplotlib.pyplot as plt\n",
    "%matplotlib inline\n",
    "import shutil\n",
    "import posixpath\n",
    "import sys \n",
    "import glob\n",
    "#import wfdb\n",
    "import pandas as pd\n",
    "import math\n",
    "#from PIL import Image"
   ]
  },
  {
   "cell_type": "code",
   "execution_count": 2,
   "id": "d4dedde1",
   "metadata": {},
   "outputs": [],
   "source": [
    "import tensorflow as tf\n",
    "from tensorflow import keras\n",
    "from keras.applications.resnet50 import ResNet50\n",
    "from keras.applications.resnet50 import preprocess_input, decode_predictions\n",
    "from tensorflow.keras import layers, saving\n",
    "from tensorflow.keras.layers import Dense, Flatten\n",
    "from tensorflow.keras.optimizers import Adam, SGD\n",
    "import numpy as np\n",
    "from keras.models import Sequential"
   ]
  },
  {
   "cell_type": "code",
   "execution_count": 3,
   "id": "1131bc07-ad54-4050-95dd-41e1d1d1b892",
   "metadata": {},
   "outputs": [
    {
     "name": "stdout",
     "output_type": "stream",
     "text": [
      "WARNING:tensorflow:From C:\\Users\\Sohayla\\AppData\\Local\\Temp\\ipykernel_256\\2573193790.py:1: The name tf.ConfigProto is deprecated. Please use tf.compat.v1.ConfigProto instead.\n",
      "\n"
     ]
    },
    {
     "data": {
      "text/plain": [
       "device_count {\n",
       "  key: \"CPU\"\n",
       "  value: 10\n",
       "}\n",
       "device_count {\n",
       "  key: \"GPU\"\n",
       "  value: 1\n",
       "}"
      ]
     },
     "execution_count": 3,
     "metadata": {},
     "output_type": "execute_result"
    }
   ],
   "source": [
    "tf.compat.v1.ConfigProto( device_count = {'GPU': 1 , 'CPU': 10})"
   ]
  },
  {
   "cell_type": "code",
   "execution_count": 4,
   "id": "3b0bac94-558d-4cf2-8484-ddbb356873e2",
   "metadata": {},
   "outputs": [],
   "source": [
    "def predict_image(image_path, model):   ##overload function\n",
    "    img = image.load_img(image_path, target_size=(224, 224, 3))\n",
    "    x = image.img_to_array(img)\n",
    "    x = np.expand_dims(x, axis=0)\n",
    "    x = preprocess_input(x)\n",
    "    preds = model.predict(x)\n",
    "    return preds"
   ]
  },
  {
   "cell_type": "code",
   "execution_count": 48,
   "id": "96ccf015-f1c2-4af8-8e33-26faa3656e0c",
   "metadata": {},
   "outputs": [],
   "source": [
    "def disease_predict(array):\n",
    "    label = 0\n",
    "    for i in range(0,2):\n",
    "        if array[0][0] < array[0][1] :\n",
    "            label = 1\n",
    "\n",
    "    return label\n",
    "\n",
    "def generate_label(predict_list):\n",
    "    threshold = 2/3 * len(predict_list)\n",
    "    count_ones = sum(1 for x in predict_list if x == 1)\n",
    "    \n",
    "    if count_ones >= threshold:\n",
    "        return 1\n",
    "    else:\n",
    "        return 0"
   ]
  },
  {
   "cell_type": "markdown",
   "id": "fdd21810-274c-4ab5-ab35-1d06cb5a1083",
   "metadata": {},
   "source": [
    "## _FEATURE IMAGE BASED MODEL, 5 CHANNELS UNDER HERMITE TRANSFORM, 2 CLASSES_"
   ]
  },
  {
   "cell_type": "code",
   "execution_count": 7,
   "id": "0f375f84-e907-47a9-a37e-2b17a77000d1",
   "metadata": {},
   "outputs": [],
   "source": [
    "##load model\n",
    "model = keras.saving.load_model('./models/resnet50_multi_images.keras')"
   ]
  },
  {
   "cell_type": "code",
   "execution_count": 9,
   "id": "5b9774c3-b4ee-44a5-9042-4347faa1dac5",
   "metadata": {},
   "outputs": [
    {
     "name": "stdout",
     "output_type": "stream",
     "text": [
      "\u001b[1m1/1\u001b[0m \u001b[32m━━━━━━━━━━━━━━━━━━━━\u001b[0m\u001b[37m\u001b[0m \u001b[1m16s\u001b[0m 16s/step\n"
     ]
    },
    {
     "data": {
      "text/plain": [
       "array([[6.996937e-23, 1.000000e+00]], dtype=float32)"
      ]
     },
     "execution_count": 9,
     "metadata": {},
     "output_type": "execute_result"
    }
   ],
   "source": [
    "predict_image('sample_ecg_1089.png', model)  ##new model---image based"
   ]
  },
  {
   "cell_type": "code",
   "execution_count": 10,
   "id": "458b944a-b051-440c-86e7-c7ae5cfe1826",
   "metadata": {},
   "outputs": [
    {
     "name": "stdout",
     "output_type": "stream",
     "text": [
      "1\n"
     ]
    }
   ],
   "source": [
    "print(disease_predict([[6.996937e-23, 1.000000e+00]]))"
   ]
  },
  {
   "cell_type": "code",
   "execution_count": 12,
   "id": "134c89a7-b0b5-426a-a5a7-2a55e31635ac",
   "metadata": {},
   "outputs": [
    {
     "name": "stdout",
     "output_type": "stream",
     "text": [
      "\u001b[1m1/1\u001b[0m \u001b[32m━━━━━━━━━━━━━━━━━━━━\u001b[0m\u001b[37m\u001b[0m \u001b[1m0s\u001b[0m 383ms/step\n",
      "1\n"
     ]
    }
   ],
   "source": [
    "print(disease_predict(predict_image('sample_ecg_0.png', model)))   ##new model---image based"
   ]
  },
  {
   "cell_type": "code",
   "execution_count": 13,
   "id": "8860a55b-fee5-4c9d-9617-8aa8b15db6ce",
   "metadata": {},
   "outputs": [
    {
     "name": "stdout",
     "output_type": "stream",
     "text": [
      "\u001b[1m1/1\u001b[0m \u001b[32m━━━━━━━━━━━━━━━━━━━━\u001b[0m\u001b[37m\u001b[0m \u001b[1m0s\u001b[0m 302ms/step\n",
      "0\n"
     ]
    }
   ],
   "source": [
    "print(disease_predict(predict_image('./ptb_ecg_filtered/train_multi/Healthy control/948_multiple_ Healthy control.png', model)))##new model---image based"
   ]
  },
  {
   "cell_type": "code",
   "execution_count": 14,
   "id": "b16ffa0b-0950-4a7c-bc53-d0ad831324bc",
   "metadata": {},
   "outputs": [
    {
     "name": "stdout",
     "output_type": "stream",
     "text": [
      "\u001b[1m1/1\u001b[0m \u001b[32m━━━━━━━━━━━━━━━━━━━━\u001b[0m\u001b[37m\u001b[0m \u001b[1m0s\u001b[0m 229ms/step\n",
      "1\n"
     ]
    }
   ],
   "source": [
    "print(disease_predict(predict_image('12_sick_single.png',model)))##new model---image based"
   ]
  },
  {
   "cell_type": "markdown",
   "id": "5dcefa6c-a209-4a5c-9aa6-169accad2bee",
   "metadata": {},
   "source": [
    "## _CHANNEL IMAGE BASED MODEL, 3 SEPARATE CHANNELS WITHOUT BASELINE, 2 CLASSES_"
   ]
  },
  {
   "cell_type": "code",
   "execution_count": 6,
   "id": "4772a203-3461-4c39-93e6-baab1a39faf1",
   "metadata": {},
   "outputs": [],
   "source": [
    "##load model\n",
    "model_ii = keras.saving.load_model('./models/resnet50_ii_images.keras')"
   ]
  },
  {
   "cell_type": "code",
   "execution_count": 8,
   "id": "d677d158-0430-4ef1-a6f8-3f28e2f7ca98",
   "metadata": {},
   "outputs": [
    {
     "name": "stdout",
     "output_type": "stream",
     "text": [
      "\u001b[1m1/1\u001b[0m \u001b[32m━━━━━━━━━━━━━━━━━━━━\u001b[0m\u001b[37m\u001b[0m \u001b[1m25s\u001b[0m 25s/step\n"
     ]
    },
    {
     "data": {
      "text/plain": [
       "array([[6.3049146e-34, 1.0000000e+00]], dtype=float32)"
      ]
     },
     "execution_count": 8,
     "metadata": {},
     "output_type": "execute_result"
    }
   ],
   "source": [
    "predict_image('./ptb_resnet_rerun/second_arch/ii/Myocardial Infarction/1.csv.png', model_ii)"
   ]
  },
  {
   "cell_type": "code",
   "execution_count": 9,
   "id": "2c1a0177-4945-4865-a7f3-ec0e262c6f7c",
   "metadata": {},
   "outputs": [
    {
     "name": "stdout",
     "output_type": "stream",
     "text": [
      "\u001b[1m1/1\u001b[0m \u001b[32m━━━━━━━━━━━━━━━━━━━━\u001b[0m\u001b[37m\u001b[0m \u001b[1m0s\u001b[0m 314ms/step\n"
     ]
    },
    {
     "data": {
      "text/plain": [
       "array([[6.3049146e-34, 1.0000000e+00]], dtype=float32)"
      ]
     },
     "execution_count": 9,
     "metadata": {},
     "output_type": "execute_result"
    }
   ],
   "source": [
    "predict_image('./ptb_resnet_rerun/second_arch/ii/Myocardial Infarction/0.csv.png', model_ii)"
   ]
  },
  {
   "cell_type": "code",
   "execution_count": 7,
   "id": "c4e0969e-2440-4118-a8b3-902cb0223c5b",
   "metadata": {},
   "outputs": [],
   "source": [
    "##load model\n",
    "model_v6 = keras.saving.load_model('./models/resnet50_v6_images.keras')"
   ]
  },
  {
   "cell_type": "code",
   "execution_count": 11,
   "id": "221cc773-87db-4a7e-aef0-ef4fe3624edd",
   "metadata": {},
   "outputs": [
    {
     "name": "stdout",
     "output_type": "stream",
     "text": [
      "\u001b[1m1/1\u001b[0m \u001b[32m━━━━━━━━━━━━━━━━━━━━\u001b[0m\u001b[37m\u001b[0m \u001b[1m24s\u001b[0m 24s/step\n"
     ]
    },
    {
     "data": {
      "text/plain": [
       "array([[4.378668e-32, 1.000000e+00]], dtype=float32)"
      ]
     },
     "execution_count": 11,
     "metadata": {},
     "output_type": "execute_result"
    }
   ],
   "source": [
    "predict_image('./ptb_resnet_rerun/second_arch/v6/Myocardial Infarction/1.csv.png', model_v6)"
   ]
  },
  {
   "cell_type": "code",
   "execution_count": 12,
   "id": "9309a13c-74df-4e85-b39b-aba6bc054db8",
   "metadata": {},
   "outputs": [
    {
     "name": "stdout",
     "output_type": "stream",
     "text": [
      "\u001b[1m1/1\u001b[0m \u001b[32m━━━━━━━━━━━━━━━━━━━━\u001b[0m\u001b[37m\u001b[0m \u001b[1m17s\u001b[0m 17s/step\n"
     ]
    },
    {
     "data": {
      "text/plain": [
       "array([[1.0320764e-33, 1.0000000e+00]], dtype=float32)"
      ]
     },
     "execution_count": 12,
     "metadata": {},
     "output_type": "execute_result"
    }
   ],
   "source": [
    "predict_image('./ptb_resnet_rerun/second_arch/v6/Myocardial Infarction/1.csv.png', model_ii)"
   ]
  },
  {
   "cell_type": "code",
   "execution_count": 14,
   "id": "8842c7f8-2e52-4c01-8265-7add87bee840",
   "metadata": {},
   "outputs": [
    {
     "name": "stdout",
     "output_type": "stream",
     "text": [
      "\u001b[1m1/1\u001b[0m \u001b[32m━━━━━━━━━━━━━━━━━━━━\u001b[0m\u001b[37m\u001b[0m \u001b[1m28s\u001b[0m 28s/step\n"
     ]
    },
    {
     "data": {
      "text/plain": [
       "array([[1.17746896e-32, 1.00000000e+00]], dtype=float32)"
      ]
     },
     "execution_count": 14,
     "metadata": {},
     "output_type": "execute_result"
    }
   ],
   "source": [
    "predict_image('./ptb_resnet_rerun/second_arch/v6/Myocardial Infarction/1.csv.png', model_vz)"
   ]
  },
  {
   "cell_type": "code",
   "execution_count": 8,
   "id": "8f371715-ca49-4a7c-b2a3-eb4356dea0ee",
   "metadata": {},
   "outputs": [],
   "source": [
    "##load model\n",
    "model_vz = keras.saving.load_model('./models/resnet50_vz_images.keras')"
   ]
  },
  {
   "cell_type": "code",
   "execution_count": 7,
   "id": "cfbb56b0-f5d4-4b8e-bd35-9b086887a005",
   "metadata": {},
   "outputs": [
    {
     "name": "stdout",
     "output_type": "stream",
     "text": [
      "\u001b[1m1/1\u001b[0m \u001b[32m━━━━━━━━━━━━━━━━━━━━\u001b[0m\u001b[37m\u001b[0m \u001b[1m21s\u001b[0m 21s/step\n"
     ]
    },
    {
     "data": {
      "text/plain": [
       "array([[5.920146e-10, 1.000000e+00]], dtype=float32)"
      ]
     },
     "execution_count": 7,
     "metadata": {},
     "output_type": "execute_result"
    }
   ],
   "source": [
    "predict_image('./ptb_resnet_rerun/second_arch/vz/Healthy control/948.csv.png', model_vz)"
   ]
  },
  {
   "cell_type": "code",
   "execution_count": 30,
   "id": "5a4e9477-f4c7-44a5-8458-6b4326378c66",
   "metadata": {},
   "outputs": [
    {
     "name": "stdout",
     "output_type": "stream",
     "text": [
      "\u001b[1m1/1\u001b[0m \u001b[32m━━━━━━━━━━━━━━━━━━━━\u001b[0m\u001b[37m\u001b[0m \u001b[1m0s\u001b[0m 293ms/step\n"
     ]
    }
   ],
   "source": [
    "sample_label = disease_predict(predict_image('./ptb_resnet_rerun/second_arch/vz/Myocardial Infarction/1.csv.png', model_vz))"
   ]
  },
  {
   "cell_type": "code",
   "execution_count": 31,
   "id": "0818764b-d028-460e-830f-6d25954d5599",
   "metadata": {},
   "outputs": [
    {
     "data": {
      "text/plain": [
       "1"
      ]
     },
     "execution_count": 31,
     "metadata": {},
     "output_type": "execute_result"
    }
   ],
   "source": [
    "sample_label"
   ]
  },
  {
   "cell_type": "markdown",
   "id": "4becd00b-513c-4101-b8fe-258408267295",
   "metadata": {},
   "source": [
    "#  INTEGRATE TEST"
   ]
  },
  {
   "cell_type": "markdown",
   "id": "4dd952c0-6077-412e-8999-fe4c24fed489",
   "metadata": {},
   "source": [
    "## Load ecg leads models"
   ]
  },
  {
   "cell_type": "markdown",
   "id": "0083ea8b-f82c-43d3-90c0-cf0dd8384873",
   "metadata": {},
   "source": [
    "## Load risk factor model"
   ]
  },
  {
   "cell_type": "code",
   "execution_count": 9,
   "id": "808f98d6-eb67-4279-bf60-dec259ed1c9e",
   "metadata": {},
   "outputs": [
    {
     "name": "stdout",
     "output_type": "stream",
     "text": [
      "    age  sex   cp  trestbps   chol  fbs  restecg  thalach  exang  oldpeak  \\\n",
      "0  51.0  1.0  4.0     140.0  299.0  0.0      0.0    173.0    1.0      1.6   \n",
      "1  59.0  1.0  4.0     110.0  239.0  0.0      2.0    142.0    1.0      1.2   \n",
      "2  70.0  1.0  4.0     130.0  322.0  0.0      2.0    109.0    0.0      2.4   \n",
      "3  52.0  1.0  2.0     128.0  205.0  1.0      0.0    184.0    0.0      0.0   \n",
      "4  60.0  1.0  4.0     145.0  282.0  0.0      2.0    142.0    1.0      2.8   \n",
      "\n",
      "   slope   ca  thal  num age_category  total_risk  exercise_angina  \\\n",
      "0    1.0  0.0   7.0    1  Middle-aged       439.0             True   \n",
      "1    2.0  1.0   7.0    1  Middle-aged       349.0            False   \n",
      "2    2.0  3.0   3.0    1       Senior       452.0            False   \n",
      "3    1.0  0.0   3.0    0  Middle-aged       333.0            False   \n",
      "4    2.0  2.0   7.0    1       Senior       427.0            False   \n",
      "\n",
      "   cholesterol_hdl_ratio  \n",
      "0               1.728324  \n",
      "1               1.683099  \n",
      "2               2.954128  \n",
      "3               1.114130  \n",
      "4               1.985915  \n",
      "Training Accuracy: 0.98\n",
      "Testing Accuracy: 0.96\n",
      "\n",
      "Confusion Matrix training:\n",
      "[[249   2]\n",
      " [  9 198]]\n",
      "\n",
      "Confusion Matrix testing:\n",
      "[[61  2]\n",
      " [ 3 49]]\n",
      "\n",
      "Classification Report:\n",
      "              precision    recall  f1-score   support\n",
      "\n",
      "           0       0.95      0.97      0.96        63\n",
      "           1       0.96      0.94      0.95        52\n",
      "\n",
      "    accuracy                           0.96       115\n",
      "   macro avg       0.96      0.96      0.96       115\n",
      "weighted avg       0.96      0.96      0.96       115\n",
      "\n"
     ]
    }
   ],
   "source": [
    "%run E:/Jupyter/A_DNN/risk_factors/risk_factors.py\n",
    "filename = './models/gradient_boost_model.sav'\n",
    "risk_model = pickle.load(open(filename, 'rb')) "
   ]
  },
  {
   "cell_type": "markdown",
   "id": "868320b1-d2ac-440c-aaf1-497447cb6561",
   "metadata": {},
   "source": [
    "## In case of 0, 0:"
   ]
  },
  {
   "cell_type": "code",
   "execution_count": 11,
   "id": "e925987c-050c-49fe-97ff-cf884d1b0dbc",
   "metadata": {},
   "outputs": [
    {
     "name": "stdout",
     "output_type": "stream",
     "text": [
      "\u001b[1m1/1\u001b[0m \u001b[32m━━━━━━━━━━━━━━━━━━━━\u001b[0m\u001b[37m\u001b[0m \u001b[1m24s\u001b[0m 24s/step\n",
      "\u001b[1m1/1\u001b[0m \u001b[32m━━━━━━━━━━━━━━━━━━━━\u001b[0m\u001b[37m\u001b[0m \u001b[1m12s\u001b[0m 12s/step\n",
      "\u001b[1m1/1\u001b[0m \u001b[32m━━━━━━━━━━━━━━━━━━━━\u001b[0m\u001b[37m\u001b[0m \u001b[1m11s\u001b[0m 11s/step\n",
      "[1, 1, 1]\n"
     ]
    }
   ],
   "source": [
    "sample_0_0 = []\n",
    "sample_0_0.append(disease_predict(predict_image('./integration test/0_0/1007_ii.png', model_ii)))\n",
    "sample_0_0.append(disease_predict(predict_image('./integration test/0_0/1007_v6.png', model_v6)))\n",
    "sample_0_0.append(disease_predict(predict_image('./integration test/0_0/1007_vz.png', model_vz)))\n",
    "print(sample_0_0)"
   ]
  },
  {
   "cell_type": "code",
   "execution_count": 49,
   "id": "9c820aca-db2b-4fa5-bfe6-2651149ea300",
   "metadata": {},
   "outputs": [
    {
     "data": {
      "text/plain": [
       "1"
      ]
     },
     "execution_count": 49,
     "metadata": {},
     "output_type": "execute_result"
    }
   ],
   "source": [
    "generate_label(sample_0_0)   ##final ECG label"
   ]
  },
  {
   "cell_type": "code",
   "execution_count": 26,
   "id": "921a8f4a-65b5-44e4-acf2-f1f2be0787bc",
   "metadata": {},
   "outputs": [],
   "source": [
    "import numpy as np\n",
    "import pandas as pd"
   ]
  },
  {
   "cell_type": "code",
   "execution_count": 28,
   "id": "3582f2f7-6a6d-436d-80b6-f920711c540c",
   "metadata": {},
   "outputs": [],
   "source": [
    "file_path = \"./integration test/0_0/patient1.csv\"\n",
    "df = pd.read_csv(file_path) "
   ]
  },
  {
   "cell_type": "code",
   "execution_count": 29,
   "id": "f119d12c-35a4-409d-b453-d994e08f7d6a",
   "metadata": {},
   "outputs": [
    {
     "data": {
      "text/plain": [
       "array([0], dtype=int64)"
      ]
     },
     "execution_count": 29,
     "metadata": {},
     "output_type": "execute_result"
    }
   ],
   "source": [
    "X_test_1 = df\n",
    "y_test_1 = []\n",
    "y_pred = risk_model.predict(X_test_1)\n",
    "y_pred"
   ]
  },
  {
   "cell_type": "code",
   "execution_count": 50,
   "id": "b06c9a04-3134-4ae7-aaad-75aa12a78412",
   "metadata": {},
   "outputs": [
    {
     "data": {
      "text/plain": [
       "0"
      ]
     },
     "execution_count": 50,
     "metadata": {},
     "output_type": "execute_result"
    }
   ],
   "source": [
    "generate_label(y_pred) ##final risk label"
   ]
  },
  {
   "cell_type": "code",
   "execution_count": 56,
   "id": "109c500f-c0f4-483c-b58e-35b819c599c7",
   "metadata": {},
   "outputs": [
    {
     "name": "stdout",
     "output_type": "stream",
     "text": [
      "Intermediate label is: 1\n"
     ]
    }
   ],
   "source": [
    "##get intermediate label\n",
    "#intermediate = 0\n",
    "if ((generate_label(y_pred) == 0 and generate_label(sample_0_0) == 1)\n",
    "    or (generate_label(y_pred) == 1 and generate_label(sample_0_0) == 1)):\n",
    "    intermediate = 1\n",
    "else:\n",
    "    intermediate = 0\n",
    "\n",
    "print(\"Intermediate label is:\", intermediate)\n",
    "\n",
    "\n",
    "def intermediate_label(y_pred, sample):\n",
    "    if ((generate_label(y_pred) == 0 and generate_label(sample) == 1)\n",
    "    or (generate_label(y_pred) == 1 and generate_label(sample) == 1)):\n",
    "        intermediate = 1\n",
    "    else:\n",
    "        intermediate = 0\n",
    "\n",
    "    print(\"Intermediate label is:\", intermediate)"
   ]
  },
  {
   "cell_type": "markdown",
   "id": "428cfeeb-713c-4e01-84c3-27c15dfda2d9",
   "metadata": {},
   "source": [
    "## In case of 0, 1:"
   ]
  },
  {
   "cell_type": "code",
   "execution_count": 52,
   "id": "4bd953b4-ada5-4417-a6ff-86bdda91cc27",
   "metadata": {},
   "outputs": [
    {
     "name": "stdout",
     "output_type": "stream",
     "text": [
      "\u001b[1m1/1\u001b[0m \u001b[32m━━━━━━━━━━━━━━━━━━━━\u001b[0m\u001b[37m\u001b[0m \u001b[1m13s\u001b[0m 13s/step\n",
      "\u001b[1m1/1\u001b[0m \u001b[32m━━━━━━━━━━━━━━━━━━━━\u001b[0m\u001b[37m\u001b[0m \u001b[1m8s\u001b[0m 8s/step\n",
      "\u001b[1m1/1\u001b[0m \u001b[32m━━━━━━━━━━━━━━━━━━━━\u001b[0m\u001b[37m\u001b[0m \u001b[1m5s\u001b[0m 5s/step\n",
      "[1, 1, 1]\n"
     ]
    }
   ],
   "source": [
    "## 1\n",
    "sample_0_1 = []\n",
    "sample_0_1.append(disease_predict(predict_image('./integration test/0_1/142_ii.png', model_ii)))\n",
    "sample_0_1.append(disease_predict(predict_image('./integration test/0_1/142_v6.png', model_v6)))\n",
    "sample_0_1.append(disease_predict(predict_image('./integration test/0_1/142_vz.png', model_vz)))\n",
    "print(sample_0_1)"
   ]
  },
  {
   "cell_type": "code",
   "execution_count": 53,
   "id": "e1a1967e-a71d-4bdf-821e-1524c06c4a2d",
   "metadata": {},
   "outputs": [
    {
     "data": {
      "text/plain": [
       "1"
      ]
     },
     "execution_count": 53,
     "metadata": {},
     "output_type": "execute_result"
    }
   ],
   "source": [
    "generate_label(sample_0_1)   ##final ECG label"
   ]
  },
  {
   "cell_type": "code",
   "execution_count": 54,
   "id": "2950a72e-cf75-41fd-b79b-e437408236a3",
   "metadata": {},
   "outputs": [
    {
     "data": {
      "text/plain": [
       "array([0], dtype=int64)"
      ]
     },
     "execution_count": 54,
     "metadata": {},
     "output_type": "execute_result"
    }
   ],
   "source": [
    "file_path = \"./integration test/0_0/patient1.csv\"\n",
    "df = pd.read_csv(file_path) \n",
    "X_test_1 = df\n",
    "y_test_1 = []\n",
    "y_pred = risk_model.predict(X_test_1)\n",
    "y_pred"
   ]
  },
  {
   "cell_type": "code",
   "execution_count": 55,
   "id": "8606feea-885d-4aaa-b674-776dd2d8a724",
   "metadata": {},
   "outputs": [
    {
     "data": {
      "text/plain": [
       "0"
      ]
     },
     "execution_count": 55,
     "metadata": {},
     "output_type": "execute_result"
    }
   ],
   "source": [
    "generate_label(y_pred) ##final risk label"
   ]
  },
  {
   "cell_type": "code",
   "execution_count": 57,
   "id": "709018a6-dead-4e44-8fee-17bc9d60867f",
   "metadata": {},
   "outputs": [
    {
     "name": "stdout",
     "output_type": "stream",
     "text": [
      "Intermediate label is: 1\n"
     ]
    }
   ],
   "source": [
    "intermediate_label(y_pred, sample_0_1)"
   ]
  },
  {
   "cell_type": "markdown",
   "id": "ee0f6aec-05f6-4ea0-aabf-787d3b04600a",
   "metadata": {},
   "source": [
    "## In case of 1, 0:"
   ]
  },
  {
   "cell_type": "code",
   "execution_count": 58,
   "id": "2ef8b3d6-c21f-4d72-84a9-3c9c567852ca",
   "metadata": {},
   "outputs": [
    {
     "name": "stdout",
     "output_type": "stream",
     "text": [
      "\u001b[1m1/1\u001b[0m \u001b[32m━━━━━━━━━━━━━━━━━━━━\u001b[0m\u001b[37m\u001b[0m \u001b[1m6s\u001b[0m 6s/step\n",
      "\u001b[1m1/1\u001b[0m \u001b[32m━━━━━━━━━━━━━━━━━━━━\u001b[0m\u001b[37m\u001b[0m \u001b[1m6s\u001b[0m 6s/step\n",
      "\u001b[1m1/1\u001b[0m \u001b[32m━━━━━━━━━━━━━━━━━━━━\u001b[0m\u001b[37m\u001b[0m \u001b[1m5s\u001b[0m 5s/step\n",
      "[1, 1, 1]\n"
     ]
    }
   ],
   "source": [
    "sample_1_0 = []\n",
    "sample_1_0.append(disease_predict(predict_image('./integration test/1_0/948_ii.png', model_ii)))\n",
    "sample_1_0.append(disease_predict(predict_image('./integration test/1_0/948_v6.png', model_v6)))\n",
    "sample_1_0.append(disease_predict(predict_image('./integration test/1_0/948_vz.png', model_vz)))\n",
    "print(sample_1_0)"
   ]
  },
  {
   "cell_type": "code",
   "execution_count": 59,
   "id": "fc7cc59a-db45-4d84-bc5a-1c5acd36bfa1",
   "metadata": {},
   "outputs": [
    {
     "data": {
      "text/plain": [
       "1"
      ]
     },
     "execution_count": 59,
     "metadata": {},
     "output_type": "execute_result"
    }
   ],
   "source": [
    "generate_label(sample_1_0)   ##final ECG label"
   ]
  },
  {
   "cell_type": "code",
   "execution_count": 61,
   "id": "750273e5-490e-4183-8997-e85b7ef2ce50",
   "metadata": {},
   "outputs": [
    {
     "data": {
      "text/plain": [
       "array([1], dtype=int64)"
      ]
     },
     "execution_count": 61,
     "metadata": {},
     "output_type": "execute_result"
    }
   ],
   "source": [
    "file_path = \"./integration test/1_0/patient1.csv\"\n",
    "df = pd.read_csv(file_path) \n",
    "X_test_1 = df\n",
    "y_test_1 = []\n",
    "y_pred = risk_model.predict(X_test_1)\n",
    "y_pred"
   ]
  },
  {
   "cell_type": "code",
   "execution_count": 62,
   "id": "9bfa7294-abbb-4704-95b5-a79a55ea468f",
   "metadata": {},
   "outputs": [
    {
     "data": {
      "text/plain": [
       "1"
      ]
     },
     "execution_count": 62,
     "metadata": {},
     "output_type": "execute_result"
    }
   ],
   "source": [
    "generate_label(y_pred) ##final risk label"
   ]
  },
  {
   "cell_type": "code",
   "execution_count": 63,
   "id": "0d59918d-f4ab-44fb-a497-fa4ee7f8a270",
   "metadata": {},
   "outputs": [
    {
     "name": "stdout",
     "output_type": "stream",
     "text": [
      "Intermediate label is: 1\n"
     ]
    }
   ],
   "source": [
    "intermediate_label(y_pred, sample_1_0)"
   ]
  },
  {
   "cell_type": "markdown",
   "id": "d1fe53dc-7089-4a50-bae5-e0a5f385f21b",
   "metadata": {},
   "source": [
    "## In case of 1, 1:"
   ]
  },
  {
   "cell_type": "code",
   "execution_count": 64,
   "id": "637236dd-aff4-4cc9-a527-ac4ec8684974",
   "metadata": {},
   "outputs": [
    {
     "name": "stdout",
     "output_type": "stream",
     "text": [
      "\u001b[1m1/1\u001b[0m \u001b[32m━━━━━━━━━━━━━━━━━━━━\u001b[0m\u001b[37m\u001b[0m \u001b[1m14s\u001b[0m 14s/step\n",
      "\u001b[1m1/1\u001b[0m \u001b[32m━━━━━━━━━━━━━━━━━━━━\u001b[0m\u001b[37m\u001b[0m \u001b[1m6s\u001b[0m 6s/step\n",
      "\u001b[1m1/1\u001b[0m \u001b[32m━━━━━━━━━━━━━━━━━━━━\u001b[0m\u001b[37m\u001b[0m \u001b[1m5s\u001b[0m 5s/step\n",
      "[1, 1, 1]\n"
     ]
    }
   ],
   "source": [
    "## 1\n",
    "sample_1_1 = []\n",
    "sample_1_1.append(disease_predict(predict_image('./integration test/1_1/394_ii.png', model_ii)))\n",
    "sample_1_1.append(disease_predict(predict_image('./integration test/1_1/394_v6.png', model_v6)))\n",
    "sample_1_1.append(disease_predict(predict_image('./integration test/1_1/394_vz.png', model_vz)))\n",
    "print(sample_1_1)"
   ]
  },
  {
   "cell_type": "code",
   "execution_count": 65,
   "id": "13ccffdb-d8ae-4850-80de-705b3838c3b7",
   "metadata": {},
   "outputs": [
    {
     "data": {
      "text/plain": [
       "1"
      ]
     },
     "execution_count": 65,
     "metadata": {},
     "output_type": "execute_result"
    }
   ],
   "source": [
    "generate_label(sample_1_1)   ##final ECG label"
   ]
  },
  {
   "cell_type": "code",
   "execution_count": 66,
   "id": "be4211a0-6bcd-4b11-a32a-27e9f93c56ca",
   "metadata": {},
   "outputs": [
    {
     "data": {
      "text/plain": [
       "array([1], dtype=int64)"
      ]
     },
     "execution_count": 66,
     "metadata": {},
     "output_type": "execute_result"
    }
   ],
   "source": [
    "file_path = \"./integration test/1_1/patient1.csv\"\n",
    "df = pd.read_csv(file_path) \n",
    "X_test_1 = df\n",
    "y_test_1 = []\n",
    "y_pred = risk_model.predict(X_test_1)\n",
    "y_pred"
   ]
  },
  {
   "cell_type": "code",
   "execution_count": 67,
   "id": "86d8bbf6-c466-43f9-9cd1-da5c95f493f8",
   "metadata": {},
   "outputs": [
    {
     "data": {
      "text/plain": [
       "1"
      ]
     },
     "execution_count": 67,
     "metadata": {},
     "output_type": "execute_result"
    }
   ],
   "source": [
    "generate_label(y_pred) ##final risk label"
   ]
  },
  {
   "cell_type": "code",
   "execution_count": 68,
   "id": "e39436b7-f831-4314-b9ec-c97b3e0bb3dd",
   "metadata": {},
   "outputs": [
    {
     "name": "stdout",
     "output_type": "stream",
     "text": [
      "Intermediate label is: 1\n"
     ]
    }
   ],
   "source": [
    "intermediate_label(y_pred, sample_1_1)"
   ]
  },
  {
   "cell_type": "markdown",
   "id": "2a70b74b-b154-4d37-8305-cf93c5cb2af1",
   "metadata": {},
   "source": [
    "## _DELETED MODEL: FEATURE IMAGE BASED MODEL, 5 CHANNELS UNDER HERMITE TRANSFORM, 15 CLASSES_"
   ]
  },
  {
   "cell_type": "code",
   "execution_count": 5,
   "id": "dfc708fb-fa3f-4c06-901b-be3c89c9e3a8",
   "metadata": {},
   "outputs": [],
   "source": [
    "def max_class_prob(predictions):\n",
    "    _max = max(predictions[0])\n",
    "    solution = 0\n",
    "    for i in range(1, len(predictions[0])):\n",
    "        if predictions[0][i] == _max:\n",
    "            solution = i\n",
    "        continue\n",
    "            \n",
    "    return _max, solution"
   ]
  },
  {
   "cell_type": "code",
   "execution_count": 47,
   "id": "324bc8fb-5b5b-4849-8d9c-f9c5f4c66c4a",
   "metadata": {},
   "outputs": [
    {
     "name": "stdout",
     "output_type": "stream",
     "text": [
      "\u001b[1m1/1\u001b[0m \u001b[32m━━━━━━━━━━━━━━━━━━━━\u001b[0m\u001b[37m\u001b[0m \u001b[1m0s\u001b[0m 171ms/step\n",
      "Predicted: [[0.0000000e+00 0.0000000e+00 1.9870746e-25 0.0000000e+00 0.0000000e+00\n",
      "  0.0000000e+00 0.0000000e+00 0.0000000e+00 1.0000000e+00 0.0000000e+00\n",
      "  0.0000000e+00 0.0000000e+00 0.0000000e+00 0.0000000e+00 0.0000000e+00]]\n",
      "Max probability is at class number: 8\n"
     ]
    }
   ],
   "source": [
    "##old model\n",
    "img_path = './ptb_ecg_filtered/train_multi/Myocardial Infarction/16_multiple_ Myocardial infarction.png'\n",
    "img = keras.utils.load_img(img_path, target_size=(224, 224))\n",
    "x = keras.utils.img_to_array(img)\n",
    "x = np.expand_dims(x, axis=0)\n",
    "x = preprocess_input(x)\n",
    "\n",
    "preds = loaded_model.predict(x, batch_size=32)\n",
    "print('Predicted:', preds)\n",
    "_max, soln = max_class_prob(preds)\n",
    "print('Max probability is at class number:', soln)"
   ]
  },
  {
   "cell_type": "code",
   "execution_count": 48,
   "id": "ee2a39f2-9418-40ac-a969-8cf9347b9a69",
   "metadata": {},
   "outputs": [
    {
     "name": "stdout",
     "output_type": "stream",
     "text": [
      "\u001b[1m1/1\u001b[0m \u001b[32m━━━━━━━━━━━━━━━━━━━━\u001b[0m\u001b[37m\u001b[0m \u001b[1m0s\u001b[0m 166ms/step\n",
      "Predicted: [[0.0000000e+00 1.7003404e-34 9.2071768e-28 1.1895526e-21 0.0000000e+00\n",
      "  0.0000000e+00 0.0000000e+00 4.7863273e-27 1.0000000e+00 4.1757647e-32\n",
      "  0.0000000e+00 5.7787904e-34 2.3793084e-38 0.0000000e+00 7.7073503e-32]]\n",
      "Max probability is at class number: 8\n"
     ]
    }
   ],
   "source": [
    "##old model\n",
    "img_path = './ptb_ecg_filtered/train_multi/Healthy control/949_multiple_ Healthy control.png'\n",
    "img = keras.utils.load_img(img_path, target_size=(224, 224))\n",
    "x = keras.utils.img_to_array(img)\n",
    "x = np.expand_dims(x, axis=0)\n",
    "x = preprocess_input(x)\n",
    "\n",
    "preds = loaded_model.predict(x, batch_size=32)\n",
    "print('Predicted:', preds)\n",
    "_max, soln = max_class_prob(preds)\n",
    "print('Max probability is at class number:', soln)"
   ]
  },
  {
   "cell_type": "code",
   "execution_count": 50,
   "id": "70d1faa3-85b7-4f0f-8d20-f8d19b848cbe",
   "metadata": {},
   "outputs": [
    {
     "name": "stdout",
     "output_type": "stream",
     "text": [
      "\u001b[1m1/1\u001b[0m \u001b[32m━━━━━━━━━━━━━━━━━━━━\u001b[0m\u001b[37m\u001b[0m \u001b[1m0s\u001b[0m 222ms/step\n",
      "Predicted: [[0.0000000e+00 0.0000000e+00 2.6503566e-21 3.1790779e-27 4.9160409e-36\n",
      "  0.0000000e+00 3.4473655e-37 6.3377441e-31 1.0000000e+00 7.2800549e-37\n",
      "  0.0000000e+00 9.3668962e-32 0.0000000e+00 0.0000000e+00 3.1520013e-29]]\n",
      "Max probability is at class number: 8\n"
     ]
    }
   ],
   "source": [
    "##old model\n",
    "img_path = './ptb_ecg_filtered/train_multi/Bundle branch block/1164_multiple_ Bundle branch block.png'\n",
    "img = keras.utils.load_img(img_path, target_size=(224, 224))\n",
    "x = keras.utils.img_to_array(img)\n",
    "x = np.expand_dims(x, axis=0)\n",
    "x = preprocess_input(x)\n",
    "\n",
    "preds = loaded_model.predict(x, batch_size=32)\n",
    "print('Predicted:', preds)\n",
    "_max, soln = max_class_prob(preds)\n",
    "print('Max probability is at class number:', soln)"
   ]
  }
 ],
 "metadata": {
  "kernelspec": {
   "display_name": "Python 3 (ipykernel)",
   "language": "python",
   "name": "python3"
  },
  "language_info": {
   "codemirror_mode": {
    "name": "ipython",
    "version": 3
   },
   "file_extension": ".py",
   "mimetype": "text/x-python",
   "name": "python",
   "nbconvert_exporter": "python",
   "pygments_lexer": "ipython3",
   "version": "3.11.7"
  }
 },
 "nbformat": 4,
 "nbformat_minor": 5
}
