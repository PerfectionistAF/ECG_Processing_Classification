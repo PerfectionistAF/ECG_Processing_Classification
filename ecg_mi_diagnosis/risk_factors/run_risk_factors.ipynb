{
 "cells": [
  {
   "cell_type": "code",
   "execution_count": 52,
   "id": "29439905-f9c4-427b-9421-2a491f16a846",
   "metadata": {},
   "outputs": [
    {
     "name": "stdout",
     "output_type": "stream",
     "text": [
      "    age  sex   cp  trestbps   chol  fbs  restecg  thalach  exang  oldpeak  \\\n",
      "0  51.0  1.0  4.0     140.0  299.0  0.0      0.0    173.0    1.0      1.6   \n",
      "1  59.0  1.0  4.0     110.0  239.0  0.0      2.0    142.0    1.0      1.2   \n",
      "2  70.0  1.0  4.0     130.0  322.0  0.0      2.0    109.0    0.0      2.4   \n",
      "3  52.0  1.0  2.0     128.0  205.0  1.0      0.0    184.0    0.0      0.0   \n",
      "4  60.0  1.0  4.0     145.0  282.0  0.0      2.0    142.0    1.0      2.8   \n",
      "\n",
      "   slope   ca  thal  num age_category  total_risk  exercise_angina  \\\n",
      "0    1.0  0.0   7.0    1  Middle-aged       439.0             True   \n",
      "1    2.0  1.0   7.0    1  Middle-aged       349.0            False   \n",
      "2    2.0  3.0   3.0    1       Senior       452.0            False   \n",
      "3    1.0  0.0   3.0    0  Middle-aged       333.0            False   \n",
      "4    2.0  2.0   7.0    1       Senior       427.0            False   \n",
      "\n",
      "   cholesterol_hdl_ratio  \n",
      "0               1.728324  \n",
      "1               1.683099  \n",
      "2               2.954128  \n",
      "3               1.114130  \n",
      "4               1.985915  \n",
      "Training Accuracy: 0.98\n",
      "Testing Accuracy: 0.96\n",
      "\n",
      "Confusion Matrix training:\n",
      "[[249   2]\n",
      " [  9 198]]\n",
      "\n",
      "Confusion Matrix testing:\n",
      "[[61  2]\n",
      " [ 3 49]]\n",
      "\n",
      "Classification Report:\n",
      "              precision    recall  f1-score   support\n",
      "\n",
      "           0       0.95      0.97      0.96        63\n",
      "           1       0.96      0.94      0.95        52\n",
      "\n",
      "    accuracy                           0.96       115\n",
      "   macro avg       0.96      0.96      0.96       115\n",
      "weighted avg       0.96      0.96      0.96       115\n",
      "\n"
     ]
    }
   ],
   "source": [
    "%run E:/Jupyter/A_DNN/risk_factors/risk_factors.py"
   ]
  },
  {
   "cell_type": "code",
   "execution_count": 53,
   "id": "5aa78667-30a3-4e45-9d20-72499ed97c43",
   "metadata": {},
   "outputs": [
    {
     "name": "stdout",
     "output_type": "stream",
     "text": [
      "0.9565217391304348\n"
     ]
    }
   ],
   "source": [
    "filename = './models/gradient_boost_model.sav'\n",
    "loaded_model = pickle.load(open(filename, 'rb'))\n",
    "result = loaded_model.score(X_test, y_test)\n",
    "print(result)"
   ]
  },
  {
   "cell_type": "code",
   "execution_count": 54,
   "id": "62033a90-7c3a-417c-90fd-934de2a90c70",
   "metadata": {},
   "outputs": [
    {
     "data": {
      "text/html": [
       "<div>\n",
       "<style scoped>\n",
       "    .dataframe tbody tr th:only-of-type {\n",
       "        vertical-align: middle;\n",
       "    }\n",
       "\n",
       "    .dataframe tbody tr th {\n",
       "        vertical-align: top;\n",
       "    }\n",
       "\n",
       "    .dataframe thead th {\n",
       "        text-align: right;\n",
       "    }\n",
       "</style>\n",
       "<table border=\"1\" class=\"dataframe\">\n",
       "  <thead>\n",
       "    <tr style=\"text-align: right;\">\n",
       "      <th></th>\n",
       "      <th>age</th>\n",
       "      <th>sex</th>\n",
       "      <th>cp</th>\n",
       "      <th>trestbps</th>\n",
       "      <th>chol</th>\n",
       "      <th>fbs</th>\n",
       "      <th>restecg</th>\n",
       "      <th>thalach</th>\n",
       "      <th>exang</th>\n",
       "      <th>oldpeak</th>\n",
       "      <th>slope</th>\n",
       "      <th>ca</th>\n",
       "      <th>thal</th>\n",
       "      <th>total_risk</th>\n",
       "      <th>exercise_angina</th>\n",
       "      <th>cholesterol_hdl_ratio</th>\n",
       "    </tr>\n",
       "  </thead>\n",
       "  <tbody>\n",
       "    <tr>\n",
       "      <th>513</th>\n",
       "      <td>42.0</td>\n",
       "      <td>1.0</td>\n",
       "      <td>1.0</td>\n",
       "      <td>148.0</td>\n",
       "      <td>244.0</td>\n",
       "      <td>0.0</td>\n",
       "      <td>2.0</td>\n",
       "      <td>178.0</td>\n",
       "      <td>0.0</td>\n",
       "      <td>0.8</td>\n",
       "      <td>1.0</td>\n",
       "      <td>2.0</td>\n",
       "      <td>3.0</td>\n",
       "      <td>392.0</td>\n",
       "      <td>False</td>\n",
       "      <td>1.370787</td>\n",
       "    </tr>\n",
       "    <tr>\n",
       "      <th>70</th>\n",
       "      <td>60.0</td>\n",
       "      <td>0.0</td>\n",
       "      <td>4.0</td>\n",
       "      <td>150.0</td>\n",
       "      <td>258.0</td>\n",
       "      <td>0.0</td>\n",
       "      <td>2.0</td>\n",
       "      <td>157.0</td>\n",
       "      <td>0.0</td>\n",
       "      <td>2.6</td>\n",
       "      <td>2.0</td>\n",
       "      <td>2.0</td>\n",
       "      <td>7.0</td>\n",
       "      <td>408.0</td>\n",
       "      <td>False</td>\n",
       "      <td>1.643312</td>\n",
       "    </tr>\n",
       "    <tr>\n",
       "      <th>131</th>\n",
       "      <td>44.0</td>\n",
       "      <td>1.0</td>\n",
       "      <td>2.0</td>\n",
       "      <td>120.0</td>\n",
       "      <td>220.0</td>\n",
       "      <td>0.0</td>\n",
       "      <td>0.0</td>\n",
       "      <td>170.0</td>\n",
       "      <td>0.0</td>\n",
       "      <td>0.0</td>\n",
       "      <td>1.0</td>\n",
       "      <td>0.0</td>\n",
       "      <td>3.0</td>\n",
       "      <td>340.0</td>\n",
       "      <td>False</td>\n",
       "      <td>1.294118</td>\n",
       "    </tr>\n",
       "    <tr>\n",
       "      <th>405</th>\n",
       "      <td>58.0</td>\n",
       "      <td>1.0</td>\n",
       "      <td>2.0</td>\n",
       "      <td>120.0</td>\n",
       "      <td>284.0</td>\n",
       "      <td>0.0</td>\n",
       "      <td>2.0</td>\n",
       "      <td>160.0</td>\n",
       "      <td>0.0</td>\n",
       "      <td>1.8</td>\n",
       "      <td>2.0</td>\n",
       "      <td>0.0</td>\n",
       "      <td>3.0</td>\n",
       "      <td>404.0</td>\n",
       "      <td>False</td>\n",
       "      <td>1.775000</td>\n",
       "    </tr>\n",
       "    <tr>\n",
       "      <th>544</th>\n",
       "      <td>59.0</td>\n",
       "      <td>1.0</td>\n",
       "      <td>1.0</td>\n",
       "      <td>160.0</td>\n",
       "      <td>273.0</td>\n",
       "      <td>0.0</td>\n",
       "      <td>2.0</td>\n",
       "      <td>125.0</td>\n",
       "      <td>0.0</td>\n",
       "      <td>0.0</td>\n",
       "      <td>1.0</td>\n",
       "      <td>0.0</td>\n",
       "      <td>3.0</td>\n",
       "      <td>433.0</td>\n",
       "      <td>False</td>\n",
       "      <td>2.184000</td>\n",
       "    </tr>\n",
       "    <tr>\n",
       "      <th>...</th>\n",
       "      <td>...</td>\n",
       "      <td>...</td>\n",
       "      <td>...</td>\n",
       "      <td>...</td>\n",
       "      <td>...</td>\n",
       "      <td>...</td>\n",
       "      <td>...</td>\n",
       "      <td>...</td>\n",
       "      <td>...</td>\n",
       "      <td>...</td>\n",
       "      <td>...</td>\n",
       "      <td>...</td>\n",
       "      <td>...</td>\n",
       "      <td>...</td>\n",
       "      <td>...</td>\n",
       "      <td>...</td>\n",
       "    </tr>\n",
       "    <tr>\n",
       "      <th>75</th>\n",
       "      <td>62.0</td>\n",
       "      <td>1.0</td>\n",
       "      <td>2.0</td>\n",
       "      <td>120.0</td>\n",
       "      <td>281.0</td>\n",
       "      <td>0.0</td>\n",
       "      <td>2.0</td>\n",
       "      <td>103.0</td>\n",
       "      <td>0.0</td>\n",
       "      <td>1.4</td>\n",
       "      <td>2.0</td>\n",
       "      <td>1.0</td>\n",
       "      <td>7.0</td>\n",
       "      <td>401.0</td>\n",
       "      <td>False</td>\n",
       "      <td>2.728155</td>\n",
       "    </tr>\n",
       "    <tr>\n",
       "      <th>250</th>\n",
       "      <td>57.0</td>\n",
       "      <td>0.0</td>\n",
       "      <td>2.0</td>\n",
       "      <td>130.0</td>\n",
       "      <td>236.0</td>\n",
       "      <td>0.0</td>\n",
       "      <td>2.0</td>\n",
       "      <td>174.0</td>\n",
       "      <td>0.0</td>\n",
       "      <td>0.0</td>\n",
       "      <td>2.0</td>\n",
       "      <td>1.0</td>\n",
       "      <td>3.0</td>\n",
       "      <td>366.0</td>\n",
       "      <td>False</td>\n",
       "      <td>1.356322</td>\n",
       "    </tr>\n",
       "    <tr>\n",
       "      <th>530</th>\n",
       "      <td>60.0</td>\n",
       "      <td>1.0</td>\n",
       "      <td>4.0</td>\n",
       "      <td>125.0</td>\n",
       "      <td>258.0</td>\n",
       "      <td>0.0</td>\n",
       "      <td>2.0</td>\n",
       "      <td>141.0</td>\n",
       "      <td>1.0</td>\n",
       "      <td>2.8</td>\n",
       "      <td>2.0</td>\n",
       "      <td>1.0</td>\n",
       "      <td>7.0</td>\n",
       "      <td>383.0</td>\n",
       "      <td>False</td>\n",
       "      <td>1.829787</td>\n",
       "    </tr>\n",
       "    <tr>\n",
       "      <th>506</th>\n",
       "      <td>67.0</td>\n",
       "      <td>1.0</td>\n",
       "      <td>4.0</td>\n",
       "      <td>160.0</td>\n",
       "      <td>286.0</td>\n",
       "      <td>0.0</td>\n",
       "      <td>2.0</td>\n",
       "      <td>108.0</td>\n",
       "      <td>1.0</td>\n",
       "      <td>1.5</td>\n",
       "      <td>2.0</td>\n",
       "      <td>3.0</td>\n",
       "      <td>3.0</td>\n",
       "      <td>446.0</td>\n",
       "      <td>False</td>\n",
       "      <td>2.648148</td>\n",
       "    </tr>\n",
       "    <tr>\n",
       "      <th>68</th>\n",
       "      <td>51.0</td>\n",
       "      <td>0.0</td>\n",
       "      <td>3.0</td>\n",
       "      <td>120.0</td>\n",
       "      <td>295.0</td>\n",
       "      <td>0.0</td>\n",
       "      <td>2.0</td>\n",
       "      <td>157.0</td>\n",
       "      <td>0.0</td>\n",
       "      <td>0.6</td>\n",
       "      <td>1.0</td>\n",
       "      <td>0.0</td>\n",
       "      <td>3.0</td>\n",
       "      <td>415.0</td>\n",
       "      <td>False</td>\n",
       "      <td>1.878981</td>\n",
       "    </tr>\n",
       "  </tbody>\n",
       "</table>\n",
       "<p>115 rows × 16 columns</p>\n",
       "</div>"
      ],
      "text/plain": [
       "      age  sex   cp  trestbps   chol  fbs  restecg  thalach  exang  oldpeak  \\\n",
       "513  42.0  1.0  1.0     148.0  244.0  0.0      2.0    178.0    0.0      0.8   \n",
       "70   60.0  0.0  4.0     150.0  258.0  0.0      2.0    157.0    0.0      2.6   \n",
       "131  44.0  1.0  2.0     120.0  220.0  0.0      0.0    170.0    0.0      0.0   \n",
       "405  58.0  1.0  2.0     120.0  284.0  0.0      2.0    160.0    0.0      1.8   \n",
       "544  59.0  1.0  1.0     160.0  273.0  0.0      2.0    125.0    0.0      0.0   \n",
       "..    ...  ...  ...       ...    ...  ...      ...      ...    ...      ...   \n",
       "75   62.0  1.0  2.0     120.0  281.0  0.0      2.0    103.0    0.0      1.4   \n",
       "250  57.0  0.0  2.0     130.0  236.0  0.0      2.0    174.0    0.0      0.0   \n",
       "530  60.0  1.0  4.0     125.0  258.0  0.0      2.0    141.0    1.0      2.8   \n",
       "506  67.0  1.0  4.0     160.0  286.0  0.0      2.0    108.0    1.0      1.5   \n",
       "68   51.0  0.0  3.0     120.0  295.0  0.0      2.0    157.0    0.0      0.6   \n",
       "\n",
       "     slope   ca  thal  total_risk  exercise_angina  cholesterol_hdl_ratio  \n",
       "513    1.0  2.0   3.0       392.0            False               1.370787  \n",
       "70     2.0  2.0   7.0       408.0            False               1.643312  \n",
       "131    1.0  0.0   3.0       340.0            False               1.294118  \n",
       "405    2.0  0.0   3.0       404.0            False               1.775000  \n",
       "544    1.0  0.0   3.0       433.0            False               2.184000  \n",
       "..     ...  ...   ...         ...              ...                    ...  \n",
       "75     2.0  1.0   7.0       401.0            False               2.728155  \n",
       "250    2.0  1.0   3.0       366.0            False               1.356322  \n",
       "530    2.0  1.0   7.0       383.0            False               1.829787  \n",
       "506    2.0  3.0   3.0       446.0            False               2.648148  \n",
       "68     1.0  0.0   3.0       415.0            False               1.878981  \n",
       "\n",
       "[115 rows x 16 columns]"
      ]
     },
     "execution_count": 54,
     "metadata": {},
     "output_type": "execute_result"
    }
   ],
   "source": [
    "X_test"
   ]
  },
  {
   "cell_type": "code",
   "execution_count": 55,
   "id": "a4193f45-afed-411e-8e49-fef70164decc",
   "metadata": {},
   "outputs": [
    {
     "data": {
      "text/plain": [
       "513    0\n",
       "70     1\n",
       "131    0\n",
       "405    1\n",
       "544    1\n",
       "      ..\n",
       "75     1\n",
       "250    1\n",
       "530    1\n",
       "506    1\n",
       "68     0\n",
       "Name: num, Length: 115, dtype: int64"
      ]
     },
     "execution_count": 55,
     "metadata": {},
     "output_type": "execute_result"
    }
   ],
   "source": [
    "y_test"
   ]
  },
  {
   "cell_type": "code",
   "execution_count": 56,
   "id": "58043fe5-9a89-4119-925e-157fc5d374ca",
   "metadata": {},
   "outputs": [
    {
     "data": {
      "text/plain": [
       "pandas.core.series.Series"
      ]
     },
     "execution_count": 56,
     "metadata": {},
     "output_type": "execute_result"
    }
   ],
   "source": [
    "type(y_test) "
   ]
  },
  {
   "cell_type": "code",
   "execution_count": 57,
   "id": "25c141d4-31eb-460f-aa83-abd8dddd0f0f",
   "metadata": {},
   "outputs": [],
   "source": [
    "import numpy as np\n",
    "import pandas as pd"
   ]
  },
  {
   "cell_type": "code",
   "execution_count": 58,
   "id": "e9088c5e-a891-49f8-abba-e341ef994d87",
   "metadata": {},
   "outputs": [],
   "source": [
    "file_path = \"./test/patient1.csv\" ##check entering my own data"
   ]
  },
  {
   "cell_type": "code",
   "execution_count": 59,
   "id": "00a97d31-fd5a-4e0e-8837-4c3f2ccc04c7",
   "metadata": {},
   "outputs": [],
   "source": [
    "df = pd.read_csv(file_path)"
   ]
  },
  {
   "cell_type": "code",
   "execution_count": 60,
   "id": "fc0a4258-e856-4788-b64b-2e4a24449067",
   "metadata": {},
   "outputs": [
    {
     "data": {
      "text/html": [
       "<div>\n",
       "<style scoped>\n",
       "    .dataframe tbody tr th:only-of-type {\n",
       "        vertical-align: middle;\n",
       "    }\n",
       "\n",
       "    .dataframe tbody tr th {\n",
       "        vertical-align: top;\n",
       "    }\n",
       "\n",
       "    .dataframe thead th {\n",
       "        text-align: right;\n",
       "    }\n",
       "</style>\n",
       "<table border=\"1\" class=\"dataframe\">\n",
       "  <thead>\n",
       "    <tr style=\"text-align: right;\">\n",
       "      <th></th>\n",
       "      <th>age</th>\n",
       "      <th>sex</th>\n",
       "      <th>cp</th>\n",
       "      <th>trestbps</th>\n",
       "      <th>chol</th>\n",
       "      <th>fbs</th>\n",
       "      <th>restecg</th>\n",
       "      <th>thalach</th>\n",
       "      <th>exang</th>\n",
       "      <th>oldpeak</th>\n",
       "      <th>slope</th>\n",
       "      <th>ca</th>\n",
       "      <th>thal</th>\n",
       "      <th>total_risk</th>\n",
       "      <th>exercise_angina</th>\n",
       "      <th>cholesterol_hdl_ratio</th>\n",
       "    </tr>\n",
       "  </thead>\n",
       "  <tbody>\n",
       "    <tr>\n",
       "      <th>0</th>\n",
       "      <td>60</td>\n",
       "      <td>0</td>\n",
       "      <td>4</td>\n",
       "      <td>150</td>\n",
       "      <td>258</td>\n",
       "      <td>0</td>\n",
       "      <td>2</td>\n",
       "      <td>157</td>\n",
       "      <td>0</td>\n",
       "      <td>2.6</td>\n",
       "      <td>2</td>\n",
       "      <td>2</td>\n",
       "      <td>7</td>\n",
       "      <td>408</td>\n",
       "      <td>False</td>\n",
       "      <td>1.643312</td>\n",
       "    </tr>\n",
       "    <tr>\n",
       "      <th>1</th>\n",
       "      <td>23</td>\n",
       "      <td>1</td>\n",
       "      <td>15</td>\n",
       "      <td>150</td>\n",
       "      <td>100</td>\n",
       "      <td>0</td>\n",
       "      <td>3</td>\n",
       "      <td>125</td>\n",
       "      <td>1</td>\n",
       "      <td>1.6</td>\n",
       "      <td>1</td>\n",
       "      <td>2</td>\n",
       "      <td>5</td>\n",
       "      <td>100</td>\n",
       "      <td>False</td>\n",
       "      <td>1.643312</td>\n",
       "    </tr>\n",
       "  </tbody>\n",
       "</table>\n",
       "</div>"
      ],
      "text/plain": [
       "   age  sex  cp  trestbps  chol  fbs  restecg  thalach  exang  oldpeak  slope  \\\n",
       "0   60    0   4       150   258    0        2      157      0      2.6      2   \n",
       "1   23    1  15       150   100    0        3      125      1      1.6      1   \n",
       "\n",
       "   ca  thal  total_risk  exercise_angina  cholesterol_hdl_ratio  \n",
       "0   2     7         408            False               1.643312  \n",
       "1   2     5         100            False               1.643312  "
      ]
     },
     "execution_count": 60,
     "metadata": {},
     "output_type": "execute_result"
    }
   ],
   "source": [
    "df"
   ]
  },
  {
   "cell_type": "code",
   "execution_count": 61,
   "id": "4ecd8a66-8c05-46bc-b39f-8bc3fd40d1f9",
   "metadata": {},
   "outputs": [],
   "source": [
    "X_test_1 = df  #test this dataframe"
   ]
  },
  {
   "cell_type": "code",
   "execution_count": 62,
   "id": "d8d1d7d8-0fbb-489c-9068-a74e409064d4",
   "metadata": {},
   "outputs": [],
   "source": [
    "y_test_1 = [] #test this series, but can be tested by list or by np.zero"
   ]
  },
  {
   "cell_type": "code",
   "execution_count": 63,
   "id": "808e408c-2c17-486a-af3b-1f53e1fe87f3",
   "metadata": {},
   "outputs": [],
   "source": [
    "#result = loaded_model.score(X_test_1, y_test_1)\n",
    "y_pred = loaded_model.predict(X_test_1)"
   ]
  },
  {
   "cell_type": "code",
   "execution_count": 64,
   "id": "933a8b68-df98-46dc-a048-18124370e9f1",
   "metadata": {},
   "outputs": [
    {
     "data": {
      "text/plain": [
       "array([1, 1], dtype=int64)"
      ]
     },
     "execution_count": 64,
     "metadata": {},
     "output_type": "execute_result"
    }
   ],
   "source": [
    "y_pred"
   ]
  },
  {
   "cell_type": "code",
   "execution_count": 65,
   "id": "64c0676f-da2a-43d1-85a1-255ad66f7afd",
   "metadata": {},
   "outputs": [],
   "source": [
    "result = loaded_model.score(X_test_1, y_pred)  ##directly predicted ##check score of prediction according to trained model"
   ]
  },
  {
   "cell_type": "code",
   "execution_count": 66,
   "id": "92c2732e-4104-4575-8ec1-301d95fcfc55",
   "metadata": {},
   "outputs": [
    {
     "data": {
      "text/plain": [
       "1.0"
      ]
     },
     "execution_count": 66,
     "metadata": {},
     "output_type": "execute_result"
    }
   ],
   "source": [
    "result"
   ]
  },
  {
   "cell_type": "code",
   "execution_count": 75,
   "id": "0e87caba-2d6d-4aa3-acfd-917306a31423",
   "metadata": {},
   "outputs": [
    {
     "name": "stdout",
     "output_type": "stream",
     "text": [
      "\n",
      "Confusion Matrix testing:\n",
      "[[2]]\n"
     ]
    }
   ],
   "source": [
    "conf_matrix = confusion_matrix(y_test[69:71], y_pred)\n",
    "print('\\nConfusion Matrix testing:')\n",
    "print(conf_matrix)"
   ]
  },
  {
   "cell_type": "code",
   "execution_count": 76,
   "id": "ab2f7d70-1bca-40a7-a8c3-e64042f6b8cf",
   "metadata": {},
   "outputs": [
    {
     "name": "stdout",
     "output_type": "stream",
     "text": [
      "              precision    recall  f1-score   support\n",
      "\n",
      "           1       1.00      1.00      1.00         2\n",
      "\n",
      "    accuracy                           1.00         2\n",
      "   macro avg       1.00      1.00      1.00         2\n",
      "weighted avg       1.00      1.00      1.00         2\n",
      "\n"
     ]
    }
   ],
   "source": [
    "classification_rep = classification_report(y_test[69:71], y_pred)\n",
    "print(classification_rep)"
   ]
  },
  {
   "cell_type": "code",
   "execution_count": null,
   "id": "05eea43d-b5b2-41ee-b9a1-26cd93e5cbe0",
   "metadata": {},
   "outputs": [],
   "source": []
  }
 ],
 "metadata": {
  "kernelspec": {
   "display_name": "Python 3 (ipykernel)",
   "language": "python",
   "name": "python3"
  },
  "language_info": {
   "codemirror_mode": {
    "name": "ipython",
    "version": 3
   },
   "file_extension": ".py",
   "mimetype": "text/x-python",
   "name": "python",
   "nbconvert_exporter": "python",
   "pygments_lexer": "ipython3",
   "version": "3.11.7"
  }
 },
 "nbformat": 4,
 "nbformat_minor": 5
}
