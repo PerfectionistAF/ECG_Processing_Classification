{
 "cells": [
  {
   "cell_type": "code",
   "execution_count": 2,
   "id": "f9cebf5f",
   "metadata": {},
   "outputs": [],
   "source": [
    "from tensorflow.keras.layers import Flatten, Dense, Conv1D, MaxPool1D, Dropout"
   ]
  },
  {
   "cell_type": "code",
   "execution_count": 25,
   "id": "085c1f58",
   "metadata": {},
   "outputs": [],
   "source": [
    "import numpy as np\n",
    "import pandas as pd\n",
    "import matplotlib.pyplot as plt\n",
    "import tensorflow as tf"
   ]
  },
  {
   "cell_type": "code",
   "execution_count": 4,
   "id": "70bbacd7",
   "metadata": {},
   "outputs": [],
   "source": [
    "test1 = pd.read_csv('./2016_edition_augmented/mitbih_test.csv')\n",
    "train1 = pd.read_csv('./2016_edition_augmented/mitbih_train.csv')"
   ]
  },
  {
   "cell_type": "code",
   "execution_count": 5,
   "id": "ecce047d",
   "metadata": {},
   "outputs": [
    {
     "data": {
      "text/html": [
       "<div>\n",
       "<style scoped>\n",
       "    .dataframe tbody tr th:only-of-type {\n",
       "        vertical-align: middle;\n",
       "    }\n",
       "\n",
       "    .dataframe tbody tr th {\n",
       "        vertical-align: top;\n",
       "    }\n",
       "\n",
       "    .dataframe thead th {\n",
       "        text-align: right;\n",
       "    }\n",
       "</style>\n",
       "<table border=\"1\" class=\"dataframe\">\n",
       "  <thead>\n",
       "    <tr style=\"text-align: right;\">\n",
       "      <th></th>\n",
       "      <th>1.000000000000000000e+00</th>\n",
       "      <th>7.582644820213317871e-01</th>\n",
       "      <th>1.115702465176582336e-01</th>\n",
       "      <th>0.000000000000000000e+00</th>\n",
       "      <th>8.057851344347000122e-02</th>\n",
       "      <th>7.851240038871765137e-02</th>\n",
       "      <th>6.611569970846176147e-02</th>\n",
       "      <th>4.958677664399147034e-02</th>\n",
       "      <th>4.752065986394882202e-02</th>\n",
       "      <th>3.512396663427352905e-02</th>\n",
       "      <th>...</th>\n",
       "      <th>0.000000000000000000e+00.56</th>\n",
       "      <th>0.000000000000000000e+00.57</th>\n",
       "      <th>0.000000000000000000e+00.58</th>\n",
       "      <th>0.000000000000000000e+00.59</th>\n",
       "      <th>0.000000000000000000e+00.60</th>\n",
       "      <th>0.000000000000000000e+00.61</th>\n",
       "      <th>0.000000000000000000e+00.62</th>\n",
       "      <th>0.000000000000000000e+00.63</th>\n",
       "      <th>0.000000000000000000e+00.64</th>\n",
       "      <th>0.000000000000000000e+00.65</th>\n",
       "    </tr>\n",
       "  </thead>\n",
       "  <tbody>\n",
       "    <tr>\n",
       "      <th>0</th>\n",
       "      <td>0.908425</td>\n",
       "      <td>0.783883</td>\n",
       "      <td>0.531136</td>\n",
       "      <td>0.362637</td>\n",
       "      <td>0.366300</td>\n",
       "      <td>0.344322</td>\n",
       "      <td>0.333333</td>\n",
       "      <td>0.307692</td>\n",
       "      <td>0.296703</td>\n",
       "      <td>0.300366</td>\n",
       "      <td>...</td>\n",
       "      <td>0.0</td>\n",
       "      <td>0.0</td>\n",
       "      <td>0.0</td>\n",
       "      <td>0.0</td>\n",
       "      <td>0.0</td>\n",
       "      <td>0.0</td>\n",
       "      <td>0.0</td>\n",
       "      <td>0.0</td>\n",
       "      <td>0.0</td>\n",
       "      <td>0.0</td>\n",
       "    </tr>\n",
       "    <tr>\n",
       "      <th>1</th>\n",
       "      <td>0.730088</td>\n",
       "      <td>0.212389</td>\n",
       "      <td>0.000000</td>\n",
       "      <td>0.119469</td>\n",
       "      <td>0.101770</td>\n",
       "      <td>0.101770</td>\n",
       "      <td>0.110619</td>\n",
       "      <td>0.123894</td>\n",
       "      <td>0.115044</td>\n",
       "      <td>0.132743</td>\n",
       "      <td>...</td>\n",
       "      <td>0.0</td>\n",
       "      <td>0.0</td>\n",
       "      <td>0.0</td>\n",
       "      <td>0.0</td>\n",
       "      <td>0.0</td>\n",
       "      <td>0.0</td>\n",
       "      <td>0.0</td>\n",
       "      <td>0.0</td>\n",
       "      <td>0.0</td>\n",
       "      <td>0.0</td>\n",
       "    </tr>\n",
       "    <tr>\n",
       "      <th>2</th>\n",
       "      <td>1.000000</td>\n",
       "      <td>0.910417</td>\n",
       "      <td>0.681250</td>\n",
       "      <td>0.472917</td>\n",
       "      <td>0.229167</td>\n",
       "      <td>0.068750</td>\n",
       "      <td>0.000000</td>\n",
       "      <td>0.004167</td>\n",
       "      <td>0.014583</td>\n",
       "      <td>0.054167</td>\n",
       "      <td>...</td>\n",
       "      <td>0.0</td>\n",
       "      <td>0.0</td>\n",
       "      <td>0.0</td>\n",
       "      <td>0.0</td>\n",
       "      <td>0.0</td>\n",
       "      <td>0.0</td>\n",
       "      <td>0.0</td>\n",
       "      <td>0.0</td>\n",
       "      <td>0.0</td>\n",
       "      <td>0.0</td>\n",
       "    </tr>\n",
       "    <tr>\n",
       "      <th>3</th>\n",
       "      <td>0.570470</td>\n",
       "      <td>0.399329</td>\n",
       "      <td>0.238255</td>\n",
       "      <td>0.147651</td>\n",
       "      <td>0.000000</td>\n",
       "      <td>0.003356</td>\n",
       "      <td>0.040268</td>\n",
       "      <td>0.080537</td>\n",
       "      <td>0.070470</td>\n",
       "      <td>0.090604</td>\n",
       "      <td>...</td>\n",
       "      <td>0.0</td>\n",
       "      <td>0.0</td>\n",
       "      <td>0.0</td>\n",
       "      <td>0.0</td>\n",
       "      <td>0.0</td>\n",
       "      <td>0.0</td>\n",
       "      <td>0.0</td>\n",
       "      <td>0.0</td>\n",
       "      <td>0.0</td>\n",
       "      <td>0.0</td>\n",
       "    </tr>\n",
       "    <tr>\n",
       "      <th>4</th>\n",
       "      <td>1.000000</td>\n",
       "      <td>0.923664</td>\n",
       "      <td>0.656489</td>\n",
       "      <td>0.195929</td>\n",
       "      <td>0.111959</td>\n",
       "      <td>0.175573</td>\n",
       "      <td>0.122137</td>\n",
       "      <td>0.050891</td>\n",
       "      <td>0.035623</td>\n",
       "      <td>0.055980</td>\n",
       "      <td>...</td>\n",
       "      <td>0.0</td>\n",
       "      <td>0.0</td>\n",
       "      <td>0.0</td>\n",
       "      <td>0.0</td>\n",
       "      <td>0.0</td>\n",
       "      <td>0.0</td>\n",
       "      <td>0.0</td>\n",
       "      <td>0.0</td>\n",
       "      <td>0.0</td>\n",
       "      <td>0.0</td>\n",
       "    </tr>\n",
       "  </tbody>\n",
       "</table>\n",
       "<p>5 rows × 188 columns</p>\n",
       "</div>"
      ],
      "text/plain": [
       "   1.000000000000000000e+00  7.582644820213317871e-01  \\\n",
       "0                  0.908425                  0.783883   \n",
       "1                  0.730088                  0.212389   \n",
       "2                  1.000000                  0.910417   \n",
       "3                  0.570470                  0.399329   \n",
       "4                  1.000000                  0.923664   \n",
       "\n",
       "   1.115702465176582336e-01  0.000000000000000000e+00  \\\n",
       "0                  0.531136                  0.362637   \n",
       "1                  0.000000                  0.119469   \n",
       "2                  0.681250                  0.472917   \n",
       "3                  0.238255                  0.147651   \n",
       "4                  0.656489                  0.195929   \n",
       "\n",
       "   8.057851344347000122e-02  7.851240038871765137e-02  \\\n",
       "0                  0.366300                  0.344322   \n",
       "1                  0.101770                  0.101770   \n",
       "2                  0.229167                  0.068750   \n",
       "3                  0.000000                  0.003356   \n",
       "4                  0.111959                  0.175573   \n",
       "\n",
       "   6.611569970846176147e-02  4.958677664399147034e-02  \\\n",
       "0                  0.333333                  0.307692   \n",
       "1                  0.110619                  0.123894   \n",
       "2                  0.000000                  0.004167   \n",
       "3                  0.040268                  0.080537   \n",
       "4                  0.122137                  0.050891   \n",
       "\n",
       "   4.752065986394882202e-02  3.512396663427352905e-02  ...  \\\n",
       "0                  0.296703                  0.300366  ...   \n",
       "1                  0.115044                  0.132743  ...   \n",
       "2                  0.014583                  0.054167  ...   \n",
       "3                  0.070470                  0.090604  ...   \n",
       "4                  0.035623                  0.055980  ...   \n",
       "\n",
       "   0.000000000000000000e+00.56  0.000000000000000000e+00.57  \\\n",
       "0                          0.0                          0.0   \n",
       "1                          0.0                          0.0   \n",
       "2                          0.0                          0.0   \n",
       "3                          0.0                          0.0   \n",
       "4                          0.0                          0.0   \n",
       "\n",
       "   0.000000000000000000e+00.58  0.000000000000000000e+00.59  \\\n",
       "0                          0.0                          0.0   \n",
       "1                          0.0                          0.0   \n",
       "2                          0.0                          0.0   \n",
       "3                          0.0                          0.0   \n",
       "4                          0.0                          0.0   \n",
       "\n",
       "   0.000000000000000000e+00.60  0.000000000000000000e+00.61  \\\n",
       "0                          0.0                          0.0   \n",
       "1                          0.0                          0.0   \n",
       "2                          0.0                          0.0   \n",
       "3                          0.0                          0.0   \n",
       "4                          0.0                          0.0   \n",
       "\n",
       "   0.000000000000000000e+00.62  0.000000000000000000e+00.63  \\\n",
       "0                          0.0                          0.0   \n",
       "1                          0.0                          0.0   \n",
       "2                          0.0                          0.0   \n",
       "3                          0.0                          0.0   \n",
       "4                          0.0                          0.0   \n",
       "\n",
       "   0.000000000000000000e+00.64  0.000000000000000000e+00.65  \n",
       "0                          0.0                          0.0  \n",
       "1                          0.0                          0.0  \n",
       "2                          0.0                          0.0  \n",
       "3                          0.0                          0.0  \n",
       "4                          0.0                          0.0  \n",
       "\n",
       "[5 rows x 188 columns]"
      ]
     },
     "execution_count": 5,
     "metadata": {},
     "output_type": "execute_result"
    }
   ],
   "source": [
    "test1.head()"
   ]
  },
  {
   "cell_type": "code",
   "execution_count": 6,
   "id": "17d04fb1",
   "metadata": {},
   "outputs": [],
   "source": [
    "#PCA\n",
    "#marine predators\n",
    "#convergence curve\n",
    "#objective functions----single / multi "
   ]
  },
  {
   "cell_type": "code",
   "execution_count": 7,
   "id": "b7164a96",
   "metadata": {},
   "outputs": [],
   "source": [
    "for trains in train1:\n",
    "    train1.columns = list(range(len(train1.columns)))\n",
    "    \n",
    "for tests in test1:\n",
    "    test1.columns = list(range(len(test1.columns)))"
   ]
  },
  {
   "cell_type": "code",
   "execution_count": 8,
   "id": "6172b311",
   "metadata": {},
   "outputs": [
    {
     "data": {
      "text/html": [
       "<div>\n",
       "<style scoped>\n",
       "    .dataframe tbody tr th:only-of-type {\n",
       "        vertical-align: middle;\n",
       "    }\n",
       "\n",
       "    .dataframe tbody tr th {\n",
       "        vertical-align: top;\n",
       "    }\n",
       "\n",
       "    .dataframe thead th {\n",
       "        text-align: right;\n",
       "    }\n",
       "</style>\n",
       "<table border=\"1\" class=\"dataframe\">\n",
       "  <thead>\n",
       "    <tr style=\"text-align: right;\">\n",
       "      <th></th>\n",
       "      <th>0</th>\n",
       "      <th>1</th>\n",
       "      <th>2</th>\n",
       "      <th>3</th>\n",
       "      <th>4</th>\n",
       "      <th>5</th>\n",
       "      <th>6</th>\n",
       "      <th>7</th>\n",
       "      <th>8</th>\n",
       "      <th>9</th>\n",
       "      <th>...</th>\n",
       "      <th>178</th>\n",
       "      <th>179</th>\n",
       "      <th>180</th>\n",
       "      <th>181</th>\n",
       "      <th>182</th>\n",
       "      <th>183</th>\n",
       "      <th>184</th>\n",
       "      <th>185</th>\n",
       "      <th>186</th>\n",
       "      <th>187</th>\n",
       "    </tr>\n",
       "  </thead>\n",
       "  <tbody>\n",
       "    <tr>\n",
       "      <th>13132</th>\n",
       "      <td>0.934694</td>\n",
       "      <td>0.836735</td>\n",
       "      <td>0.404082</td>\n",
       "      <td>0.126531</td>\n",
       "      <td>0.118367</td>\n",
       "      <td>0.106122</td>\n",
       "      <td>0.085714</td>\n",
       "      <td>0.053061</td>\n",
       "      <td>0.061224</td>\n",
       "      <td>0.053061</td>\n",
       "      <td>...</td>\n",
       "      <td>0.0</td>\n",
       "      <td>0.0</td>\n",
       "      <td>0.0</td>\n",
       "      <td>0.0</td>\n",
       "      <td>0.0</td>\n",
       "      <td>0.0</td>\n",
       "      <td>0.0</td>\n",
       "      <td>0.0</td>\n",
       "      <td>0.0</td>\n",
       "      <td>0.0</td>\n",
       "    </tr>\n",
       "  </tbody>\n",
       "</table>\n",
       "<p>1 rows × 188 columns</p>\n",
       "</div>"
      ],
      "text/plain": [
       "            0         1         2         3         4         5         6    \\\n",
       "13132  0.934694  0.836735  0.404082  0.126531  0.118367  0.106122  0.085714   \n",
       "\n",
       "            7         8         9    ...  178  179  180  181  182  183  184  \\\n",
       "13132  0.053061  0.061224  0.053061  ...  0.0  0.0  0.0  0.0  0.0  0.0  0.0   \n",
       "\n",
       "       185  186  187  \n",
       "13132  0.0  0.0  0.0  \n",
       "\n",
       "[1 rows x 188 columns]"
      ]
     },
     "execution_count": 8,
     "metadata": {},
     "output_type": "execute_result"
    }
   ],
   "source": [
    "test1.sample()"
   ]
  },
  {
   "cell_type": "code",
   "execution_count": 9,
   "id": "f0c3247c",
   "metadata": {},
   "outputs": [
    {
     "data": {
      "text/html": [
       "<div>\n",
       "<style scoped>\n",
       "    .dataframe tbody tr th:only-of-type {\n",
       "        vertical-align: middle;\n",
       "    }\n",
       "\n",
       "    .dataframe tbody tr th {\n",
       "        vertical-align: top;\n",
       "    }\n",
       "\n",
       "    .dataframe thead th {\n",
       "        text-align: right;\n",
       "    }\n",
       "</style>\n",
       "<table border=\"1\" class=\"dataframe\">\n",
       "  <thead>\n",
       "    <tr style=\"text-align: right;\">\n",
       "      <th></th>\n",
       "      <th>0</th>\n",
       "      <th>1</th>\n",
       "      <th>2</th>\n",
       "      <th>3</th>\n",
       "      <th>4</th>\n",
       "      <th>5</th>\n",
       "      <th>6</th>\n",
       "      <th>7</th>\n",
       "      <th>8</th>\n",
       "      <th>9</th>\n",
       "      <th>...</th>\n",
       "      <th>178</th>\n",
       "      <th>179</th>\n",
       "      <th>180</th>\n",
       "      <th>181</th>\n",
       "      <th>182</th>\n",
       "      <th>183</th>\n",
       "      <th>184</th>\n",
       "      <th>185</th>\n",
       "      <th>186</th>\n",
       "      <th>187</th>\n",
       "    </tr>\n",
       "  </thead>\n",
       "  <tbody>\n",
       "    <tr>\n",
       "      <th>67909</th>\n",
       "      <td>0.982079</td>\n",
       "      <td>0.663082</td>\n",
       "      <td>0.100358</td>\n",
       "      <td>0.103943</td>\n",
       "      <td>0.197133</td>\n",
       "      <td>0.172043</td>\n",
       "      <td>0.150538</td>\n",
       "      <td>0.154122</td>\n",
       "      <td>0.132616</td>\n",
       "      <td>0.132616</td>\n",
       "      <td>...</td>\n",
       "      <td>0.0</td>\n",
       "      <td>0.0</td>\n",
       "      <td>0.0</td>\n",
       "      <td>0.0</td>\n",
       "      <td>0.0</td>\n",
       "      <td>0.0</td>\n",
       "      <td>0.0</td>\n",
       "      <td>0.0</td>\n",
       "      <td>0.0</td>\n",
       "      <td>0.0</td>\n",
       "    </tr>\n",
       "  </tbody>\n",
       "</table>\n",
       "<p>1 rows × 188 columns</p>\n",
       "</div>"
      ],
      "text/plain": [
       "            0         1         2         3         4         5         6    \\\n",
       "67909  0.982079  0.663082  0.100358  0.103943  0.197133  0.172043  0.150538   \n",
       "\n",
       "            7         8         9    ...  178  179  180  181  182  183  184  \\\n",
       "67909  0.154122  0.132616  0.132616  ...  0.0  0.0  0.0  0.0  0.0  0.0  0.0   \n",
       "\n",
       "       185  186  187  \n",
       "67909  0.0  0.0  0.0  \n",
       "\n",
       "[1 rows x 188 columns]"
      ]
     },
     "execution_count": 9,
     "metadata": {},
     "output_type": "execute_result"
    }
   ],
   "source": [
    "train1.sample()"
   ]
  },
  {
   "cell_type": "code",
   "execution_count": 10,
   "id": "0ee930c5",
   "metadata": {},
   "outputs": [],
   "source": [
    "#combining two data into one\n",
    "dataset1 = pd.concat([train1, test1], axis=0).sample(frac=1.0, random_state =0).reset_index(drop=True)"
   ]
  },
  {
   "cell_type": "code",
   "execution_count": 11,
   "id": "91a88b99",
   "metadata": {},
   "outputs": [
    {
     "data": {
      "text/html": [
       "<div>\n",
       "<style scoped>\n",
       "    .dataframe tbody tr th:only-of-type {\n",
       "        vertical-align: middle;\n",
       "    }\n",
       "\n",
       "    .dataframe tbody tr th {\n",
       "        vertical-align: top;\n",
       "    }\n",
       "\n",
       "    .dataframe thead th {\n",
       "        text-align: right;\n",
       "    }\n",
       "</style>\n",
       "<table border=\"1\" class=\"dataframe\">\n",
       "  <thead>\n",
       "    <tr style=\"text-align: right;\">\n",
       "      <th></th>\n",
       "      <th>0</th>\n",
       "      <th>1</th>\n",
       "      <th>2</th>\n",
       "      <th>3</th>\n",
       "      <th>4</th>\n",
       "      <th>5</th>\n",
       "      <th>6</th>\n",
       "      <th>7</th>\n",
       "      <th>8</th>\n",
       "      <th>9</th>\n",
       "      <th>...</th>\n",
       "      <th>178</th>\n",
       "      <th>179</th>\n",
       "      <th>180</th>\n",
       "      <th>181</th>\n",
       "      <th>182</th>\n",
       "      <th>183</th>\n",
       "      <th>184</th>\n",
       "      <th>185</th>\n",
       "      <th>186</th>\n",
       "      <th>187</th>\n",
       "    </tr>\n",
       "  </thead>\n",
       "  <tbody>\n",
       "    <tr>\n",
       "      <th>92263</th>\n",
       "      <td>0.960825</td>\n",
       "      <td>0.995876</td>\n",
       "      <td>0.501031</td>\n",
       "      <td>0.206186</td>\n",
       "      <td>0.148454</td>\n",
       "      <td>0.107216</td>\n",
       "      <td>0.094845</td>\n",
       "      <td>0.090722</td>\n",
       "      <td>0.173196</td>\n",
       "      <td>0.346392</td>\n",
       "      <td>...</td>\n",
       "      <td>0.0</td>\n",
       "      <td>0.0</td>\n",
       "      <td>0.0</td>\n",
       "      <td>0.0</td>\n",
       "      <td>0.0</td>\n",
       "      <td>0.0</td>\n",
       "      <td>0.0</td>\n",
       "      <td>0.0</td>\n",
       "      <td>0.0</td>\n",
       "      <td>0.0</td>\n",
       "    </tr>\n",
       "  </tbody>\n",
       "</table>\n",
       "<p>1 rows × 188 columns</p>\n",
       "</div>"
      ],
      "text/plain": [
       "            0         1         2         3         4         5         6    \\\n",
       "92263  0.960825  0.995876  0.501031  0.206186  0.148454  0.107216  0.094845   \n",
       "\n",
       "            7         8         9    ...  178  179  180  181  182  183  184  \\\n",
       "92263  0.090722  0.173196  0.346392  ...  0.0  0.0  0.0  0.0  0.0  0.0  0.0   \n",
       "\n",
       "       185  186  187  \n",
       "92263  0.0  0.0  0.0  \n",
       "\n",
       "[1 rows x 188 columns]"
      ]
     },
     "execution_count": 11,
     "metadata": {},
     "output_type": "execute_result"
    }
   ],
   "source": [
    "dataset1.sample()"
   ]
  },
  {
   "cell_type": "code",
   "execution_count": 12,
   "id": "e25173ef",
   "metadata": {},
   "outputs": [
    {
     "data": {
      "text/html": [
       "<div>\n",
       "<style scoped>\n",
       "    .dataframe tbody tr th:only-of-type {\n",
       "        vertical-align: middle;\n",
       "    }\n",
       "\n",
       "    .dataframe tbody tr th {\n",
       "        vertical-align: top;\n",
       "    }\n",
       "\n",
       "    .dataframe thead th {\n",
       "        text-align: right;\n",
       "    }\n",
       "</style>\n",
       "<table border=\"1\" class=\"dataframe\">\n",
       "  <thead>\n",
       "    <tr style=\"text-align: right;\">\n",
       "      <th></th>\n",
       "      <th>0</th>\n",
       "      <th>1</th>\n",
       "      <th>2</th>\n",
       "      <th>3</th>\n",
       "      <th>4</th>\n",
       "      <th>5</th>\n",
       "      <th>6</th>\n",
       "      <th>7</th>\n",
       "      <th>8</th>\n",
       "      <th>9</th>\n",
       "      <th>...</th>\n",
       "      <th>178</th>\n",
       "      <th>179</th>\n",
       "      <th>180</th>\n",
       "      <th>181</th>\n",
       "      <th>182</th>\n",
       "      <th>183</th>\n",
       "      <th>184</th>\n",
       "      <th>185</th>\n",
       "      <th>186</th>\n",
       "      <th>187</th>\n",
       "    </tr>\n",
       "  </thead>\n",
       "  <tbody>\n",
       "    <tr>\n",
       "      <th>count</th>\n",
       "      <td>109444.000000</td>\n",
       "      <td>109444.000000</td>\n",
       "      <td>109444.000000</td>\n",
       "      <td>109444.000000</td>\n",
       "      <td>109444.000000</td>\n",
       "      <td>109444.000000</td>\n",
       "      <td>109444.000000</td>\n",
       "      <td>109444.000000</td>\n",
       "      <td>109444.000000</td>\n",
       "      <td>109444.000000</td>\n",
       "      <td>...</td>\n",
       "      <td>109444.000000</td>\n",
       "      <td>109444.000000</td>\n",
       "      <td>109444.000000</td>\n",
       "      <td>109444.000000</td>\n",
       "      <td>109444.000000</td>\n",
       "      <td>109444.000000</td>\n",
       "      <td>109444.000000</td>\n",
       "      <td>109444.000000</td>\n",
       "      <td>109444.000000</td>\n",
       "      <td>109444.000000</td>\n",
       "    </tr>\n",
       "    <tr>\n",
       "      <th>mean</th>\n",
       "      <td>0.891168</td>\n",
       "      <td>0.758907</td>\n",
       "      <td>0.424504</td>\n",
       "      <td>0.219604</td>\n",
       "      <td>0.201238</td>\n",
       "      <td>0.210299</td>\n",
       "      <td>0.205609</td>\n",
       "      <td>0.201619</td>\n",
       "      <td>0.198482</td>\n",
       "      <td>0.196613</td>\n",
       "      <td>...</td>\n",
       "      <td>0.004937</td>\n",
       "      <td>0.004568</td>\n",
       "      <td>0.004237</td>\n",
       "      <td>0.003914</td>\n",
       "      <td>0.003673</td>\n",
       "      <td>0.003469</td>\n",
       "      <td>0.003210</td>\n",
       "      <td>0.002956</td>\n",
       "      <td>0.002835</td>\n",
       "      <td>0.473448</td>\n",
       "    </tr>\n",
       "    <tr>\n",
       "      <th>std</th>\n",
       "      <td>0.239659</td>\n",
       "      <td>0.221191</td>\n",
       "      <td>0.227559</td>\n",
       "      <td>0.207248</td>\n",
       "      <td>0.177192</td>\n",
       "      <td>0.171966</td>\n",
       "      <td>0.178375</td>\n",
       "      <td>0.177021</td>\n",
       "      <td>0.171469</td>\n",
       "      <td>0.168028</td>\n",
       "      <td>...</td>\n",
       "      <td>0.043952</td>\n",
       "      <td>0.042109</td>\n",
       "      <td>0.040471</td>\n",
       "      <td>0.038801</td>\n",
       "      <td>0.037465</td>\n",
       "      <td>0.036552</td>\n",
       "      <td>0.035015</td>\n",
       "      <td>0.033414</td>\n",
       "      <td>0.032620</td>\n",
       "      <td>1.143240</td>\n",
       "    </tr>\n",
       "    <tr>\n",
       "      <th>min</th>\n",
       "      <td>0.000000</td>\n",
       "      <td>0.000000</td>\n",
       "      <td>0.000000</td>\n",
       "      <td>0.000000</td>\n",
       "      <td>0.000000</td>\n",
       "      <td>0.000000</td>\n",
       "      <td>0.000000</td>\n",
       "      <td>0.000000</td>\n",
       "      <td>0.000000</td>\n",
       "      <td>0.000000</td>\n",
       "      <td>...</td>\n",
       "      <td>0.000000</td>\n",
       "      <td>0.000000</td>\n",
       "      <td>0.000000</td>\n",
       "      <td>0.000000</td>\n",
       "      <td>0.000000</td>\n",
       "      <td>0.000000</td>\n",
       "      <td>0.000000</td>\n",
       "      <td>0.000000</td>\n",
       "      <td>0.000000</td>\n",
       "      <td>0.000000</td>\n",
       "    </tr>\n",
       "    <tr>\n",
       "      <th>25%</th>\n",
       "      <td>0.922251</td>\n",
       "      <td>0.682642</td>\n",
       "      <td>0.251018</td>\n",
       "      <td>0.048858</td>\n",
       "      <td>0.082418</td>\n",
       "      <td>0.088300</td>\n",
       "      <td>0.073171</td>\n",
       "      <td>0.066097</td>\n",
       "      <td>0.064897</td>\n",
       "      <td>0.068627</td>\n",
       "      <td>...</td>\n",
       "      <td>0.000000</td>\n",
       "      <td>0.000000</td>\n",
       "      <td>0.000000</td>\n",
       "      <td>0.000000</td>\n",
       "      <td>0.000000</td>\n",
       "      <td>0.000000</td>\n",
       "      <td>0.000000</td>\n",
       "      <td>0.000000</td>\n",
       "      <td>0.000000</td>\n",
       "      <td>0.000000</td>\n",
       "    </tr>\n",
       "    <tr>\n",
       "      <th>50%</th>\n",
       "      <td>0.991202</td>\n",
       "      <td>0.826560</td>\n",
       "      <td>0.430174</td>\n",
       "      <td>0.166355</td>\n",
       "      <td>0.147842</td>\n",
       "      <td>0.158640</td>\n",
       "      <td>0.145078</td>\n",
       "      <td>0.144465</td>\n",
       "      <td>0.150078</td>\n",
       "      <td>0.148853</td>\n",
       "      <td>...</td>\n",
       "      <td>0.000000</td>\n",
       "      <td>0.000000</td>\n",
       "      <td>0.000000</td>\n",
       "      <td>0.000000</td>\n",
       "      <td>0.000000</td>\n",
       "      <td>0.000000</td>\n",
       "      <td>0.000000</td>\n",
       "      <td>0.000000</td>\n",
       "      <td>0.000000</td>\n",
       "      <td>0.000000</td>\n",
       "    </tr>\n",
       "    <tr>\n",
       "      <th>75%</th>\n",
       "      <td>1.000000</td>\n",
       "      <td>0.910865</td>\n",
       "      <td>0.579832</td>\n",
       "      <td>0.342714</td>\n",
       "      <td>0.259049</td>\n",
       "      <td>0.287505</td>\n",
       "      <td>0.298343</td>\n",
       "      <td>0.295238</td>\n",
       "      <td>0.290625</td>\n",
       "      <td>0.283465</td>\n",
       "      <td>...</td>\n",
       "      <td>0.000000</td>\n",
       "      <td>0.000000</td>\n",
       "      <td>0.000000</td>\n",
       "      <td>0.000000</td>\n",
       "      <td>0.000000</td>\n",
       "      <td>0.000000</td>\n",
       "      <td>0.000000</td>\n",
       "      <td>0.000000</td>\n",
       "      <td>0.000000</td>\n",
       "      <td>0.000000</td>\n",
       "    </tr>\n",
       "    <tr>\n",
       "      <th>max</th>\n",
       "      <td>1.000000</td>\n",
       "      <td>1.000000</td>\n",
       "      <td>1.000000</td>\n",
       "      <td>1.000000</td>\n",
       "      <td>1.000000</td>\n",
       "      <td>1.000000</td>\n",
       "      <td>1.000000</td>\n",
       "      <td>1.000000</td>\n",
       "      <td>1.000000</td>\n",
       "      <td>1.000000</td>\n",
       "      <td>...</td>\n",
       "      <td>1.000000</td>\n",
       "      <td>1.000000</td>\n",
       "      <td>1.000000</td>\n",
       "      <td>1.000000</td>\n",
       "      <td>1.000000</td>\n",
       "      <td>1.000000</td>\n",
       "      <td>1.000000</td>\n",
       "      <td>1.000000</td>\n",
       "      <td>1.000000</td>\n",
       "      <td>4.000000</td>\n",
       "    </tr>\n",
       "  </tbody>\n",
       "</table>\n",
       "<p>8 rows × 188 columns</p>\n",
       "</div>"
      ],
      "text/plain": [
       "                 0              1              2              3    \\\n",
       "count  109444.000000  109444.000000  109444.000000  109444.000000   \n",
       "mean        0.891168       0.758907       0.424504       0.219604   \n",
       "std         0.239659       0.221191       0.227559       0.207248   \n",
       "min         0.000000       0.000000       0.000000       0.000000   \n",
       "25%         0.922251       0.682642       0.251018       0.048858   \n",
       "50%         0.991202       0.826560       0.430174       0.166355   \n",
       "75%         1.000000       0.910865       0.579832       0.342714   \n",
       "max         1.000000       1.000000       1.000000       1.000000   \n",
       "\n",
       "                 4              5              6              7    \\\n",
       "count  109444.000000  109444.000000  109444.000000  109444.000000   \n",
       "mean        0.201238       0.210299       0.205609       0.201619   \n",
       "std         0.177192       0.171966       0.178375       0.177021   \n",
       "min         0.000000       0.000000       0.000000       0.000000   \n",
       "25%         0.082418       0.088300       0.073171       0.066097   \n",
       "50%         0.147842       0.158640       0.145078       0.144465   \n",
       "75%         0.259049       0.287505       0.298343       0.295238   \n",
       "max         1.000000       1.000000       1.000000       1.000000   \n",
       "\n",
       "                 8              9    ...            178            179  \\\n",
       "count  109444.000000  109444.000000  ...  109444.000000  109444.000000   \n",
       "mean        0.198482       0.196613  ...       0.004937       0.004568   \n",
       "std         0.171469       0.168028  ...       0.043952       0.042109   \n",
       "min         0.000000       0.000000  ...       0.000000       0.000000   \n",
       "25%         0.064897       0.068627  ...       0.000000       0.000000   \n",
       "50%         0.150078       0.148853  ...       0.000000       0.000000   \n",
       "75%         0.290625       0.283465  ...       0.000000       0.000000   \n",
       "max         1.000000       1.000000  ...       1.000000       1.000000   \n",
       "\n",
       "                 180            181            182            183  \\\n",
       "count  109444.000000  109444.000000  109444.000000  109444.000000   \n",
       "mean        0.004237       0.003914       0.003673       0.003469   \n",
       "std         0.040471       0.038801       0.037465       0.036552   \n",
       "min         0.000000       0.000000       0.000000       0.000000   \n",
       "25%         0.000000       0.000000       0.000000       0.000000   \n",
       "50%         0.000000       0.000000       0.000000       0.000000   \n",
       "75%         0.000000       0.000000       0.000000       0.000000   \n",
       "max         1.000000       1.000000       1.000000       1.000000   \n",
       "\n",
       "                 184            185            186            187  \n",
       "count  109444.000000  109444.000000  109444.000000  109444.000000  \n",
       "mean        0.003210       0.002956       0.002835       0.473448  \n",
       "std         0.035015       0.033414       0.032620       1.143240  \n",
       "min         0.000000       0.000000       0.000000       0.000000  \n",
       "25%         0.000000       0.000000       0.000000       0.000000  \n",
       "50%         0.000000       0.000000       0.000000       0.000000  \n",
       "75%         0.000000       0.000000       0.000000       0.000000  \n",
       "max         1.000000       1.000000       1.000000       4.000000  \n",
       "\n",
       "[8 rows x 188 columns]"
      ]
     },
     "execution_count": 12,
     "metadata": {},
     "output_type": "execute_result"
    }
   ],
   "source": [
    "dataset1.describe()"
   ]
  },
  {
   "cell_type": "code",
   "execution_count": 13,
   "id": "557e4d0d",
   "metadata": {},
   "outputs": [
    {
     "data": {
      "text/plain": [
       "(109444, 188)"
      ]
     },
     "execution_count": 13,
     "metadata": {},
     "output_type": "execute_result"
    }
   ],
   "source": [
    "dataset1.shape"
   ]
  },
  {
   "cell_type": "code",
   "execution_count": 14,
   "id": "d3dbcca6",
   "metadata": {},
   "outputs": [
    {
     "data": {
      "text/plain": [
       "<Axes: ylabel='Count'>"
      ]
     },
     "execution_count": 14,
     "metadata": {},
     "output_type": "execute_result"
    },
    {
     "data": {
      "image/png": "[encoded data removed]",
      "text/plain": [
       "<Figure size 640x480 with 1 Axes>"
      ]
     },
     "metadata": {},
     "output_type": "display_data"
    }
   ],
   "source": [
    "#skewness of the dataset\n",
    "#the deviation of the distribution of the data from a normal distribution\n",
    "#+ve mean > median > mode\n",
    "#-ve mean < median < mode\n",
    "import seaborn as sns\n",
    "sns.histplot(dataset1.skew(), bins = 50, kde = True)"
   ]
  },
  {
   "cell_type": "code",
   "execution_count": 15,
   "id": "f4d3ef82",
   "metadata": {},
   "outputs": [
    {
     "data": {
      "text/plain": [
       "<Axes: ylabel='Count'>"
      ]
     },
     "execution_count": 15,
     "metadata": {},
     "output_type": "execute_result"
    },
    {
     "data": {
      "image/png": "[encoded data removed]",
      "text/plain": [
       "<Figure size 640x480 with 1 Axes>"
      ]
     },
     "metadata": {},
     "output_type": "display_data"
    }
   ],
   "source": [
    "#kurtosis of dataset\n",
    "#identifies whether the tails of a given distribution contain extreme values\n",
    "#Leptokurtic indicates a positive excess kurtosis\n",
    "#mesokurtic distribution shows an excess kurtosis of zero or close to zero\n",
    "#platykurtic distribution shows a negative excess kurtosis\n",
    "sns.histplot(dataset1.kurtosis(), bins = 50, kde = True)"
   ]
  },
  {
   "cell_type": "code",
   "execution_count": 16,
   "id": "16f4a186",
   "metadata": {},
   "outputs": [],
   "source": [
    "#splitting dataset to dependent and independent variable\n",
    "X = dataset1.iloc[:,:-1].values #independent values / features\n",
    "y = dataset1.iloc[:,-1].values #dependent values / target"
   ]
  },
  {
   "cell_type": "code",
   "execution_count": 17,
   "id": "ab9ef5aa",
   "metadata": {},
   "outputs": [
    {
     "name": "stdout",
     "output_type": "stream",
     "text": [
      "shape of X(independent variables): (109444, 187)\n",
      "shape of y(dependent variables): (109444,)\n"
     ]
    }
   ],
   "source": [
    "print(\"shape of X(independent variables):\",X.shape)\n",
    "print(\"shape of y(dependent variables):\", y.shape)"
   ]
  },
  {
   "cell_type": "code",
   "execution_count": 18,
   "id": "9a2fce3e",
   "metadata": {},
   "outputs": [],
   "source": [
    "count0 = 0\n",
    "count1 = 0\n",
    "count2 = 0\n",
    "count3 = 0\n",
    "count4 = 0\n",
    "for i in range(0, len(y)):\n",
    "    if(y[i]==0):\n",
    "        count0=count0+1\n",
    "    elif(y[i]==1):\n",
    "        count1=count1+1\n",
    "    elif(y[i]==2):\n",
    "        count2=count2+1\n",
    "    elif(y[i]==3):\n",
    "        count3=count3+1\n",
    "    else:\n",
    "        count4=count4+1"
   ]
  },
  {
   "cell_type": "code",
   "execution_count": 19,
   "id": "78eb08d7",
   "metadata": {},
   "outputs": [
    {
     "name": "stdout",
     "output_type": "stream",
     "text": [
      "0: 90587 \t1: 2779 \t2: 7236 \t3: 803 \t4: 8039\n"
     ]
    }
   ],
   "source": [
    "print(\"0:\",count0,\"\\t1:\",count1,\"\\t2:\",count2,\"\\t3:\",count3,\"\\t4:\",count4)"
   ]
  },
  {
   "cell_type": "code",
   "execution_count": 22,
   "id": "96054bd1",
   "metadata": {},
   "outputs": [],
   "source": [
    "from sklearn import preprocessing\n",
    "from sklearn import utils\n",
    "\n",
    "lab_enc = preprocessing.LabelEncoder()\n",
    "encoded = lab_enc.fit_transform(y)"
   ]
  },
  {
   "cell_type": "code",
   "execution_count": null,
   "id": "d2c96250",
   "metadata": {},
   "outputs": [],
   "source": [
    "from imblearn.over_sampling import SMOTE\n",
    "from sklearn.preprocessing import PowerTransformer, QuantileTransformer\n",
    "pt = PowerTransformer()\n",
    "qt = QuantileTransformer(n_quantiles=500, output_distribution='normal')\n",
    "oversample = SMOTE()\n",
    "dataset1_cols = dataset1.columns\n",
    "dataset1_cols=np.linspace(dataset1_cols,dataset1_cols[-1])\n",
    "for i in dataset1_cols[0:1]:\n",
    "        array = np.array(dataset1[i]).reshape(-1, 1)\n",
    "        #arrayX = np.array(X[:,:1]).reshape(-1, 1)\n",
    "        #arrayY = np.array(encoded).reshape(1, -1)\n",
    "        _y = pt.fit_transform(array)\n",
    "        _x = qt.fit_transform(array)\n",
    "X_, y_ = oversample.fit_resample(_x, _y)"
   ]
  },
  {
   "cell_type": "code",
   "execution_count": 45,
   "id": "a0f0c8da",
   "metadata": {},
   "outputs": [
    {
     "name": "stdout",
     "output_type": "stream",
     "text": [
      "Counter({0.0: 90587, 4.0: 8039, 2.0: 7236, 1.0: 2779, 3.0: 803})\n"
     ]
    }
   ],
   "source": [
    "from collections import Counter\n",
    "counter_before = Counter(y)\n",
    "print(counter_before)##clusters of data in BIH dataset"
   ]
  },
  {
   "cell_type": "code",
   "execution_count": 57,
   "id": "d642b51f",
   "metadata": {},
   "outputs": [],
   "source": [
    "#applying SMOTE for imbalance\n",
    "from imblearn.over_sampling import SMOTE\n",
    "oversample = SMOTE()#random_state=42)"
   ]
  },
  {
   "cell_type": "code",
   "execution_count": 56,
   "id": "aa74f8a9",
   "metadata": {},
   "outputs": [
    {
     "data": {
      "text/plain": [
       "'X, y = oversample.fit_resample(X, y)\\ncounter = Counter(y)\\nprint(counter)'"
      ]
     },
     "execution_count": 56,
     "metadata": {},
     "output_type": "execute_result"
    }
   ],
   "source": [
    "'''X, y = oversample.fit_resample(X, y)\n",
    "counter = Counter(y)\n",
    "print(counter)'''"
   ]
  },
  {
   "cell_type": "code",
   "execution_count": 59,
   "id": "6e743652",
   "metadata": {},
   "outputs": [],
   "source": [
    "from sklearn.model_selection import train_test_split\n",
    "from tensorflow.keras.layers import Flatten, Dense, Conv1D, MaxPool1D, Dropout\n",
    "X_train, X_test, y_train, y_test = train_test_split(X, y, test_size =0.3, random_state=42)"
   ]
  },
  {
   "cell_type": "code",
   "execution_count": 60,
   "id": "1a5dc1ed",
   "metadata": {},
   "outputs": [],
   "source": [
    "X_train = np.array(X_train).reshape(X_train.shape[0], X_train.shape[1], 1)\n",
    "X_test = np.array(X_test).reshape(X_test.shape[0], X_test.shape[1], 1)"
   ]
  },
  {
   "cell_type": "code",
   "execution_count": 61,
   "id": "c8f05b6f",
   "metadata": {},
   "outputs": [
    {
     "name": "stdout",
     "output_type": "stream",
     "text": [
      "X Train shape:  (76610, 187, 1)\n",
      "X Test shape:  (32834, 187, 1)\n"
     ]
    }
   ],
   "source": [
    "print(\"X Train shape: \", X_train.shape)\n",
    "print(\"X Test shape: \", X_test.shape)"
   ]
  },
  {
   "cell_type": "code",
   "execution_count": 62,
   "id": "bd900e41",
   "metadata": {},
   "outputs": [],
   "source": [
    "cnn_model = tf.keras.models.Sequential()\n",
    "cnn_model.add(Conv1D(filters=32, kernel_size=(3,), padding='same', activation=tf.keras.layers.LeakyReLU(alpha=0.001), input_shape = (X_train.shape[1],1)))\n",
    "cnn_model.add(Conv1D(filters=64, kernel_size=(3,), padding='same', activation=tf.keras.layers.LeakyReLU(alpha=0.001)))\n",
    "cnn_model.add(Conv1D(filters=128, kernel_size=(3,), padding='same', activation=tf.keras.layers.LeakyReLU(alpha=0.001)))\n",
    "##END OF FIRST BLOCK OF CNNS\n",
    "cnn_model.add(MaxPool1D(pool_size=(3,), strides=2, padding='same'))\n",
    "cnn_model.add(Dropout(0.5))\n",
    "##MAXPOOL + DROPOUT FOR REGULARISATION"
   ]
  },
  {
   "cell_type": "code",
   "execution_count": 64,
   "id": "8831e397",
   "metadata": {},
   "outputs": [],
   "source": [
    "cnn_model.add(Flatten())\n",
    "#Add a dense layer with 256 neurons\n",
    "cnn_model.add(Dense(units = 256, activation=tf.keras.layers.LeakyReLU(alpha=0.001)))\n",
    "#Add a dense layer with 512 neurons###LEAKY RELU\n",
    "cnn_model.add(Dense(units = 512, activation=tf.keras.layers.LeakyReLU(alpha=0.001)))\n",
    "#Softmax as last layer with five outputs\n",
    "cnn_model.add(Dense(units = 5, activation='softmax'))"
   ]
  },
  {
   "cell_type": "code",
   "execution_count": 65,
   "id": "de2d278f",
   "metadata": {},
   "outputs": [],
   "source": [
    "cnn_model.compile(optimizer='adam', loss = 'sparse_categorical_crossentropy', metrics=['accuracy'])"
   ]
  },
  {
   "cell_type": "code",
   "execution_count": 66,
   "id": "b62cd4be",
   "metadata": {},
   "outputs": [
    {
     "name": "stdout",
     "output_type": "stream",
     "text": [
      "Model: \"sequential\"\n",
      "_________________________________________________________________\n",
      " Layer (type)                Output Shape              Param #   \n",
      "=================================================================\n",
      " conv1d (Conv1D)             (None, 187, 32)           128       \n",
      "                                                                 \n",
      " conv1d_1 (Conv1D)           (None, 187, 64)           6208      \n",
      "                                                                 \n",
      " conv1d_2 (Conv1D)           (None, 187, 128)          24704     \n",
      "                                                                 \n",
      " max_pooling1d (MaxPooling1  (None, 94, 128)           0         \n",
      " D)                                                              \n",
      "                                                                 \n",
      " dropout (Dropout)           (None, 94, 128)           0         \n",
      "                                                                 \n",
      " flatten (Flatten)           (None, 12032)             0         \n",
      "                                                                 \n",
      " flatten_1 (Flatten)         (None, 12032)             0         \n",
      "                                                                 \n",
      " dense (Dense)               (None, 256)               3080448   \n",
      "                                                                 \n",
      " dense_1 (Dense)             (None, 512)               131584    \n",
      "                                                                 \n",
      " dense_2 (Dense)             (None, 5)                 2565      \n",
      "                                                                 \n",
      "=================================================================\n",
      "Total params: 3245637 (12.38 MB)\n",
      "Trainable params: 3245637 (12.38 MB)\n",
      "Non-trainable params: 0 (0.00 Byte)\n",
      "_________________________________________________________________\n"
     ]
    }
   ],
   "source": [
    "cnn_model.summary()"
   ]
  },
  {
   "cell_type": "code",
   "execution_count": 67,
   "id": "50f4ba50",
   "metadata": {},
   "outputs": [
    {
     "name": "stdout",
     "output_type": "stream",
     "text": [
      "Epoch 1/10\n",
      "7661/7661 [==============================] - 748s 96ms/step - loss: 0.1730 - accuracy: 0.9543 - val_loss: 0.1109 - val_accuracy: 0.9702\n",
      "Epoch 2/10\n",
      "7661/7661 [==============================] - 711s 93ms/step - loss: 0.1068 - accuracy: 0.9712 - val_loss: 0.0966 - val_accuracy: 0.9743\n",
      "Epoch 3/10\n",
      "7661/7661 [==============================] - 660s 86ms/step - loss: 0.0877 - accuracy: 0.9756 - val_loss: 0.0804 - val_accuracy: 0.9783\n",
      "Epoch 4/10\n",
      "7661/7661 [==============================] - 665s 87ms/step - loss: 0.0784 - accuracy: 0.9780 - val_loss: 0.0787 - val_accuracy: 0.9793\n",
      "Epoch 5/10\n",
      "7661/7661 [==============================] - 685s 89ms/step - loss: 0.0747 - accuracy: 0.9794 - val_loss: 0.0796 - val_accuracy: 0.9805\n",
      "Epoch 6/10\n",
      "7661/7661 [==============================] - 648s 85ms/step - loss: 0.0698 - accuracy: 0.9813 - val_loss: 0.0810 - val_accuracy: 0.9788\n",
      "Epoch 7/10\n",
      "7661/7661 [==============================] - 663s 87ms/step - loss: 0.0673 - accuracy: 0.9815 - val_loss: 0.0728 - val_accuracy: 0.9810\n",
      "Epoch 8/10\n",
      "7661/7661 [==============================] - 660s 86ms/step - loss: 0.0645 - accuracy: 0.9823 - val_loss: 0.0879 - val_accuracy: 0.9785\n",
      "Epoch 9/10\n",
      "7661/7661 [==============================] - 682s 89ms/step - loss: 0.0624 - accuracy: 0.9830 - val_loss: 0.0704 - val_accuracy: 0.9816\n",
      "Epoch 10/10\n",
      "7661/7661 [==============================] - 685s 89ms/step - loss: 0.0640 - accuracy: 0.9824 - val_loss: 0.0813 - val_accuracy: 0.9797\n"
     ]
    }
   ],
   "source": [
    "cnn_model_history = cnn_model.fit(X_train, y_train, epochs=10, batch_size = 10, validation_data = (X_test, y_test))"
   ]
  },
  {
   "cell_type": "code",
   "execution_count": 68,
   "id": "96e91fb8",
   "metadata": {},
   "outputs": [
    {
     "data": {
      "text/plain": [
       "Text(0, 0.5, 'Accuracy')"
      ]
     },
     "execution_count": 68,
     "metadata": {},
     "output_type": "execute_result"
    },
    {
     "data": {
      "image/png": "[encoded data removed]",
      "text/plain": [
       "<Figure size 640x480 with 1 Axes>"
      ]
     },
     "metadata": {},
     "output_type": "display_data"
    }
   ],
   "source": [
    "#cnn_model_history.keys\n",
    "plt.plot(cnn_model_history.history['accuracy'])\n",
    "plt.plot(cnn_model_history.history['val_accuracy'])\n",
    "plt.legend([\"accuracy\",\"val_accuracy\"])\n",
    "plt.title('Accuracy Vs Val_Accuracy')\n",
    "plt.xlabel('Epoch')\n",
    "plt.ylabel('Accuracy')"
   ]
  },
  {
   "cell_type": "code",
   "execution_count": 69,
   "id": "d7123809",
   "metadata": {},
   "outputs": [
    {
     "data": {
      "text/plain": [
       "Text(0, 0.5, 'Loss')"
      ]
     },
     "execution_count": 69,
     "metadata": {},
     "output_type": "execute_result"
    },
    {
     "data": {
      "image/png": "[encoded data removed]",
      "text/plain": [
       "<Figure size 640x480 with 1 Axes>"
      ]
     },
     "metadata": {},
     "output_type": "display_data"
    }
   ],
   "source": [
    "plt.plot(cnn_model_history.history['loss'])\n",
    "plt.plot(cnn_model_history.history['val_loss'])\n",
    "plt.legend([\"loss\",\"val_loss\"])\n",
    "plt.title('Loss Vs Val_Loss')\n",
    "plt.xlabel('Epoch')\n",
    "plt.ylabel('Loss')"
   ]
  },
  {
   "cell_type": "code",
   "execution_count": null,
   "id": "6dee4c21",
   "metadata": {},
   "outputs": [],
   "source": []
  },
  {
   "cell_type": "code",
   "execution_count": null,
   "id": "412a8ebd",
   "metadata": {},
   "outputs": [],
   "source": []
  },
  {
   "cell_type": "code",
   "execution_count": null,
   "id": "cddf5c27",
   "metadata": {},
   "outputs": [],
   "source": []
  },
  {
   "cell_type": "code",
   "execution_count": null,
   "id": "8cf8e3a0",
   "metadata": {},
   "outputs": [],
   "source": []
  }
 ],
 "metadata": {
  "kernelspec": {
   "display_name": "Python 3 (ipykernel)",
   "language": "python",
   "name": "python3"
  },
  "language_info": {
   "codemirror_mode": {
    "name": "ipython",
    "version": 3
   },
   "file_extension": ".py",
   "mimetype": "text/x-python",
   "name": "python",
   "nbconvert_exporter": "python",
   "pygments_lexer": "ipython3",
   "version": "3.9.16"
  }
 },
 "nbformat": 4,
 "nbformat_minor": 5
}
